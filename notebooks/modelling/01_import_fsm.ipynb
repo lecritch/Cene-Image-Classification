{
 "cells": [
  {
   "cell_type": "markdown",
   "metadata": {},
   "source": [
    "# Import Image Data and Generate FSM\n",
    "\n",
    "In this notebook, I will import my images using Keras image generator and then create a first simple model using a sequential CNN with one hidden layer.  "
   ]
  },
  {
   "cell_type": "markdown",
   "metadata": {},
   "source": [
    "### Imports"
   ]
  },
  {
   "cell_type": "code",
   "execution_count": 17,
   "metadata": {},
   "outputs": [],
   "source": [
    "# imports\n",
    "import os\n",
    "import numpy as np\n",
    "from PIL import Image\n",
    "import matplotlib.pyplot as plt\n",
    "%matplotlib inline\n",
    "\n",
    "from keras.preprocessing.image import ImageDataGenerator, img_to_array, load_img\n",
    "\n",
    "# turn off warnings\n",
    "import warnings\n",
    "warnings.filterwarnings('ignore', category = DeprecationWarning)\n",
    "warnings.filterwarnings('ignore', category = FutureWarning)\n",
    "\n",
    "# modelling\n",
    "from keras.models import Sequential, save_model\n",
    "from keras.layers import Dense, Flatten\n",
    "\n",
    "# variable to root directory\n",
    "parent_dir = '../../'"
   ]
  },
  {
   "cell_type": "code",
   "execution_count": 14,
   "metadata": {},
   "outputs": [],
   "source": [
    "# plot params:\n",
    "plt.rcParams['axes.edgecolor'] = 'white'\n",
    "plt.rcParams['axes.titlesize'] = 20\n",
    "plt.rcParams['axes.labelsize'] = 18\n",
    "plt.rcParams['xtick.labelsize'] = 12\n",
    "plt.rcParams['ytick.labelsize'] = 12\n",
    "plt.rcParams['figure.figsize'] = [10, 8]\n",
    "plt.rcParams['savefig.directory'] = parent_dir + '/figures/'"
   ]
  },
  {
   "cell_type": "code",
   "execution_count": 2,
   "metadata": {},
   "outputs": [],
   "source": [
    "# create data generator object\n",
    "datagen = ImageDataGenerator(validation_split = 0.2)"
   ]
  },
  {
   "cell_type": "code",
   "execution_count": 3,
   "metadata": {},
   "outputs": [
    {
     "name": "stdout",
     "output_type": "stream",
     "text": [
      "Found 8986 images belonging to 6 classes.\n",
      "Found 2244 images belonging to 6 classes.\n",
      "Found 3000 images belonging to 6 classes.\n"
     ]
    }
   ],
   "source": [
    "# import data\n",
    "train_gen = datagen.flow_from_directory(parent_dir + 'data/seg_train/',\n",
    "                                         batch_size = 64, subset = 'training')\n",
    "\n",
    "val_gen = datagen.flow_from_directory(parent_dir + 'data/seg_train/', \n",
    "                                     batch_size = 64, subset = 'validation')\n",
    "test_gen = datagen.flow_from_directory(parent_dir + 'data/seg_test/', \n",
    "                                        batch_size = 64)"
   ]
  },
  {
   "cell_type": "code",
   "execution_count": 4,
   "metadata": {},
   "outputs": [],
   "source": [
    "image_, label_ = next(train_gen)"
   ]
  },
  {
   "cell_type": "code",
   "execution_count": 5,
   "metadata": {},
   "outputs": [
    {
     "data": {
      "text/plain": [
       "(64, 6)"
      ]
     },
     "execution_count": 5,
     "metadata": {},
     "output_type": "execute_result"
    }
   ],
   "source": [
    "label_.shape"
   ]
  },
  {
   "cell_type": "code",
   "execution_count": 6,
   "metadata": {},
   "outputs": [],
   "source": [
    "path = parent_dir + 'data/seg_train/forest'\n",
    "training_images = os.listdir(path)\n",
    "training_array = []\n",
    "for idx, image in enumerate(training_images):\n",
    "    \n",
    "    image_single_import = os.path.join(path, training_images[idx])\n",
    "  \n",
    "    image = Image.open(image_single_import)\n",
    "    pixel  = np.asarray(image)\n",
    "    training_array.append(pixel)"
   ]
  },
  {
   "cell_type": "code",
   "execution_count": 7,
   "metadata": {},
   "outputs": [
    {
     "data": {
      "text/plain": [
       "(150, 150, 3)"
      ]
     },
     "execution_count": 7,
     "metadata": {},
     "output_type": "execute_result"
    }
   ],
   "source": [
    "pixel.shape"
   ]
  },
  {
   "cell_type": "code",
   "execution_count": 8,
   "metadata": {},
   "outputs": [
    {
     "data": {
      "text/plain": [
       "{'buildings': 0,\n",
       " 'forest': 1,\n",
       " 'glacier': 2,\n",
       " 'mountain': 3,\n",
       " 'sea': 4,\n",
       " 'street': 5}"
      ]
     },
     "execution_count": 8,
     "metadata": {},
     "output_type": "execute_result"
    }
   ],
   "source": [
    "train_gen.class_indices"
   ]
  },
  {
   "cell_type": "markdown",
   "metadata": {},
   "source": [
    "This is the result we expected so we assume this was done correctly.  "
   ]
  },
  {
   "cell_type": "markdown",
   "metadata": {},
   "source": [
    "Check the shape of the datasets:"
   ]
  },
  {
   "cell_type": "markdown",
   "metadata": {},
   "source": [
    "## FSM:  Basic CNN Model"
   ]
  },
  {
   "cell_type": "markdown",
   "metadata": {},
   "source": [
    "### Metric Discussion\n",
    "\n",
    "Our aim for this model is that it classifies images as accurately as possible.  There is no real preference towards seeing less false negatives over false positives and visa versa since both means that it was a mis-classification either way, which we don't want.  For this reason, we will choose to optimise for accuracy.  "
   ]
  },
  {
   "cell_type": "code",
   "execution_count": 9,
   "metadata": {},
   "outputs": [],
   "source": [
    "# create sequential model object:\n",
    "fsm = Sequential()\n",
    "\n",
    "# flatten shape to 100x100\n",
    "fsm.add(Flatten(input_shape = (256, 256, 3)))\n",
    "\n",
    "# create input layer:\n",
    "fsm.add(Dense(units = 64, activation = 'relu', input_shape = (256, 3)))\n",
    "\n",
    "# create 1 hidden layer:\n",
    "fsm.add(Dense(units = 128, activation = 'relu'))\n",
    "\n",
    "# create output layer:\n",
    "fsm.add(Dense(units = 6, activation = 'softmax'))\n",
    "\n",
    "# compile the model:\n",
    "fsm.compile(loss = 'categorical_crossentropy', optimizer = 'adam', metrics = ['accuracy'])"
   ]
  },
  {
   "cell_type": "code",
   "execution_count": 10,
   "metadata": {},
   "outputs": [
    {
     "name": "stdout",
     "output_type": "stream",
     "text": [
      "_________________________________________________________________\n",
      "Layer (type)                 Output Shape              Param #   \n",
      "=================================================================\n",
      "flatten_1 (Flatten)          (None, 196608)            0         \n",
      "_________________________________________________________________\n",
      "dense_1 (Dense)              (None, 64)                12582976  \n",
      "_________________________________________________________________\n",
      "dense_2 (Dense)              (None, 128)               8320      \n",
      "_________________________________________________________________\n",
      "dense_3 (Dense)              (None, 6)                 774       \n",
      "=================================================================\n",
      "Total params: 12,592,070\n",
      "Trainable params: 12,592,070\n",
      "Non-trainable params: 0\n",
      "_________________________________________________________________\n"
     ]
    }
   ],
   "source": [
    "fsm.summary()"
   ]
  },
  {
   "cell_type": "code",
   "execution_count": 11,
   "metadata": {},
   "outputs": [
    {
     "name": "stdout",
     "output_type": "stream",
     "text": [
      "Epoch 1/4\n",
      "141/141 [==============================] - 35s 251ms/step - loss: 13.3600 - acc: 0.1710 - val_loss: 13.3599 - val_acc: 0.1711\n",
      "Epoch 2/4\n",
      "141/141 [==============================] - 35s 246ms/step - loss: 13.3622 - acc: 0.1710 - val_loss: 13.3599 - val_acc: 0.1711\n",
      "Epoch 3/4\n",
      "141/141 [==============================] - 34s 239ms/step - loss: 13.3544 - acc: 0.1715 - val_loss: 13.3599 - val_acc: 0.1711\n",
      "Epoch 4/4\n",
      "141/141 [==============================] - 34s 241ms/step - loss: 13.3544 - acc: 0.1715 - val_loss: 13.3599 - val_acc: 0.1711\n"
     ]
    }
   ],
   "source": [
    "fsm_results = fsm.fit_generator(train_gen, epochs = 4, validation_data = val_gen)"
   ]
  },
  {
   "cell_type": "code",
   "execution_count": 15,
   "metadata": {},
   "outputs": [
    {
     "data": {
      "image/png": "[encoded data removed]",
      "text/plain": [
       "<Figure size 720x576 with 1 Axes>"
      ]
     },
     "metadata": {
      "needs_background": "light"
     },
     "output_type": "display_data"
    },
    {
     "data": {
      "image/png": "[encoded data removed]",
      "text/plain": [
       "<Figure size 720x576 with 1 Axes>"
      ]
     },
     "metadata": {
      "needs_background": "light"
     },
     "output_type": "display_data"
    }
   ],
   "source": [
    "history = fsm_results.history\n",
    "plt.figure(figsize = (10, 8))\n",
    "plt.plot(history['val_loss'])\n",
    "plt.plot(history['loss'])\n",
    "plt.legend(['val_loss', 'loss'])\n",
    "plt.title('FSM Loss')\n",
    "plt.xlabel('Epochs')\n",
    "plt.ylabel('Loss')\n",
    "plt.savefig(parent_dir + 'figures/fsm_loss')\n",
    "plt.show();\n",
    "\n",
    "plt.figure(figsize = (10, 8))\n",
    "plt.plot(history['val_acc'])\n",
    "plt.plot(history['acc'])\n",
    "plt.legend(['val_acc', 'acc'])\n",
    "plt.title('FSM Accuracy')\n",
    "plt.xlabel('Epochs')\n",
    "plt.ylabel('Accuracy')\n",
    "plt.savefig(parent_dir + 'figures/fsm_accuracy')\n",
    "plt.show();"
   ]
  },
  {
   "cell_type": "code",
   "execution_count": 13,
   "metadata": {
    "collapsed": true,
    "jupyter": {
     "outputs_hidden": true
    }
   },
   "outputs": [
    {
     "data": {
      "image/png": "[encoded data removed]",
      "text/plain": [
       "<Figure size 720x576 with 1 Axes>"
      ]
     },
     "metadata": {
      "needs_background": "light"
     },
     "output_type": "display_data"
    },
    {
     "data": {
      "image/png": "[encoded data removed]",
      "text/plain": [
       "<Figure size 720x576 with 1 Axes>"
      ]
     },
     "metadata": {
      "needs_background": "light"
     },
     "output_type": "display_data"
    }
   ],
   "source": [
    "visualize_training_results(fsm_results)"
   ]
  },
  {
   "cell_type": "code",
   "execution_count": 134,
   "metadata": {},
   "outputs": [
    {
     "data": {
      "text/plain": [
       "{'val_loss': [13.23247352170196,\n",
       "  13.232473456400438,\n",
       "  13.232473653665453,\n",
       "  13.232473587003483],\n",
       " 'val_acc': [0.17902995731027932,\n",
       "  0.1790299572252513,\n",
       "  0.17902995728902232,\n",
       "  0.1790299572252513],\n",
       " 'loss': [13.222067534191101,\n",
       "  13.233200328857476,\n",
       "  13.233200379471002,\n",
       "  13.23320033700999],\n",
       " 'acc': [0.17943009795987597,\n",
       "  0.17898486197950153,\n",
       "  0.17898486201400113,\n",
       "  0.1789848619901168]}"
      ]
     },
     "execution_count": 134,
     "metadata": {},
     "output_type": "execute_result"
    }
   ],
   "source": [
    "fsm_results.history"
   ]
  },
  {
   "cell_type": "markdown",
   "metadata": {},
   "source": [
    "## Evaluation\n",
    "\n",
    "So we see here that this fsm did quite terribly.  The results did not improve over the epochs - 1 epoch would have been sufficient for these results.  It is also noted that the validation set did not improve, or in fact, move at all.  \n",
    "\n",
    "I will now do some EDA to explore my image dataset further and then continue to iterate upon this model by scaling the data generator, adding more layers and trying different layers other than Dense.  I will also tune the hyperparameters as appropriate. "
   ]
  },
  {
   "cell_type": "code",
   "execution_count": 22,
   "metadata": {},
   "outputs": [
    {
     "name": "stdout",
     "output_type": "stream",
     "text": [
      "1123/1123 [==============================] - 1s 1ms/step\n"
     ]
    }
   ],
   "source": [
    "results_train = model2.evaluate(train_img, train_y)"
   ]
  },
  {
   "cell_type": "code",
   "execution_count": 23,
   "metadata": {},
   "outputs": [
    {
     "name": "stdout",
     "output_type": "stream",
     "text": [
      "300/300 [==============================] - 0s 1ms/step\n"
     ]
    }
   ],
   "source": [
    "results_test = model2.evaluate(test_img, test_y)"
   ]
  },
  {
   "cell_type": "markdown",
   "metadata": {},
   "source": [
    "Now, comparing our results between train and test:"
   ]
  },
  {
   "cell_type": "code",
   "execution_count": 24,
   "metadata": {},
   "outputs": [
    {
     "name": "stdout",
     "output_type": "stream",
     "text": [
      "Train loss/accuracy:  [2.6265465776939423, 0.8370436331255565]\n",
      "Test loss/accuracy:  [1.7729909483591715, 0.8899999992052714]\n"
     ]
    }
   ],
   "source": [
    "print(f'Train loss/accuracy:  {results_train}')\n",
    "print(f'Test loss/accuracy:  {results_test}')"
   ]
  },
  {
   "cell_type": "code",
   "execution_count": 18,
   "metadata": {},
   "outputs": [],
   "source": [
    "save_model(fsm, filepath = parent_dir + 'models/fsm', \n",
    "           overwrite = True, include_optimizer = True)"
   ]
  },
  {
   "cell_type": "code",
   "execution_count": null,
   "metadata": {},
   "outputs": [],
   "source": []
  }
 ],
 "metadata": {
  "kernelspec": {
   "display_name": "learn-env",
   "language": "python",
   "name": "learn-env"
  },
  "language_info": {
   "codemirror_mode": {
    "name": "ipython",
    "version": 3
   },
   "file_extension": ".py",
   "mimetype": "text/x-python",
   "name": "python",
   "nbconvert_exporter": "python",
   "pygments_lexer": "ipython3",
   "version": "3.6.9"
  }
 },
 "nbformat": 4,
 "nbformat_minor": 4
}
