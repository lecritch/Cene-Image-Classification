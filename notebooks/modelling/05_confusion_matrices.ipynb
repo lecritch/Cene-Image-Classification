{
 "cells": [
  {
   "cell_type": "code",
   "execution_count": 12,
   "metadata": {},
   "outputs": [],
   "source": [
    "# modelling\n",
    "from keras.models import save_model, load_model\n",
    "from keras.preprocessing.image import ImageDataGenerator\n",
    "\n",
    "import numpy as np\n",
    "\n",
    "from sklearn.metrics import confusion_matrix\n",
    "\n",
    "parent_dir = '../../'"
   ]
  },
  {
   "cell_type": "code",
   "execution_count": 2,
   "metadata": {},
   "outputs": [],
   "source": [
    "model2 = load_model(parent_dir + 'models/model2', custom_objects = None, compile = True)"
   ]
  },
  {
   "cell_type": "code",
   "execution_count": 3,
   "metadata": {},
   "outputs": [],
   "source": [
    "val_folder = parent_dir + 'data/seg_val/'\n",
    "test_folder = parent_dir + 'data/seg_test/'\n",
    "train_folder = parent_dir + 'data/seg_train/'"
   ]
  },
  {
   "cell_type": "code",
   "execution_count": 53,
   "metadata": {},
   "outputs": [
    {
     "name": "stdout",
     "output_type": "stream",
     "text": [
      "Found 3000 images belonging to 6 classes.\n",
      "Found 11237 images belonging to 6 classes.\n",
      "Found 2804 images belonging to 6 classes.\n"
     ]
    }
   ],
   "source": [
    "# test generator:\n",
    "test_gen = ImageDataGenerator(rescale = 1. / 255).flow_from_directory(test_folder, batch_size = 300)\n",
    "\n",
    "# train generator:\n",
    "train_gen = ImageDataGenerator(rescale = 1. / 255).flow_from_directory(train_folder, batch_size = 1123)\n",
    "\n",
    "# val generator:\n",
    "val_gen = ImageDataGenerator(rescale = 1. / 255).flow_from_directory(val_folder, batch_size = 280)"
   ]
  },
  {
   "cell_type": "code",
   "execution_count": 54,
   "metadata": {},
   "outputs": [],
   "source": [
    "# create the data sets\n",
    "train_images, train_labels = next(train_gen)\n",
    "test_images, test_labels = next(test_gen)\n",
    "val_images, val_labels = next(val_gen)"
   ]
  },
  {
   "cell_type": "code",
   "execution_count": 16,
   "metadata": {},
   "outputs": [],
   "source": [
    "train_img = train_images.reshape(train_images.shape[0], -1)\n",
    "test_img = test_images.reshape(test_images.shape[0], -1)\n",
    "val_img = val_images.reshape(val_images.shape[0], -1)\n"
   ]
  },
  {
   "cell_type": "code",
   "execution_count": 17,
   "metadata": {},
   "outputs": [],
   "source": [
    "train_y = np.reshape(train_labels[:,0], (1123, 1))\n",
    "test_y = np.reshape(test_labels[:,0], (300, 1))\n",
    "val_y = np.reshape(val_labels[:,0], (280, 1))"
   ]
  },
  {
   "cell_type": "markdown",
   "metadata": {},
   "source": [
    "Model 2 predictions on `test_img`"
   ]
  },
  {
   "cell_type": "code",
   "execution_count": 56,
   "metadata": {},
   "outputs": [
    {
     "data": {
      "text/plain": [
       "array([[1., 0., 0., 0., 0., 0.],\n",
       "       [1., 0., 0., 0., 0., 0.],\n",
       "       [1., 0., 0., 0., 0., 0.],\n",
       "       ...,\n",
       "       [1., 0., 0., 0., 0., 0.],\n",
       "       [1., 0., 0., 0., 0., 0.],\n",
       "       [1., 0., 0., 0., 0., 0.]], dtype=float32)"
      ]
     },
     "execution_count": 56,
     "metadata": {},
     "output_type": "execute_result"
    }
   ],
   "source": [
    "model2.predict(test_img)"
   ]
  },
  {
   "cell_type": "code",
   "execution_count": 57,
   "metadata": {},
   "outputs": [],
   "source": [
    "preds = model2.predict(test_img)"
   ]
  },
  {
   "cell_type": "code",
   "execution_count": 49,
   "metadata": {},
   "outputs": [],
   "source": [
    "y_hat = np.argmax(preds, axis = 0)"
   ]
  },
  {
   "cell_type": "code",
   "execution_count": 50,
   "metadata": {},
   "outputs": [
    {
     "data": {
      "text/plain": [
       "array([  0, 111,   0, 111, 111,   0])"
      ]
     },
     "execution_count": 50,
     "metadata": {},
     "output_type": "execute_result"
    }
   ],
   "source": [
    "y_hat"
   ]
  },
  {
   "cell_type": "code",
   "execution_count": 45,
   "metadata": {},
   "outputs": [],
   "source": [
    "y_true = np.argmax(test_y, axis = 1)"
   ]
  },
  {
   "cell_type": "code",
   "execution_count": 46,
   "metadata": {},
   "outputs": [
    {
     "data": {
      "text/plain": [
       "array([0, 0, 0, 0, 0, 0, 0, 0, 0, 0, 0, 0, 0, 0, 0, 0, 0, 0, 0, 0, 0, 0,\n",
       "       0, 0, 0, 0, 0, 0, 0, 0, 0, 0, 0, 0, 0, 0, 0, 0, 0, 0, 0, 0, 0, 0,\n",
       "       0, 0, 0, 0, 0, 0, 0, 0, 0, 0, 0, 0, 0, 0, 0, 0, 0, 0, 0, 0, 0, 0,\n",
       "       0, 0, 0, 0, 0, 0, 0, 0, 0, 0, 0, 0, 0, 0, 0, 0, 0, 0, 0, 0, 0, 0,\n",
       "       0, 0, 0, 0, 0, 0, 0, 0, 0, 0, 0, 0, 0, 0, 0, 0, 0, 0, 0, 0, 0, 0,\n",
       "       0, 0, 0, 0, 0, 0, 0, 0, 0, 0, 0, 0, 0, 0, 0, 0, 0, 0, 0, 0, 0, 0,\n",
       "       0, 0, 0, 0, 0, 0, 0, 0, 0, 0, 0, 0, 0, 0, 0, 0, 0, 0, 0, 0, 0, 0,\n",
       "       0, 0, 0, 0, 0, 0, 0, 0, 0, 0, 0, 0, 0, 0, 0, 0, 0, 0, 0, 0, 0, 0,\n",
       "       0, 0, 0, 0, 0, 0, 0, 0, 0, 0, 0, 0, 0, 0, 0, 0, 0, 0, 0, 0, 0, 0,\n",
       "       0, 0, 0, 0, 0, 0, 0, 0, 0, 0, 0, 0, 0, 0, 0, 0, 0, 0, 0, 0, 0, 0,\n",
       "       0, 0, 0, 0, 0, 0, 0, 0, 0, 0, 0, 0, 0, 0, 0, 0, 0, 0, 0, 0, 0, 0,\n",
       "       0, 0, 0, 0, 0, 0, 0, 0, 0, 0, 0, 0, 0, 0, 0, 0, 0, 0, 0, 0, 0, 0,\n",
       "       0, 0, 0, 0, 0, 0, 0, 0, 0, 0, 0, 0, 0, 0, 0, 0, 0, 0, 0, 0, 0, 0,\n",
       "       0, 0, 0, 0, 0, 0, 0, 0, 0, 0, 0, 0, 0, 0])"
      ]
     },
     "execution_count": 46,
     "metadata": {},
     "output_type": "execute_result"
    }
   ],
   "source": [
    "y_true"
   ]
  },
  {
   "cell_type": "code",
   "execution_count": 47,
   "metadata": {
    "collapsed": true,
    "jupyter": {
     "outputs_hidden": true
    }
   },
   "outputs": [
    {
     "data": {
      "text/plain": [
       "array([[0.],\n",
       "       [0.],\n",
       "       [0.],\n",
       "       [0.],\n",
       "       [1.],\n",
       "       [1.],\n",
       "       [0.],\n",
       "       [0.],\n",
       "       [0.],\n",
       "       [1.],\n",
       "       [0.],\n",
       "       [1.],\n",
       "       [0.],\n",
       "       [0.],\n",
       "       [0.],\n",
       "       [1.],\n",
       "       [0.],\n",
       "       [0.],\n",
       "       [0.],\n",
       "       [0.],\n",
       "       [0.],\n",
       "       [0.],\n",
       "       [0.],\n",
       "       [0.],\n",
       "       [0.],\n",
       "       [0.],\n",
       "       [0.],\n",
       "       [0.],\n",
       "       [0.],\n",
       "       [0.],\n",
       "       [0.],\n",
       "       [0.],\n",
       "       [0.],\n",
       "       [0.],\n",
       "       [1.],\n",
       "       [1.],\n",
       "       [0.],\n",
       "       [0.],\n",
       "       [0.],\n",
       "       [1.],\n",
       "       [0.],\n",
       "       [0.],\n",
       "       [0.],\n",
       "       [0.],\n",
       "       [0.],\n",
       "       [0.],\n",
       "       [1.],\n",
       "       [0.],\n",
       "       [1.],\n",
       "       [0.],\n",
       "       [0.],\n",
       "       [0.],\n",
       "       [0.],\n",
       "       [0.],\n",
       "       [0.],\n",
       "       [0.],\n",
       "       [1.],\n",
       "       [0.],\n",
       "       [0.],\n",
       "       [0.],\n",
       "       [0.],\n",
       "       [0.],\n",
       "       [1.],\n",
       "       [1.],\n",
       "       [1.],\n",
       "       [0.],\n",
       "       [0.],\n",
       "       [0.],\n",
       "       [1.],\n",
       "       [0.],\n",
       "       [0.],\n",
       "       [0.],\n",
       "       [0.],\n",
       "       [0.],\n",
       "       [0.],\n",
       "       [0.],\n",
       "       [0.],\n",
       "       [1.],\n",
       "       [0.],\n",
       "       [0.],\n",
       "       [0.],\n",
       "       [0.],\n",
       "       [1.],\n",
       "       [0.],\n",
       "       [0.],\n",
       "       [0.],\n",
       "       [0.],\n",
       "       [0.],\n",
       "       [0.],\n",
       "       [0.],\n",
       "       [0.],\n",
       "       [0.],\n",
       "       [1.],\n",
       "       [0.],\n",
       "       [0.],\n",
       "       [0.],\n",
       "       [1.],\n",
       "       [0.],\n",
       "       [0.],\n",
       "       [0.],\n",
       "       [0.],\n",
       "       [0.],\n",
       "       [0.],\n",
       "       [0.],\n",
       "       [0.],\n",
       "       [0.],\n",
       "       [0.],\n",
       "       [0.],\n",
       "       [0.],\n",
       "       [0.],\n",
       "       [0.],\n",
       "       [0.],\n",
       "       [0.],\n",
       "       [0.],\n",
       "       [1.],\n",
       "       [0.],\n",
       "       [1.],\n",
       "       [0.],\n",
       "       [0.],\n",
       "       [0.],\n",
       "       [1.],\n",
       "       [0.],\n",
       "       [0.],\n",
       "       [0.],\n",
       "       [0.],\n",
       "       [0.],\n",
       "       [0.],\n",
       "       [0.],\n",
       "       [0.],\n",
       "       [0.],\n",
       "       [1.],\n",
       "       [0.],\n",
       "       [0.],\n",
       "       [1.],\n",
       "       [0.],\n",
       "       [0.],\n",
       "       [0.],\n",
       "       [0.],\n",
       "       [0.],\n",
       "       [0.],\n",
       "       [0.],\n",
       "       [0.],\n",
       "       [0.],\n",
       "       [0.],\n",
       "       [0.],\n",
       "       [0.],\n",
       "       [0.],\n",
       "       [0.],\n",
       "       [1.],\n",
       "       [1.],\n",
       "       [0.],\n",
       "       [0.],\n",
       "       [0.],\n",
       "       [0.],\n",
       "       [0.],\n",
       "       [0.],\n",
       "       [0.],\n",
       "       [1.],\n",
       "       [0.],\n",
       "       [0.],\n",
       "       [0.],\n",
       "       [0.],\n",
       "       [0.],\n",
       "       [0.],\n",
       "       [0.],\n",
       "       [0.],\n",
       "       [0.],\n",
       "       [0.],\n",
       "       [0.],\n",
       "       [0.],\n",
       "       [0.],\n",
       "       [0.],\n",
       "       [1.],\n",
       "       [0.],\n",
       "       [0.],\n",
       "       [1.],\n",
       "       [0.],\n",
       "       [0.],\n",
       "       [0.],\n",
       "       [0.],\n",
       "       [0.],\n",
       "       [1.],\n",
       "       [0.],\n",
       "       [0.],\n",
       "       [0.],\n",
       "       [0.],\n",
       "       [0.],\n",
       "       [0.],\n",
       "       [0.],\n",
       "       [0.],\n",
       "       [1.],\n",
       "       [0.],\n",
       "       [0.],\n",
       "       [0.],\n",
       "       [0.],\n",
       "       [0.],\n",
       "       [1.],\n",
       "       [0.],\n",
       "       [0.],\n",
       "       [0.],\n",
       "       [0.],\n",
       "       [0.],\n",
       "       [0.],\n",
       "       [0.],\n",
       "       [0.],\n",
       "       [0.],\n",
       "       [0.],\n",
       "       [0.],\n",
       "       [1.],\n",
       "       [1.],\n",
       "       [0.],\n",
       "       [0.],\n",
       "       [0.],\n",
       "       [0.],\n",
       "       [0.],\n",
       "       [0.],\n",
       "       [0.],\n",
       "       [0.],\n",
       "       [0.],\n",
       "       [0.],\n",
       "       [0.],\n",
       "       [0.],\n",
       "       [0.],\n",
       "       [0.],\n",
       "       [0.],\n",
       "       [0.],\n",
       "       [0.],\n",
       "       [0.],\n",
       "       [0.],\n",
       "       [0.],\n",
       "       [1.],\n",
       "       [1.],\n",
       "       [0.],\n",
       "       [0.],\n",
       "       [0.],\n",
       "       [0.],\n",
       "       [0.],\n",
       "       [1.],\n",
       "       [0.],\n",
       "       [0.],\n",
       "       [0.],\n",
       "       [0.],\n",
       "       [0.],\n",
       "       [0.],\n",
       "       [0.],\n",
       "       [0.],\n",
       "       [0.],\n",
       "       [0.],\n",
       "       [0.],\n",
       "       [0.],\n",
       "       [1.],\n",
       "       [0.],\n",
       "       [0.],\n",
       "       [0.],\n",
       "       [0.],\n",
       "       [0.],\n",
       "       [0.],\n",
       "       [0.],\n",
       "       [0.],\n",
       "       [0.],\n",
       "       [0.],\n",
       "       [0.],\n",
       "       [0.],\n",
       "       [0.],\n",
       "       [0.],\n",
       "       [0.],\n",
       "       [0.],\n",
       "       [0.],\n",
       "       [0.],\n",
       "       [0.],\n",
       "       [0.],\n",
       "       [0.],\n",
       "       [0.],\n",
       "       [0.],\n",
       "       [0.],\n",
       "       [0.],\n",
       "       [1.],\n",
       "       [0.],\n",
       "       [0.],\n",
       "       [0.],\n",
       "       [0.],\n",
       "       [0.],\n",
       "       [0.],\n",
       "       [0.],\n",
       "       [0.],\n",
       "       [0.],\n",
       "       [0.],\n",
       "       [0.],\n",
       "       [0.],\n",
       "       [0.],\n",
       "       [0.],\n",
       "       [0.],\n",
       "       [1.],\n",
       "       [0.],\n",
       "       [1.],\n",
       "       [1.],\n",
       "       [0.],\n",
       "       [0.],\n",
       "       [0.],\n",
       "       [0.]], dtype=float32)"
      ]
     },
     "execution_count": 47,
     "metadata": {},
     "output_type": "execute_result"
    }
   ],
   "source": [
    "test_y"
   ]
  },
  {
   "cell_type": "code",
   "execution_count": 9,
   "metadata": {},
   "outputs": [
    {
     "data": {
      "text/plain": [
       "array([0, 0, 0, ..., 5, 5, 5], dtype=int32)"
      ]
     },
     "execution_count": 9,
     "metadata": {},
     "output_type": "execute_result"
    }
   ],
   "source": [
    "train_gen.labels"
   ]
  },
  {
   "cell_type": "code",
   "execution_count": 11,
   "metadata": {},
   "outputs": [
    {
     "data": {
      "text/plain": [
       "(11237,)"
      ]
     },
     "execution_count": 11,
     "metadata": {},
     "output_type": "execute_result"
    }
   ],
   "source": [
    "train_gen.labels.shape"
   ]
  },
  {
   "cell_type": "code",
   "execution_count": 14,
   "metadata": {},
   "outputs": [
    {
     "data": {
      "text/plain": [
       "(299, 299, 3)"
      ]
     },
     "execution_count": 14,
     "metadata": {},
     "output_type": "execute_result"
    }
   ],
   "source": [
    "train_gen.image_shape"
   ]
  },
  {
   "cell_type": "code",
   "execution_count": 15,
   "metadata": {},
   "outputs": [
    {
     "data": {
      "text/plain": [
       "array([0, 0, 0, ..., 5, 5, 5], dtype=int32)"
      ]
     },
     "execution_count": 15,
     "metadata": {},
     "output_type": "execute_result"
    }
   ],
   "source": [
    "train_gen.classes"
   ]
  },
  {
   "cell_type": "code",
   "execution_count": 16,
   "metadata": {},
   "outputs": [
    {
     "data": {
      "text/plain": [
       "(11237,)"
      ]
     },
     "execution_count": 16,
     "metadata": {},
     "output_type": "execute_result"
    }
   ],
   "source": [
    "train_gen.classes.shape"
   ]
  },
  {
   "cell_type": "code",
   "execution_count": 17,
   "metadata": {
    "collapsed": true,
    "jupyter": {
     "outputs_hidden": true
    }
   },
   "outputs": [
    {
     "data": {
      "text/plain": [
       "['buildings/0.jpg',\n",
       " 'buildings/10006.jpg',\n",
       " 'buildings/1001.jpg',\n",
       " 'buildings/10014.jpg',\n",
       " 'buildings/10029.jpg',\n",
       " 'buildings/10032.jpg',\n",
       " 'buildings/10056.jpg',\n",
       " 'buildings/1009.jpg',\n",
       " 'buildings/1012.jpg',\n",
       " 'buildings/10126.jpg',\n",
       " 'buildings/10161.jpg',\n",
       " 'buildings/10176.jpg',\n",
       " 'buildings/10185.jpg',\n",
       " 'buildings/10196.jpg',\n",
       " 'buildings/10198.jpg',\n",
       " 'buildings/10205.jpg',\n",
       " 'buildings/10210.jpg',\n",
       " 'buildings/10231.jpg',\n",
       " 'buildings/10251.jpg',\n",
       " 'buildings/10252.jpg',\n",
       " 'buildings/10257.jpg',\n",
       " 'buildings/10266.jpg',\n",
       " 'buildings/10278.jpg',\n",
       " 'buildings/10295.jpg',\n",
       " 'buildings/10303.jpg',\n",
       " 'buildings/10306.jpg',\n",
       " 'buildings/10310.jpg',\n",
       " 'buildings/10312.jpg',\n",
       " 'buildings/10316.jpg',\n",
       " 'buildings/10318.jpg',\n",
       " 'buildings/10328.jpg',\n",
       " 'buildings/10350.jpg',\n",
       " 'buildings/10357.jpg',\n",
       " 'buildings/10362.jpg',\n",
       " 'buildings/10367.jpg',\n",
       " 'buildings/10374.jpg',\n",
       " 'buildings/10402.jpg',\n",
       " 'buildings/1041.jpg',\n",
       " 'buildings/10421.jpg',\n",
       " 'buildings/10444.jpg',\n",
       " 'buildings/10452.jpg',\n",
       " 'buildings/10466.jpg',\n",
       " 'buildings/10480.jpg',\n",
       " 'buildings/10485.jpg',\n",
       " 'buildings/10489.jpg',\n",
       " 'buildings/10495.jpg',\n",
       " 'buildings/10499.jpg',\n",
       " 'buildings/10500.jpg',\n",
       " 'buildings/10502.jpg',\n",
       " 'buildings/10511.jpg',\n",
       " 'buildings/10520.jpg',\n",
       " 'buildings/10528.jpg',\n",
       " 'buildings/1055.jpg',\n",
       " 'buildings/10553.jpg',\n",
       " 'buildings/10570.jpg',\n",
       " 'buildings/1058.jpg',\n",
       " 'buildings/10598.jpg',\n",
       " 'buildings/10608.jpg',\n",
       " 'buildings/10626.jpg',\n",
       " 'buildings/10630.jpg',\n",
       " 'buildings/1064.jpg',\n",
       " 'buildings/10646.jpg',\n",
       " 'buildings/10653.jpg',\n",
       " 'buildings/10656.jpg',\n",
       " 'buildings/10695.jpg',\n",
       " 'buildings/10699.jpg',\n",
       " 'buildings/10717.jpg',\n",
       " 'buildings/10720.jpg',\n",
       " 'buildings/10730.jpg',\n",
       " 'buildings/10744.jpg',\n",
       " 'buildings/10754.jpg',\n",
       " 'buildings/10756.jpg',\n",
       " 'buildings/10790.jpg',\n",
       " 'buildings/10798.jpg',\n",
       " 'buildings/10805.jpg',\n",
       " 'buildings/10809.jpg',\n",
       " 'buildings/10812.jpg',\n",
       " 'buildings/10828.jpg',\n",
       " 'buildings/10831.jpg',\n",
       " 'buildings/10832.jpg',\n",
       " 'buildings/10842.jpg',\n",
       " 'buildings/10849.jpg',\n",
       " 'buildings/10865.jpg',\n",
       " 'buildings/10872.jpg',\n",
       " 'buildings/10878.jpg',\n",
       " 'buildings/10886.jpg',\n",
       " 'buildings/10892.jpg',\n",
       " 'buildings/10899.jpg',\n",
       " 'buildings/1090.jpg',\n",
       " 'buildings/10924.jpg',\n",
       " 'buildings/1093.jpg',\n",
       " 'buildings/10936.jpg',\n",
       " 'buildings/10963.jpg',\n",
       " 'buildings/10978.jpg',\n",
       " 'buildings/11011.jpg',\n",
       " 'buildings/11024.jpg',\n",
       " 'buildings/11037.jpg',\n",
       " 'buildings/1104.jpg',\n",
       " 'buildings/11042.jpg',\n",
       " 'buildings/11045.jpg',\n",
       " 'buildings/11054.jpg',\n",
       " 'buildings/11055.jpg',\n",
       " 'buildings/1107.jpg',\n",
       " 'buildings/11077.jpg',\n",
       " 'buildings/11084.jpg',\n",
       " 'buildings/11098.jpg',\n",
       " 'buildings/11108.jpg',\n",
       " 'buildings/11117.jpg',\n",
       " 'buildings/1112.jpg',\n",
       " 'buildings/11131.jpg',\n",
       " 'buildings/11173.jpg',\n",
       " 'buildings/11187.jpg',\n",
       " 'buildings/11197.jpg',\n",
       " 'buildings/112.jpg',\n",
       " 'buildings/11203.jpg',\n",
       " 'buildings/11209.jpg',\n",
       " 'buildings/11226.jpg',\n",
       " 'buildings/11249.jpg',\n",
       " 'buildings/11274.jpg',\n",
       " 'buildings/11278.jpg',\n",
       " 'buildings/11305.jpg',\n",
       " 'buildings/11309.jpg',\n",
       " 'buildings/11316.jpg',\n",
       " 'buildings/11317.jpg',\n",
       " 'buildings/11323.jpg',\n",
       " 'buildings/11334.jpg',\n",
       " 'buildings/11338.jpg',\n",
       " 'buildings/11349.jpg',\n",
       " 'buildings/11371.jpg',\n",
       " 'buildings/11374.jpg',\n",
       " 'buildings/11378.jpg',\n",
       " 'buildings/11410.jpg',\n",
       " 'buildings/11418.jpg',\n",
       " 'buildings/11425.jpg',\n",
       " 'buildings/11471.jpg',\n",
       " 'buildings/11477.jpg',\n",
       " 'buildings/11483.jpg',\n",
       " 'buildings/11494.jpg',\n",
       " 'buildings/11502.jpg',\n",
       " 'buildings/11523.jpg',\n",
       " 'buildings/11560.jpg',\n",
       " 'buildings/11569.jpg',\n",
       " 'buildings/11570.jpg',\n",
       " 'buildings/11594.jpg',\n",
       " 'buildings/11595.jpg',\n",
       " 'buildings/11599.jpg',\n",
       " 'buildings/11601.jpg',\n",
       " 'buildings/11605.jpg',\n",
       " 'buildings/11613.jpg',\n",
       " 'buildings/11620.jpg',\n",
       " 'buildings/11621.jpg',\n",
       " 'buildings/11622.jpg',\n",
       " 'buildings/11627.jpg',\n",
       " 'buildings/11628.jpg',\n",
       " 'buildings/11635.jpg',\n",
       " 'buildings/11642.jpg',\n",
       " 'buildings/11658.jpg',\n",
       " 'buildings/11696.jpg',\n",
       " 'buildings/11700.jpg',\n",
       " 'buildings/11718.jpg',\n",
       " 'buildings/11731.jpg',\n",
       " 'buildings/11780.jpg',\n",
       " 'buildings/11788.jpg',\n",
       " 'buildings/11795.jpg',\n",
       " 'buildings/11796.jpg',\n",
       " 'buildings/11813.jpg',\n",
       " 'buildings/11827.jpg',\n",
       " 'buildings/11855.jpg',\n",
       " 'buildings/11883.jpg',\n",
       " 'buildings/11899.jpg',\n",
       " 'buildings/11910.jpg',\n",
       " 'buildings/11924.jpg',\n",
       " 'buildings/11929.jpg',\n",
       " 'buildings/11937.jpg',\n",
       " 'buildings/11947.jpg',\n",
       " 'buildings/11959.jpg',\n",
       " 'buildings/11961.jpg',\n",
       " 'buildings/11990.jpg',\n",
       " 'buildings/11991.jpg',\n",
       " 'buildings/11992.jpg',\n",
       " 'buildings/11993.jpg',\n",
       " 'buildings/12000.jpg',\n",
       " 'buildings/1201.jpg',\n",
       " 'buildings/12010.jpg',\n",
       " 'buildings/12024.jpg',\n",
       " 'buildings/1204.jpg',\n",
       " 'buildings/12042.jpg',\n",
       " 'buildings/12058.jpg',\n",
       " 'buildings/12060.jpg',\n",
       " 'buildings/12063.jpg',\n",
       " 'buildings/12065.jpg',\n",
       " 'buildings/12091.jpg',\n",
       " 'buildings/12103.jpg',\n",
       " 'buildings/12134.jpg',\n",
       " 'buildings/12157.jpg',\n",
       " 'buildings/12160.jpg',\n",
       " 'buildings/12168.jpg',\n",
       " 'buildings/12171.jpg',\n",
       " 'buildings/12193.jpg',\n",
       " 'buildings/1220.jpg',\n",
       " 'buildings/1221.jpg',\n",
       " 'buildings/12221.jpg',\n",
       " 'buildings/12233.jpg',\n",
       " 'buildings/12244.jpg',\n",
       " 'buildings/12257.jpg',\n",
       " 'buildings/12263.jpg',\n",
       " 'buildings/12265.jpg',\n",
       " 'buildings/12273.jpg',\n",
       " 'buildings/12280.jpg',\n",
       " 'buildings/12288.jpg',\n",
       " 'buildings/12295.jpg',\n",
       " 'buildings/12315.jpg',\n",
       " 'buildings/12330.jpg',\n",
       " 'buildings/12348.jpg',\n",
       " 'buildings/12382.jpg',\n",
       " 'buildings/12393.jpg',\n",
       " 'buildings/12396.jpg',\n",
       " 'buildings/12400.jpg',\n",
       " 'buildings/12406.jpg',\n",
       " 'buildings/12417.jpg',\n",
       " 'buildings/12427.jpg',\n",
       " 'buildings/12432.jpg',\n",
       " 'buildings/12435.jpg',\n",
       " 'buildings/1244.jpg',\n",
       " 'buildings/12451.jpg',\n",
       " 'buildings/12462.jpg',\n",
       " 'buildings/1248.jpg',\n",
       " 'buildings/12494.jpg',\n",
       " 'buildings/125.jpg',\n",
       " 'buildings/12500.jpg',\n",
       " 'buildings/12507.jpg',\n",
       " 'buildings/12517.jpg',\n",
       " 'buildings/12533.jpg',\n",
       " 'buildings/12535.jpg',\n",
       " 'buildings/12543.jpg',\n",
       " 'buildings/12544.jpg',\n",
       " 'buildings/12551.jpg',\n",
       " 'buildings/12552.jpg',\n",
       " 'buildings/12555.jpg',\n",
       " 'buildings/12561.jpg',\n",
       " 'buildings/12590.jpg',\n",
       " 'buildings/12602.jpg',\n",
       " 'buildings/12615.jpg',\n",
       " 'buildings/12617.jpg',\n",
       " 'buildings/1263.jpg',\n",
       " 'buildings/12632.jpg',\n",
       " 'buildings/12636.jpg',\n",
       " 'buildings/12649.jpg',\n",
       " 'buildings/12659.jpg',\n",
       " 'buildings/12668.jpg',\n",
       " 'buildings/12669.jpg',\n",
       " 'buildings/12680.jpg',\n",
       " 'buildings/12685.jpg',\n",
       " 'buildings/12692.jpg',\n",
       " 'buildings/12716.jpg',\n",
       " 'buildings/12719.jpg',\n",
       " 'buildings/12720.jpg',\n",
       " 'buildings/12727.jpg',\n",
       " 'buildings/12729.jpg',\n",
       " 'buildings/1273.jpg',\n",
       " 'buildings/12733.jpg',\n",
       " 'buildings/12734.jpg',\n",
       " 'buildings/12736.jpg',\n",
       " 'buildings/12755.jpg',\n",
       " 'buildings/12761.jpg',\n",
       " 'buildings/12766.jpg',\n",
       " 'buildings/12789.jpg',\n",
       " 'buildings/12827.jpg',\n",
       " 'buildings/12863.jpg',\n",
       " 'buildings/12864.jpg',\n",
       " 'buildings/12874.jpg',\n",
       " 'buildings/12887.jpg',\n",
       " 'buildings/1291.jpg',\n",
       " 'buildings/12913.jpg',\n",
       " 'buildings/12930.jpg',\n",
       " 'buildings/12934.jpg',\n",
       " 'buildings/12938.jpg',\n",
       " 'buildings/12943.jpg',\n",
       " 'buildings/12963.jpg',\n",
       " 'buildings/12973.jpg',\n",
       " 'buildings/12982.jpg',\n",
       " 'buildings/12990.jpg',\n",
       " 'buildings/12996.jpg',\n",
       " 'buildings/12999.jpg',\n",
       " 'buildings/13008.jpg',\n",
       " 'buildings/13010.jpg',\n",
       " 'buildings/13023.jpg',\n",
       " 'buildings/13024.jpg',\n",
       " 'buildings/13027.jpg',\n",
       " 'buildings/1303.jpg',\n",
       " 'buildings/13050.jpg',\n",
       " 'buildings/13079.jpg',\n",
       " 'buildings/1311.jpg',\n",
       " 'buildings/13111.jpg',\n",
       " 'buildings/13124.jpg',\n",
       " 'buildings/13131.jpg',\n",
       " 'buildings/13143.jpg',\n",
       " 'buildings/1317.jpg',\n",
       " 'buildings/13170.jpg',\n",
       " 'buildings/13171.jpg',\n",
       " 'buildings/13183.jpg',\n",
       " 'buildings/13184.jpg',\n",
       " 'buildings/13188.jpg',\n",
       " 'buildings/13191.jpg',\n",
       " 'buildings/13213.jpg',\n",
       " 'buildings/13220.jpg',\n",
       " 'buildings/13222.jpg',\n",
       " 'buildings/13234.jpg',\n",
       " 'buildings/13236.jpg',\n",
       " 'buildings/13238.jpg',\n",
       " 'buildings/13247.jpg',\n",
       " 'buildings/1325.jpg',\n",
       " 'buildings/13253.jpg',\n",
       " 'buildings/13276.jpg',\n",
       " 'buildings/13284.jpg',\n",
       " 'buildings/13308.jpg',\n",
       " 'buildings/1332.jpg',\n",
       " 'buildings/13338.jpg',\n",
       " 'buildings/13352.jpg',\n",
       " 'buildings/13357.jpg',\n",
       " 'buildings/13364.jpg',\n",
       " 'buildings/13371.jpg',\n",
       " 'buildings/13383.jpg',\n",
       " 'buildings/13395.jpg',\n",
       " 'buildings/13400.jpg',\n",
       " 'buildings/13404.jpg',\n",
       " 'buildings/1343.jpg',\n",
       " 'buildings/13432.jpg',\n",
       " 'buildings/13452.jpg',\n",
       " 'buildings/13470.jpg',\n",
       " 'buildings/13472.jpg',\n",
       " 'buildings/13477.jpg',\n",
       " 'buildings/13478.jpg',\n",
       " 'buildings/13480.jpg',\n",
       " 'buildings/13486.jpg',\n",
       " 'buildings/13511.jpg',\n",
       " 'buildings/13526.jpg',\n",
       " 'buildings/13533.jpg',\n",
       " 'buildings/13534.jpg',\n",
       " 'buildings/13537.jpg',\n",
       " 'buildings/13538.jpg',\n",
       " 'buildings/13540.jpg',\n",
       " 'buildings/13568.jpg',\n",
       " 'buildings/13579.jpg',\n",
       " 'buildings/13590.jpg',\n",
       " 'buildings/13599.jpg',\n",
       " 'buildings/13603.jpg',\n",
       " 'buildings/13609.jpg',\n",
       " 'buildings/13621.jpg',\n",
       " 'buildings/13622.jpg',\n",
       " 'buildings/13624.jpg',\n",
       " 'buildings/13629.jpg',\n",
       " 'buildings/1363.jpg',\n",
       " 'buildings/13640.jpg',\n",
       " 'buildings/1366.jpg',\n",
       " 'buildings/13674.jpg',\n",
       " 'buildings/13689.jpg',\n",
       " 'buildings/13697.jpg',\n",
       " 'buildings/137.jpg',\n",
       " 'buildings/13735.jpg',\n",
       " 'buildings/13741.jpg',\n",
       " 'buildings/13745.jpg',\n",
       " 'buildings/13746.jpg',\n",
       " 'buildings/13753.jpg',\n",
       " 'buildings/13770.jpg',\n",
       " 'buildings/13777.jpg',\n",
       " 'buildings/13779.jpg',\n",
       " 'buildings/13790.jpg',\n",
       " 'buildings/13796.jpg',\n",
       " 'buildings/13806.jpg',\n",
       " 'buildings/13812.jpg',\n",
       " 'buildings/13813.jpg',\n",
       " 'buildings/13815.jpg',\n",
       " 'buildings/13822.jpg',\n",
       " 'buildings/13823.jpg',\n",
       " 'buildings/13827.jpg',\n",
       " 'buildings/13835.jpg',\n",
       " 'buildings/13843.jpg',\n",
       " 'buildings/13844.jpg',\n",
       " 'buildings/13846.jpg',\n",
       " 'buildings/13848.jpg',\n",
       " 'buildings/13860.jpg',\n",
       " 'buildings/13863.jpg',\n",
       " 'buildings/13888.jpg',\n",
       " 'buildings/139.jpg',\n",
       " 'buildings/13901.jpg',\n",
       " 'buildings/13905.jpg',\n",
       " 'buildings/1391.jpg',\n",
       " 'buildings/13943.jpg',\n",
       " 'buildings/13946.jpg',\n",
       " 'buildings/1395.jpg',\n",
       " 'buildings/13951.jpg',\n",
       " 'buildings/13978.jpg',\n",
       " 'buildings/13982.jpg',\n",
       " 'buildings/13983.jpg',\n",
       " 'buildings/14001.jpg',\n",
       " 'buildings/14004.jpg',\n",
       " 'buildings/14022.jpg',\n",
       " 'buildings/1403.jpg',\n",
       " 'buildings/14035.jpg',\n",
       " 'buildings/1406.jpg',\n",
       " 'buildings/14081.jpg',\n",
       " 'buildings/14092.jpg',\n",
       " 'buildings/14114.jpg',\n",
       " 'buildings/14124.jpg',\n",
       " 'buildings/1413.jpg',\n",
       " 'buildings/14148.jpg',\n",
       " 'buildings/1415.jpg',\n",
       " 'buildings/14158.jpg',\n",
       " 'buildings/14161.jpg',\n",
       " 'buildings/14182.jpg',\n",
       " 'buildings/14184.jpg',\n",
       " 'buildings/14189.jpg',\n",
       " 'buildings/14205.jpg',\n",
       " 'buildings/14212.jpg',\n",
       " 'buildings/14217.jpg',\n",
       " 'buildings/14231.jpg',\n",
       " 'buildings/14246.jpg',\n",
       " 'buildings/14261.jpg',\n",
       " 'buildings/14284.jpg',\n",
       " 'buildings/1429.jpg',\n",
       " 'buildings/14294.jpg',\n",
       " 'buildings/14295.jpg',\n",
       " 'buildings/14297.jpg',\n",
       " 'buildings/14300.jpg',\n",
       " 'buildings/14318.jpg',\n",
       " 'buildings/14372.jpg',\n",
       " 'buildings/14383.jpg',\n",
       " 'buildings/14389.jpg',\n",
       " 'buildings/14416.jpg',\n",
       " 'buildings/14434.jpg',\n",
       " 'buildings/14439.jpg',\n",
       " 'buildings/14447.jpg',\n",
       " 'buildings/1445.jpg',\n",
       " 'buildings/14454.jpg',\n",
       " 'buildings/14464.jpg',\n",
       " 'buildings/14467.jpg',\n",
       " 'buildings/14474.jpg',\n",
       " 'buildings/14521.jpg',\n",
       " 'buildings/14525.jpg',\n",
       " 'buildings/14535.jpg',\n",
       " 'buildings/14543.jpg',\n",
       " 'buildings/14565.jpg',\n",
       " 'buildings/14568.jpg',\n",
       " 'buildings/14577.jpg',\n",
       " 'buildings/146.jpg',\n",
       " 'buildings/14649.jpg',\n",
       " 'buildings/14651.jpg',\n",
       " 'buildings/14661.jpg',\n",
       " 'buildings/14662.jpg',\n",
       " 'buildings/14673.jpg',\n",
       " 'buildings/14677.jpg',\n",
       " 'buildings/14681.jpg',\n",
       " 'buildings/14694.jpg',\n",
       " 'buildings/14704.jpg',\n",
       " 'buildings/14705.jpg',\n",
       " 'buildings/14708.jpg',\n",
       " 'buildings/1471.jpg',\n",
       " 'buildings/14710.jpg',\n",
       " 'buildings/14731.jpg',\n",
       " 'buildings/14738.jpg',\n",
       " 'buildings/14744.jpg',\n",
       " 'buildings/14749.jpg',\n",
       " 'buildings/14756.jpg',\n",
       " 'buildings/14758.jpg',\n",
       " 'buildings/14760.jpg',\n",
       " 'buildings/14766.jpg',\n",
       " 'buildings/14799.jpg',\n",
       " 'buildings/14808.jpg',\n",
       " 'buildings/14816.jpg',\n",
       " 'buildings/1482.jpg',\n",
       " 'buildings/14820.jpg',\n",
       " 'buildings/14823.jpg',\n",
       " 'buildings/14826.jpg',\n",
       " 'buildings/14830.jpg',\n",
       " 'buildings/14837.jpg',\n",
       " 'buildings/14847.jpg',\n",
       " 'buildings/14852.jpg',\n",
       " 'buildings/14854.jpg',\n",
       " 'buildings/14868.jpg',\n",
       " 'buildings/14876.jpg',\n",
       " 'buildings/14883.jpg',\n",
       " 'buildings/14898.jpg',\n",
       " 'buildings/14903.jpg',\n",
       " 'buildings/14912.jpg',\n",
       " 'buildings/14916.jpg',\n",
       " 'buildings/14918.jpg',\n",
       " 'buildings/14952.jpg',\n",
       " 'buildings/14958.jpg',\n",
       " 'buildings/14968.jpg',\n",
       " 'buildings/14991.jpg',\n",
       " 'buildings/1501.jpg',\n",
       " 'buildings/15026.jpg',\n",
       " 'buildings/15030.jpg',\n",
       " 'buildings/15042.jpg',\n",
       " 'buildings/15045.jpg',\n",
       " 'buildings/15048.jpg',\n",
       " 'buildings/15052.jpg',\n",
       " 'buildings/15061.jpg',\n",
       " 'buildings/15064.jpg',\n",
       " 'buildings/15071.jpg',\n",
       " 'buildings/15078.jpg',\n",
       " 'buildings/15098.jpg',\n",
       " 'buildings/15109.jpg',\n",
       " 'buildings/15140.jpg',\n",
       " 'buildings/15141.jpg',\n",
       " 'buildings/15146.jpg',\n",
       " 'buildings/15147.jpg',\n",
       " 'buildings/15176.jpg',\n",
       " 'buildings/15216.jpg',\n",
       " 'buildings/15223.jpg',\n",
       " 'buildings/15227.jpg',\n",
       " 'buildings/15236.jpg',\n",
       " 'buildings/15238.jpg',\n",
       " 'buildings/15261.jpg',\n",
       " 'buildings/15288.jpg',\n",
       " 'buildings/15293.jpg',\n",
       " 'buildings/15320.jpg',\n",
       " 'buildings/15324.jpg',\n",
       " 'buildings/15331.jpg',\n",
       " 'buildings/15344.jpg',\n",
       " 'buildings/15346.jpg',\n",
       " 'buildings/15361.jpg',\n",
       " 'buildings/1539.jpg',\n",
       " 'buildings/15397.jpg',\n",
       " 'buildings/15398.jpg',\n",
       " 'buildings/15404.jpg',\n",
       " 'buildings/15405.jpg',\n",
       " 'buildings/15409.jpg',\n",
       " 'buildings/1542.jpg',\n",
       " 'buildings/15428.jpg',\n",
       " 'buildings/15429.jpg',\n",
       " 'buildings/15439.jpg',\n",
       " 'buildings/15451.jpg',\n",
       " 'buildings/1546.jpg',\n",
       " 'buildings/15487.jpg',\n",
       " 'buildings/15491.jpg',\n",
       " 'buildings/1550.jpg',\n",
       " 'buildings/15514.jpg',\n",
       " 'buildings/15515.jpg',\n",
       " 'buildings/15518.jpg',\n",
       " 'buildings/15523.jpg',\n",
       " 'buildings/15528.jpg',\n",
       " 'buildings/15538.jpg',\n",
       " 'buildings/15542.jpg',\n",
       " 'buildings/15545.jpg',\n",
       " 'buildings/15573.jpg',\n",
       " 'buildings/15596.jpg',\n",
       " 'buildings/1560.jpg',\n",
       " 'buildings/1562.jpg',\n",
       " 'buildings/15626.jpg',\n",
       " 'buildings/1563.jpg',\n",
       " 'buildings/15641.jpg',\n",
       " 'buildings/15653.jpg',\n",
       " 'buildings/15673.jpg',\n",
       " 'buildings/15674.jpg',\n",
       " 'buildings/15675.jpg',\n",
       " 'buildings/1569.jpg',\n",
       " 'buildings/15693.jpg',\n",
       " 'buildings/15699.jpg',\n",
       " 'buildings/157.jpg',\n",
       " 'buildings/15701.jpg',\n",
       " 'buildings/15714.jpg',\n",
       " 'buildings/15729.jpg',\n",
       " 'buildings/15730.jpg',\n",
       " 'buildings/15734.jpg',\n",
       " 'buildings/15742.jpg',\n",
       " 'buildings/15768.jpg',\n",
       " 'buildings/15787.jpg',\n",
       " 'buildings/15792.jpg',\n",
       " 'buildings/15794.jpg',\n",
       " 'buildings/15796.jpg',\n",
       " 'buildings/158.jpg',\n",
       " 'buildings/1580.jpg',\n",
       " 'buildings/15822.jpg',\n",
       " 'buildings/15827.jpg',\n",
       " 'buildings/15845.jpg',\n",
       " 'buildings/15861.jpg',\n",
       " 'buildings/15871.jpg',\n",
       " 'buildings/15877.jpg',\n",
       " 'buildings/15905.jpg',\n",
       " 'buildings/15920.jpg',\n",
       " 'buildings/1593.jpg',\n",
       " 'buildings/15938.jpg',\n",
       " 'buildings/15944.jpg',\n",
       " 'buildings/15945.jpg',\n",
       " 'buildings/15955.jpg',\n",
       " 'buildings/15959.jpg',\n",
       " 'buildings/15962.jpg',\n",
       " 'buildings/15966.jpg',\n",
       " 'buildings/15973.jpg',\n",
       " 'buildings/15985.jpg',\n",
       " 'buildings/15988.jpg',\n",
       " 'buildings/15992.jpg',\n",
       " 'buildings/16020.jpg',\n",
       " 'buildings/16059.jpg',\n",
       " 'buildings/16078.jpg',\n",
       " 'buildings/16079.jpg',\n",
       " 'buildings/16095.jpg',\n",
       " 'buildings/1610.jpg',\n",
       " 'buildings/16100.jpg',\n",
       " 'buildings/1611.jpg',\n",
       " 'buildings/16115.jpg',\n",
       " 'buildings/16123.jpg',\n",
       " 'buildings/16141.jpg',\n",
       " 'buildings/16160.jpg',\n",
       " 'buildings/16166.jpg',\n",
       " 'buildings/16171.jpg',\n",
       " 'buildings/16183.jpg',\n",
       " 'buildings/16199.jpg',\n",
       " 'buildings/16221.jpg',\n",
       " 'buildings/1623.jpg',\n",
       " 'buildings/16234.jpg',\n",
       " 'buildings/16243.jpg',\n",
       " 'buildings/16272.jpg',\n",
       " 'buildings/16274.jpg',\n",
       " 'buildings/16279.jpg',\n",
       " 'buildings/16280.jpg',\n",
       " 'buildings/16289.jpg',\n",
       " 'buildings/1629.jpg',\n",
       " 'buildings/1630.jpg',\n",
       " 'buildings/16314.jpg',\n",
       " 'buildings/16315.jpg',\n",
       " 'buildings/16326.jpg',\n",
       " 'buildings/16346.jpg',\n",
       " 'buildings/16349.jpg',\n",
       " 'buildings/1636.jpg',\n",
       " 'buildings/16362.jpg',\n",
       " 'buildings/16395.jpg',\n",
       " 'buildings/16423.jpg',\n",
       " 'buildings/1643.jpg',\n",
       " 'buildings/16431.jpg',\n",
       " 'buildings/16432.jpg',\n",
       " 'buildings/16452.jpg',\n",
       " 'buildings/16456.jpg',\n",
       " 'buildings/16457.jpg',\n",
       " 'buildings/16463.jpg',\n",
       " 'buildings/1647.jpg',\n",
       " 'buildings/16478.jpg',\n",
       " 'buildings/16483.jpg',\n",
       " 'buildings/16488.jpg',\n",
       " 'buildings/16500.jpg',\n",
       " 'buildings/16538.jpg',\n",
       " 'buildings/16543.jpg',\n",
       " 'buildings/16547.jpg',\n",
       " 'buildings/16550.jpg',\n",
       " 'buildings/16559.jpg',\n",
       " 'buildings/1656.jpg',\n",
       " 'buildings/16562.jpg',\n",
       " 'buildings/16567.jpg',\n",
       " 'buildings/16569.jpg',\n",
       " 'buildings/16575.jpg',\n",
       " 'buildings/16577.jpg',\n",
       " 'buildings/16578.jpg',\n",
       " 'buildings/16579.jpg',\n",
       " 'buildings/16594.jpg',\n",
       " 'buildings/16595.jpg',\n",
       " 'buildings/16607.jpg',\n",
       " 'buildings/16614.jpg',\n",
       " 'buildings/16623.jpg',\n",
       " 'buildings/16624.jpg',\n",
       " 'buildings/16643.jpg',\n",
       " 'buildings/16692.jpg',\n",
       " 'buildings/16730.jpg',\n",
       " 'buildings/16733.jpg',\n",
       " 'buildings/16750.jpg',\n",
       " 'buildings/16774.jpg',\n",
       " 'buildings/16786.jpg',\n",
       " 'buildings/16793.jpg',\n",
       " 'buildings/16795.jpg',\n",
       " 'buildings/16800.jpg',\n",
       " 'buildings/16807.jpg',\n",
       " 'buildings/16808.jpg',\n",
       " 'buildings/16813.jpg',\n",
       " 'buildings/1683.jpg',\n",
       " 'buildings/16837.jpg',\n",
       " 'buildings/1684.jpg',\n",
       " 'buildings/1687.jpg',\n",
       " 'buildings/16888.jpg',\n",
       " 'buildings/16889.jpg',\n",
       " 'buildings/16902.jpg',\n",
       " 'buildings/16911.jpg',\n",
       " 'buildings/1693.jpg',\n",
       " 'buildings/16939.jpg',\n",
       " 'buildings/16948.jpg',\n",
       " 'buildings/16965.jpg',\n",
       " 'buildings/16985.jpg',\n",
       " 'buildings/17032.jpg',\n",
       " 'buildings/17033.jpg',\n",
       " 'buildings/17055.jpg',\n",
       " 'buildings/17058.jpg',\n",
       " 'buildings/17065.jpg',\n",
       " 'buildings/17075.jpg',\n",
       " 'buildings/17085.jpg',\n",
       " 'buildings/17094.jpg',\n",
       " 'buildings/17154.jpg',\n",
       " 'buildings/17156.jpg',\n",
       " 'buildings/1716.jpg',\n",
       " 'buildings/17161.jpg',\n",
       " 'buildings/17165.jpg',\n",
       " 'buildings/17187.jpg',\n",
       " 'buildings/17193.jpg',\n",
       " 'buildings/17202.jpg',\n",
       " 'buildings/17211.jpg',\n",
       " 'buildings/17225.jpg',\n",
       " 'buildings/17236.jpg',\n",
       " 'buildings/17262.jpg',\n",
       " 'buildings/17264.jpg',\n",
       " 'buildings/17267.jpg',\n",
       " 'buildings/17270.jpg',\n",
       " 'buildings/17272.jpg',\n",
       " 'buildings/17273.jpg',\n",
       " 'buildings/17296.jpg',\n",
       " 'buildings/17302.jpg',\n",
       " 'buildings/17322.jpg',\n",
       " 'buildings/17330.jpg',\n",
       " 'buildings/17332.jpg',\n",
       " 'buildings/17337.jpg',\n",
       " 'buildings/17338.jpg',\n",
       " 'buildings/17345.jpg',\n",
       " 'buildings/17354.jpg',\n",
       " 'buildings/1739.jpg',\n",
       " 'buildings/17397.jpg',\n",
       " 'buildings/17401.jpg',\n",
       " 'buildings/17403.jpg',\n",
       " 'buildings/17406.jpg',\n",
       " 'buildings/17416.jpg',\n",
       " 'buildings/17425.jpg',\n",
       " 'buildings/17427.jpg',\n",
       " 'buildings/17451.jpg',\n",
       " 'buildings/17452.jpg',\n",
       " 'buildings/17453.jpg',\n",
       " 'buildings/17457.jpg',\n",
       " 'buildings/17462.jpg',\n",
       " 'buildings/17479.jpg',\n",
       " 'buildings/17480.jpg',\n",
       " 'buildings/17491.jpg',\n",
       " 'buildings/17495.jpg',\n",
       " 'buildings/17503.jpg',\n",
       " 'buildings/1751.jpg',\n",
       " 'buildings/17516.jpg',\n",
       " 'buildings/17520.jpg',\n",
       " 'buildings/1753.jpg',\n",
       " 'buildings/17537.jpg',\n",
       " 'buildings/17541.jpg',\n",
       " 'buildings/17552.jpg',\n",
       " 'buildings/17560.jpg',\n",
       " 'buildings/17563.jpg',\n",
       " 'buildings/17575.jpg',\n",
       " 'buildings/17581.jpg',\n",
       " 'buildings/17590.jpg',\n",
       " 'buildings/17594.jpg',\n",
       " 'buildings/1760.jpg',\n",
       " 'buildings/17602.jpg',\n",
       " 'buildings/17605.jpg',\n",
       " 'buildings/17609.jpg',\n",
       " 'buildings/1763.jpg',\n",
       " 'buildings/17636.jpg',\n",
       " 'buildings/17662.jpg',\n",
       " 'buildings/17687.jpg',\n",
       " 'buildings/17731.jpg',\n",
       " 'buildings/17750.jpg',\n",
       " 'buildings/17751.jpg',\n",
       " 'buildings/17764.jpg',\n",
       " 'buildings/17771.jpg',\n",
       " 'buildings/17793.jpg',\n",
       " 'buildings/17805.jpg',\n",
       " 'buildings/17806.jpg',\n",
       " 'buildings/17821.jpg',\n",
       " 'buildings/17825.jpg',\n",
       " 'buildings/17830.jpg',\n",
       " 'buildings/17835.jpg',\n",
       " 'buildings/17853.jpg',\n",
       " 'buildings/1786.jpg',\n",
       " 'buildings/17868.jpg',\n",
       " 'buildings/1787.jpg',\n",
       " 'buildings/17873.jpg',\n",
       " 'buildings/17875.jpg',\n",
       " 'buildings/17891.jpg',\n",
       " 'buildings/17898.jpg',\n",
       " 'buildings/17903.jpg',\n",
       " 'buildings/17932.jpg',\n",
       " 'buildings/17951.jpg',\n",
       " 'buildings/17973.jpg',\n",
       " 'buildings/17977.jpg',\n",
       " 'buildings/17981.jpg',\n",
       " 'buildings/17989.jpg',\n",
       " 'buildings/18017.jpg',\n",
       " 'buildings/18025.jpg',\n",
       " 'buildings/18026.jpg',\n",
       " 'buildings/18029.jpg',\n",
       " 'buildings/18034.jpg',\n",
       " 'buildings/18037.jpg',\n",
       " 'buildings/18045.jpg',\n",
       " 'buildings/18050.jpg',\n",
       " 'buildings/18052.jpg',\n",
       " 'buildings/18072.jpg',\n",
       " 'buildings/18079.jpg',\n",
       " 'buildings/18084.jpg',\n",
       " 'buildings/18087.jpg',\n",
       " 'buildings/18099.jpg',\n",
       " 'buildings/18105.jpg',\n",
       " 'buildings/18115.jpg',\n",
       " 'buildings/18133.jpg',\n",
       " 'buildings/18140.jpg',\n",
       " 'buildings/18151.jpg',\n",
       " 'buildings/18156.jpg',\n",
       " 'buildings/18157.jpg',\n",
       " 'buildings/18166.jpg',\n",
       " 'buildings/18167.jpg',\n",
       " 'buildings/18182.jpg',\n",
       " 'buildings/18195.jpg',\n",
       " 'buildings/18201.jpg',\n",
       " 'buildings/18203.jpg',\n",
       " 'buildings/18234.jpg',\n",
       " 'buildings/18235.jpg',\n",
       " 'buildings/18240.jpg',\n",
       " 'buildings/18252.jpg',\n",
       " 'buildings/18258.jpg',\n",
       " 'buildings/18260.jpg',\n",
       " 'buildings/18279.jpg',\n",
       " 'buildings/18283.jpg',\n",
       " 'buildings/18289.jpg',\n",
       " 'buildings/18291.jpg',\n",
       " 'buildings/18312.jpg',\n",
       " 'buildings/18321.jpg',\n",
       " 'buildings/18324.jpg',\n",
       " 'buildings/18335.jpg',\n",
       " 'buildings/18342.jpg',\n",
       " 'buildings/18344.jpg',\n",
       " 'buildings/18364.jpg',\n",
       " 'buildings/18375.jpg',\n",
       " 'buildings/18389.jpg',\n",
       " 'buildings/18397.jpg',\n",
       " 'buildings/18412.jpg',\n",
       " 'buildings/18415.jpg',\n",
       " 'buildings/18419.jpg',\n",
       " 'buildings/18435.jpg',\n",
       " 'buildings/18438.jpg',\n",
       " 'buildings/18449.jpg',\n",
       " 'buildings/1846.jpg',\n",
       " 'buildings/18467.jpg',\n",
       " 'buildings/18496.jpg',\n",
       " 'buildings/1850.jpg',\n",
       " 'buildings/18538.jpg',\n",
       " 'buildings/18542.jpg',\n",
       " 'buildings/18546.jpg',\n",
       " 'buildings/18550.jpg',\n",
       " 'buildings/18564.jpg',\n",
       " 'buildings/18565.jpg',\n",
       " 'buildings/1859.jpg',\n",
       " 'buildings/18602.jpg',\n",
       " 'buildings/18639.jpg',\n",
       " 'buildings/18668.jpg',\n",
       " 'buildings/1867.jpg',\n",
       " 'buildings/18672.jpg',\n",
       " 'buildings/18676.jpg',\n",
       " 'buildings/18694.jpg',\n",
       " 'buildings/18720.jpg',\n",
       " 'buildings/18725.jpg',\n",
       " 'buildings/18743.jpg',\n",
       " 'buildings/18752.jpg',\n",
       " 'buildings/18755.jpg',\n",
       " 'buildings/18756.jpg',\n",
       " 'buildings/18758.jpg',\n",
       " 'buildings/18767.jpg',\n",
       " 'buildings/1877.jpg',\n",
       " 'buildings/18771.jpg',\n",
       " 'buildings/18772.jpg',\n",
       " 'buildings/18777.jpg',\n",
       " 'buildings/1879.jpg',\n",
       " 'buildings/18791.jpg',\n",
       " 'buildings/18793.jpg',\n",
       " 'buildings/18794.jpg',\n",
       " 'buildings/18797.jpg',\n",
       " 'buildings/188.jpg',\n",
       " 'buildings/18815.jpg',\n",
       " 'buildings/18824.jpg',\n",
       " 'buildings/18846.jpg',\n",
       " 'buildings/18854.jpg',\n",
       " 'buildings/18875.jpg',\n",
       " 'buildings/18881.jpg',\n",
       " 'buildings/18883.jpg',\n",
       " 'buildings/18885.jpg',\n",
       " 'buildings/18887.jpg',\n",
       " 'buildings/18893.jpg',\n",
       " 'buildings/18902.jpg',\n",
       " 'buildings/1891.jpg',\n",
       " 'buildings/18917.jpg',\n",
       " 'buildings/18922.jpg',\n",
       " 'buildings/18934.jpg',\n",
       " 'buildings/18938.jpg',\n",
       " 'buildings/18951.jpg',\n",
       " 'buildings/18959.jpg',\n",
       " 'buildings/18971.jpg',\n",
       " 'buildings/18992.jpg',\n",
       " 'buildings/18993.jpg',\n",
       " 'buildings/1900.jpg',\n",
       " 'buildings/1901.jpg',\n",
       " 'buildings/19016.jpg',\n",
       " 'buildings/19023.jpg',\n",
       " 'buildings/19036.jpg',\n",
       " 'buildings/19056.jpg',\n",
       " 'buildings/19057.jpg',\n",
       " 'buildings/19077.jpg',\n",
       " 'buildings/19078.jpg',\n",
       " 'buildings/19080.jpg',\n",
       " 'buildings/19089.jpg',\n",
       " 'buildings/191.jpg',\n",
       " 'buildings/19101.jpg',\n",
       " 'buildings/19104.jpg',\n",
       " 'buildings/19108.jpg',\n",
       " 'buildings/19125.jpg',\n",
       " 'buildings/19126.jpg',\n",
       " 'buildings/19127.jpg',\n",
       " 'buildings/19134.jpg',\n",
       " 'buildings/19150.jpg',\n",
       " 'buildings/19151.jpg',\n",
       " 'buildings/19153.jpg',\n",
       " 'buildings/19159.jpg',\n",
       " 'buildings/19180.jpg',\n",
       " 'buildings/19217.jpg',\n",
       " 'buildings/19221.jpg',\n",
       " 'buildings/19228.jpg',\n",
       " 'buildings/19245.jpg',\n",
       " 'buildings/19256.jpg',\n",
       " 'buildings/19280.jpg',\n",
       " 'buildings/19293.jpg',\n",
       " 'buildings/19302.jpg',\n",
       " 'buildings/19325.jpg',\n",
       " 'buildings/19332.jpg',\n",
       " 'buildings/19344.jpg',\n",
       " 'buildings/19364.jpg',\n",
       " 'buildings/1937.jpg',\n",
       " 'buildings/19374.jpg',\n",
       " 'buildings/19375.jpg',\n",
       " 'buildings/19386.jpg',\n",
       " 'buildings/1940.jpg',\n",
       " 'buildings/19405.jpg',\n",
       " 'buildings/19416.jpg',\n",
       " 'buildings/19446.jpg',\n",
       " 'buildings/19447.jpg',\n",
       " 'buildings/19455.jpg',\n",
       " 'buildings/19456.jpg',\n",
       " 'buildings/19466.jpg',\n",
       " 'buildings/1954.jpg',\n",
       " 'buildings/19552.jpg',\n",
       " 'buildings/19556.jpg',\n",
       " 'buildings/19571.jpg',\n",
       " 'buildings/19584.jpg',\n",
       " 'buildings/1959.jpg',\n",
       " 'buildings/19595.jpg',\n",
       " 'buildings/19608.jpg',\n",
       " 'buildings/19624.jpg',\n",
       " 'buildings/19638.jpg',\n",
       " 'buildings/19649.jpg',\n",
       " 'buildings/19661.jpg',\n",
       " 'buildings/19666.jpg',\n",
       " 'buildings/19668.jpg',\n",
       " 'buildings/19674.jpg',\n",
       " 'buildings/19689.jpg',\n",
       " 'buildings/19701.jpg',\n",
       " 'buildings/19713.jpg',\n",
       " 'buildings/19722.jpg',\n",
       " 'buildings/19728.jpg',\n",
       " 'buildings/19735.jpg',\n",
       " 'buildings/1977.jpg',\n",
       " 'buildings/19778.jpg',\n",
       " 'buildings/19789.jpg',\n",
       " 'buildings/1979.jpg',\n",
       " 'buildings/19800.jpg',\n",
       " 'buildings/19802.jpg',\n",
       " 'buildings/19806.jpg',\n",
       " 'buildings/19815.jpg',\n",
       " 'buildings/19816.jpg',\n",
       " 'buildings/19830.jpg',\n",
       " 'buildings/19846.jpg',\n",
       " 'buildings/19848.jpg',\n",
       " 'buildings/19855.jpg',\n",
       " 'buildings/19874.jpg',\n",
       " 'buildings/19896.jpg',\n",
       " 'buildings/19901.jpg',\n",
       " 'buildings/19910.jpg',\n",
       " 'buildings/19913.jpg',\n",
       " 'buildings/19915.jpg',\n",
       " 'buildings/19923.jpg',\n",
       " 'buildings/19955.jpg',\n",
       " 'buildings/19963.jpg',\n",
       " 'buildings/19969.jpg',\n",
       " 'buildings/19973.jpg',\n",
       " 'buildings/19976.jpg',\n",
       " 'buildings/19978.jpg',\n",
       " 'buildings/19996.jpg',\n",
       " 'buildings/20017.jpg',\n",
       " 'buildings/2002.jpg',\n",
       " 'buildings/20027.jpg',\n",
       " 'buildings/20048.jpg',\n",
       " 'buildings/20054.jpg',\n",
       " 'buildings/2038.jpg',\n",
       " 'buildings/2041.jpg',\n",
       " ...]"
      ]
     },
     "execution_count": 17,
     "metadata": {},
     "output_type": "execute_result"
    }
   ],
   "source": [
    "train_gen.filenames"
   ]
  },
  {
   "cell_type": "code",
   "execution_count": 19,
   "metadata": {},
   "outputs": [
    {
     "data": {
      "text/plain": [
       "<keras.preprocessing.image.DirectoryIterator at 0x1a653a5dd8>"
      ]
     },
     "execution_count": 19,
     "metadata": {},
     "output_type": "execute_result"
    }
   ],
   "source": [
    "train_gen"
   ]
  },
  {
   "cell_type": "code",
   "execution_count": 21,
   "metadata": {},
   "outputs": [
    {
     "data": {
      "text/plain": [
       "'rgb'"
      ]
     },
     "execution_count": 21,
     "metadata": {},
     "output_type": "execute_result"
    }
   ],
   "source": [
    "train_gen.color_mode"
   ]
  },
  {
   "cell_type": "code",
   "execution_count": 22,
   "metadata": {},
   "outputs": [
    {
     "data": {
      "text/plain": [
       "<keras.preprocessing.image.ImageDataGenerator at 0x1a653a5da0>"
      ]
     },
     "execution_count": 22,
     "metadata": {},
     "output_type": "execute_result"
    }
   ],
   "source": [
    "train_gen.image_data_generator"
   ]
  },
  {
   "cell_type": "code",
   "execution_count": 23,
   "metadata": {},
   "outputs": [
    {
     "data": {
      "text/plain": [
       "<generator object Iterator._flow_index at 0x1a6576ddb0>"
      ]
     },
     "execution_count": 23,
     "metadata": {},
     "output_type": "execute_result"
    }
   ],
   "source": [
    "train_gen.index_generator"
   ]
  },
  {
   "cell_type": "code",
   "execution_count": 25,
   "metadata": {},
   "outputs": [
    {
     "data": {
      "text/plain": [
       "352"
      ]
     },
     "execution_count": 25,
     "metadata": {},
     "output_type": "execute_result"
    }
   ],
   "source": [
    "len(train_gen)"
   ]
  },
  {
   "cell_type": "code",
   "execution_count": 33,
   "metadata": {},
   "outputs": [
    {
     "data": {
      "text/plain": [
       "<keras.preprocessing.image.DirectoryIterator at 0x1a653a5fd0>"
      ]
     },
     "execution_count": 33,
     "metadata": {},
     "output_type": "execute_result"
    }
   ],
   "source": [
    "test_gen"
   ]
  },
  {
   "cell_type": "code",
   "execution_count": 29,
   "metadata": {},
   "outputs": [
    {
     "data": {
      "text/plain": [
       "<bound method Layer.count_params of <keras.engine.sequential.Sequential object at 0x1a448f2cc0>>"
      ]
     },
     "execution_count": 29,
     "metadata": {},
     "output_type": "execute_result"
    }
   ],
   "source": [
    "model2.count_params"
   ]
  },
  {
   "cell_type": "markdown",
   "metadata": {},
   "source": [
    "I don't understand how to get predictions out of these models.  I don't know how to feed it the size it's looking for. "
   ]
  },
  {
   "cell_type": "code",
   "execution_count": 32,
   "metadata": {
    "collapsed": true,
    "jupyter": {
     "outputs_hidden": true
    }
   },
   "outputs": [
    {
     "ename": "ValueError",
     "evalue": "Error when checking input: expected dense_1_input to have 2 dimensions, but got array with shape (32, 299, 299, 3)",
     "output_type": "error",
     "traceback": [
      "\u001b[0;31m---------------------------------------------------------------------------\u001b[0m",
      "\u001b[0;31mValueError\u001b[0m                                Traceback (most recent call last)",
      "\u001b[0;32m<ipython-input-32-9579ab678694>\u001b[0m in \u001b[0;36m<module>\u001b[0;34m\u001b[0m\n\u001b[0;32m----> 1\u001b[0;31m \u001b[0mmodel2\u001b[0m\u001b[0;34m.\u001b[0m\u001b[0mpredict_classes\u001b[0m\u001b[0;34m(\u001b[0m\u001b[0mtest_gen\u001b[0m\u001b[0;34m,\u001b[0m \u001b[0mbatch_size\u001b[0m \u001b[0;34m=\u001b[0m \u001b[0;32mNone\u001b[0m\u001b[0;34m)\u001b[0m\u001b[0;34m\u001b[0m\u001b[0;34m\u001b[0m\u001b[0m\n\u001b[0m",
      "\u001b[0;32m/opt/anaconda3/envs/cap-env/lib/python3.6/site-packages/keras/engine/sequential.py\u001b[0m in \u001b[0;36mpredict_classes\u001b[0;34m(self, x, batch_size, verbose)\u001b[0m\n\u001b[1;32m    266\u001b[0m             \u001b[0mA\u001b[0m \u001b[0mnumpy\u001b[0m \u001b[0marray\u001b[0m \u001b[0mof\u001b[0m \u001b[0;32mclass\u001b[0m \u001b[0mpredictions\u001b[0m\u001b[0;34m.\u001b[0m\u001b[0;34m\u001b[0m\u001b[0;34m\u001b[0m\u001b[0m\n\u001b[1;32m    267\u001b[0m         \"\"\"\n\u001b[0;32m--> 268\u001b[0;31m         \u001b[0mproba\u001b[0m \u001b[0;34m=\u001b[0m \u001b[0mself\u001b[0m\u001b[0;34m.\u001b[0m\u001b[0mpredict\u001b[0m\u001b[0;34m(\u001b[0m\u001b[0mx\u001b[0m\u001b[0;34m,\u001b[0m \u001b[0mbatch_size\u001b[0m\u001b[0;34m=\u001b[0m\u001b[0mbatch_size\u001b[0m\u001b[0;34m,\u001b[0m \u001b[0mverbose\u001b[0m\u001b[0;34m=\u001b[0m\u001b[0mverbose\u001b[0m\u001b[0;34m)\u001b[0m\u001b[0;34m\u001b[0m\u001b[0;34m\u001b[0m\u001b[0m\n\u001b[0m\u001b[1;32m    269\u001b[0m         \u001b[0;32mif\u001b[0m \u001b[0mproba\u001b[0m\u001b[0;34m.\u001b[0m\u001b[0mshape\u001b[0m\u001b[0;34m[\u001b[0m\u001b[0;34m-\u001b[0m\u001b[0;36m1\u001b[0m\u001b[0;34m]\u001b[0m \u001b[0;34m>\u001b[0m \u001b[0;36m1\u001b[0m\u001b[0;34m:\u001b[0m\u001b[0;34m\u001b[0m\u001b[0;34m\u001b[0m\u001b[0m\n\u001b[1;32m    270\u001b[0m             \u001b[0;32mreturn\u001b[0m \u001b[0mproba\u001b[0m\u001b[0;34m.\u001b[0m\u001b[0margmax\u001b[0m\u001b[0;34m(\u001b[0m\u001b[0maxis\u001b[0m\u001b[0;34m=\u001b[0m\u001b[0;34m-\u001b[0m\u001b[0;36m1\u001b[0m\u001b[0;34m)\u001b[0m\u001b[0;34m\u001b[0m\u001b[0;34m\u001b[0m\u001b[0m\n",
      "\u001b[0;32m/opt/anaconda3/envs/cap-env/lib/python3.6/site-packages/keras/engine/training.py\u001b[0m in \u001b[0;36mpredict\u001b[0;34m(self, x, batch_size, verbose, steps, callbacks, max_queue_size, workers, use_multiprocessing)\u001b[0m\n\u001b[1;32m   1431\u001b[0m                 \u001b[0mmax_queue_size\u001b[0m\u001b[0;34m=\u001b[0m\u001b[0mmax_queue_size\u001b[0m\u001b[0;34m,\u001b[0m\u001b[0;34m\u001b[0m\u001b[0;34m\u001b[0m\u001b[0m\n\u001b[1;32m   1432\u001b[0m                 \u001b[0mworkers\u001b[0m\u001b[0;34m=\u001b[0m\u001b[0mworkers\u001b[0m\u001b[0;34m,\u001b[0m\u001b[0;34m\u001b[0m\u001b[0;34m\u001b[0m\u001b[0m\n\u001b[0;32m-> 1433\u001b[0;31m                 use_multiprocessing=use_multiprocessing)\n\u001b[0m\u001b[1;32m   1434\u001b[0m \u001b[0;34m\u001b[0m\u001b[0m\n\u001b[1;32m   1435\u001b[0m         \u001b[0;32mif\u001b[0m \u001b[0mx\u001b[0m \u001b[0;32mis\u001b[0m \u001b[0;32mNone\u001b[0m \u001b[0;32mand\u001b[0m \u001b[0msteps\u001b[0m \u001b[0;32mis\u001b[0m \u001b[0;32mNone\u001b[0m\u001b[0;34m:\u001b[0m\u001b[0;34m\u001b[0m\u001b[0;34m\u001b[0m\u001b[0m\n",
      "\u001b[0;32m/opt/anaconda3/envs/cap-env/lib/python3.6/site-packages/keras/legacy/interfaces.py\u001b[0m in \u001b[0;36mwrapper\u001b[0;34m(*args, **kwargs)\u001b[0m\n\u001b[1;32m     89\u001b[0m                 warnings.warn('Update your `' + object_name + '` call to the ' +\n\u001b[1;32m     90\u001b[0m                               'Keras 2 API: ' + signature, stacklevel=2)\n\u001b[0;32m---> 91\u001b[0;31m             \u001b[0;32mreturn\u001b[0m \u001b[0mfunc\u001b[0m\u001b[0;34m(\u001b[0m\u001b[0;34m*\u001b[0m\u001b[0margs\u001b[0m\u001b[0;34m,\u001b[0m \u001b[0;34m**\u001b[0m\u001b[0mkwargs\u001b[0m\u001b[0;34m)\u001b[0m\u001b[0;34m\u001b[0m\u001b[0;34m\u001b[0m\u001b[0m\n\u001b[0m\u001b[1;32m     92\u001b[0m         \u001b[0mwrapper\u001b[0m\u001b[0;34m.\u001b[0m\u001b[0m_original_function\u001b[0m \u001b[0;34m=\u001b[0m \u001b[0mfunc\u001b[0m\u001b[0;34m\u001b[0m\u001b[0;34m\u001b[0m\u001b[0m\n\u001b[1;32m     93\u001b[0m         \u001b[0;32mreturn\u001b[0m \u001b[0mwrapper\u001b[0m\u001b[0;34m\u001b[0m\u001b[0;34m\u001b[0m\u001b[0m\n",
      "\u001b[0;32m/opt/anaconda3/envs/cap-env/lib/python3.6/site-packages/keras/engine/training.py\u001b[0m in \u001b[0;36mpredict_generator\u001b[0;34m(self, generator, steps, callbacks, max_queue_size, workers, use_multiprocessing, verbose)\u001b[0m\n\u001b[1;32m   1844\u001b[0m             \u001b[0mworkers\u001b[0m\u001b[0;34m=\u001b[0m\u001b[0mworkers\u001b[0m\u001b[0;34m,\u001b[0m\u001b[0;34m\u001b[0m\u001b[0;34m\u001b[0m\u001b[0m\n\u001b[1;32m   1845\u001b[0m             \u001b[0muse_multiprocessing\u001b[0m\u001b[0;34m=\u001b[0m\u001b[0muse_multiprocessing\u001b[0m\u001b[0;34m,\u001b[0m\u001b[0;34m\u001b[0m\u001b[0;34m\u001b[0m\u001b[0m\n\u001b[0;32m-> 1846\u001b[0;31m             verbose=verbose)\n\u001b[0m\u001b[1;32m   1847\u001b[0m \u001b[0;34m\u001b[0m\u001b[0m\n\u001b[1;32m   1848\u001b[0m \u001b[0;34m\u001b[0m\u001b[0m\n",
      "\u001b[0;32m/opt/anaconda3/envs/cap-env/lib/python3.6/site-packages/keras/engine/training_generator.py\u001b[0m in \u001b[0;36mpredict_generator\u001b[0;34m(model, generator, steps, callbacks, max_queue_size, workers, use_multiprocessing, verbose)\u001b[0m\n\u001b[1;32m    525\u001b[0m             \u001b[0mcallbacks\u001b[0m\u001b[0;34m.\u001b[0m\u001b[0m_call_batch_hook\u001b[0m\u001b[0;34m(\u001b[0m\u001b[0;34m'predict'\u001b[0m\u001b[0;34m,\u001b[0m \u001b[0;34m'begin'\u001b[0m\u001b[0;34m,\u001b[0m \u001b[0msteps_done\u001b[0m\u001b[0;34m,\u001b[0m \u001b[0mbatch_logs\u001b[0m\u001b[0;34m)\u001b[0m\u001b[0;34m\u001b[0m\u001b[0;34m\u001b[0m\u001b[0m\n\u001b[1;32m    526\u001b[0m \u001b[0;34m\u001b[0m\u001b[0m\n\u001b[0;32m--> 527\u001b[0;31m             \u001b[0mouts\u001b[0m \u001b[0;34m=\u001b[0m \u001b[0mmodel\u001b[0m\u001b[0;34m.\u001b[0m\u001b[0mpredict_on_batch\u001b[0m\u001b[0;34m(\u001b[0m\u001b[0mx\u001b[0m\u001b[0;34m)\u001b[0m\u001b[0;34m\u001b[0m\u001b[0;34m\u001b[0m\u001b[0m\n\u001b[0m\u001b[1;32m    528\u001b[0m             \u001b[0mouts\u001b[0m \u001b[0;34m=\u001b[0m \u001b[0mto_list\u001b[0m\u001b[0;34m(\u001b[0m\u001b[0mouts\u001b[0m\u001b[0;34m)\u001b[0m\u001b[0;34m\u001b[0m\u001b[0;34m\u001b[0m\u001b[0m\n\u001b[1;32m    529\u001b[0m \u001b[0;34m\u001b[0m\u001b[0m\n",
      "\u001b[0;32m/opt/anaconda3/envs/cap-env/lib/python3.6/site-packages/keras/engine/training.py\u001b[0m in \u001b[0;36mpredict_on_batch\u001b[0;34m(self, x)\u001b[0m\n\u001b[1;32m   1572\u001b[0m             \u001b[0mNumpy\u001b[0m \u001b[0marray\u001b[0m\u001b[0;34m(\u001b[0m\u001b[0ms\u001b[0m\u001b[0;34m)\u001b[0m \u001b[0mof\u001b[0m \u001b[0mpredictions\u001b[0m\u001b[0;34m.\u001b[0m\u001b[0;34m\u001b[0m\u001b[0;34m\u001b[0m\u001b[0m\n\u001b[1;32m   1573\u001b[0m         \"\"\"\n\u001b[0;32m-> 1574\u001b[0;31m         \u001b[0mx\u001b[0m\u001b[0;34m,\u001b[0m \u001b[0m_\u001b[0m\u001b[0;34m,\u001b[0m \u001b[0m_\u001b[0m \u001b[0;34m=\u001b[0m \u001b[0mself\u001b[0m\u001b[0;34m.\u001b[0m\u001b[0m_standardize_user_data\u001b[0m\u001b[0;34m(\u001b[0m\u001b[0mx\u001b[0m\u001b[0;34m)\u001b[0m\u001b[0;34m\u001b[0m\u001b[0;34m\u001b[0m\u001b[0m\n\u001b[0m\u001b[1;32m   1575\u001b[0m         \u001b[0;32mif\u001b[0m \u001b[0mself\u001b[0m\u001b[0;34m.\u001b[0m\u001b[0m_uses_dynamic_learning_phase\u001b[0m\u001b[0;34m(\u001b[0m\u001b[0;34m)\u001b[0m\u001b[0;34m:\u001b[0m\u001b[0;34m\u001b[0m\u001b[0;34m\u001b[0m\u001b[0m\n\u001b[1;32m   1576\u001b[0m             \u001b[0mins\u001b[0m \u001b[0;34m=\u001b[0m \u001b[0mx\u001b[0m \u001b[0;34m+\u001b[0m \u001b[0;34m[\u001b[0m\u001b[0;36m0\u001b[0m\u001b[0;34m]\u001b[0m\u001b[0;34m\u001b[0m\u001b[0;34m\u001b[0m\u001b[0m\n",
      "\u001b[0;32m/opt/anaconda3/envs/cap-env/lib/python3.6/site-packages/keras/engine/training.py\u001b[0m in \u001b[0;36m_standardize_user_data\u001b[0;34m(self, x, y, sample_weight, class_weight, check_array_lengths, batch_size)\u001b[0m\n\u001b[1;32m    577\u001b[0m             \u001b[0mfeed_input_shapes\u001b[0m\u001b[0;34m,\u001b[0m\u001b[0;34m\u001b[0m\u001b[0;34m\u001b[0m\u001b[0m\n\u001b[1;32m    578\u001b[0m             \u001b[0mcheck_batch_axis\u001b[0m\u001b[0;34m=\u001b[0m\u001b[0;32mFalse\u001b[0m\u001b[0;34m,\u001b[0m  \u001b[0;31m# Don't enforce the batch size.\u001b[0m\u001b[0;34m\u001b[0m\u001b[0;34m\u001b[0m\u001b[0m\n\u001b[0;32m--> 579\u001b[0;31m             exception_prefix='input')\n\u001b[0m\u001b[1;32m    580\u001b[0m \u001b[0;34m\u001b[0m\u001b[0m\n\u001b[1;32m    581\u001b[0m         \u001b[0;32mif\u001b[0m \u001b[0my\u001b[0m \u001b[0;32mis\u001b[0m \u001b[0;32mnot\u001b[0m \u001b[0;32mNone\u001b[0m\u001b[0;34m:\u001b[0m\u001b[0;34m\u001b[0m\u001b[0;34m\u001b[0m\u001b[0m\n",
      "\u001b[0;32m/opt/anaconda3/envs/cap-env/lib/python3.6/site-packages/keras/engine/training_utils.py\u001b[0m in \u001b[0;36mstandardize_input_data\u001b[0;34m(data, names, shapes, check_batch_axis, exception_prefix)\u001b[0m\n\u001b[1;32m    133\u001b[0m                         \u001b[0;34m': expected '\u001b[0m \u001b[0;34m+\u001b[0m \u001b[0mnames\u001b[0m\u001b[0;34m[\u001b[0m\u001b[0mi\u001b[0m\u001b[0;34m]\u001b[0m \u001b[0;34m+\u001b[0m \u001b[0;34m' to have '\u001b[0m \u001b[0;34m+\u001b[0m\u001b[0;34m\u001b[0m\u001b[0;34m\u001b[0m\u001b[0m\n\u001b[1;32m    134\u001b[0m                         \u001b[0mstr\u001b[0m\u001b[0;34m(\u001b[0m\u001b[0mlen\u001b[0m\u001b[0;34m(\u001b[0m\u001b[0mshape\u001b[0m\u001b[0;34m)\u001b[0m\u001b[0;34m)\u001b[0m \u001b[0;34m+\u001b[0m \u001b[0;34m' dimensions, but got array '\u001b[0m\u001b[0;34m\u001b[0m\u001b[0;34m\u001b[0m\u001b[0m\n\u001b[0;32m--> 135\u001b[0;31m                         'with shape ' + str(data_shape))\n\u001b[0m\u001b[1;32m    136\u001b[0m                 \u001b[0;32mif\u001b[0m \u001b[0;32mnot\u001b[0m \u001b[0mcheck_batch_axis\u001b[0m\u001b[0;34m:\u001b[0m\u001b[0;34m\u001b[0m\u001b[0;34m\u001b[0m\u001b[0m\n\u001b[1;32m    137\u001b[0m                     \u001b[0mdata_shape\u001b[0m \u001b[0;34m=\u001b[0m \u001b[0mdata_shape\u001b[0m\u001b[0;34m[\u001b[0m\u001b[0;36m1\u001b[0m\u001b[0;34m:\u001b[0m\u001b[0;34m]\u001b[0m\u001b[0;34m\u001b[0m\u001b[0;34m\u001b[0m\u001b[0m\n",
      "\u001b[0;31mValueError\u001b[0m: Error when checking input: expected dense_1_input to have 2 dimensions, but got array with shape (32, 299, 299, 3)"
     ]
    }
   ],
   "source": [
    "model2.predict_classes(test_gen, batch_size = None)"
   ]
  },
  {
   "cell_type": "code",
   "execution_count": 4,
   "metadata": {},
   "outputs": [
    {
     "name": "stdout",
     "output_type": "stream",
     "text": [
      "Found 11237 images belonging to 6 classes.\n",
      "Found 2804 images belonging to 6 classes.\n",
      "Found 3000 images belonging to 6 classes.\n"
     ]
    }
   ],
   "source": [
    "# train generator:\n",
    "train_gen = ImageDataGenerator(rescale = 1. / 255).flow_from_directory(train_folder, target_size = (299, 299), batch_size = 32)\n",
    "\n",
    "# val generator:\n",
    "val_gen = ImageDataGenerator(rescale = 1. / 255).flow_from_directory(val_folder, target_size = (299, 299), batch_size = 32)\n",
    "\n",
    "# test generator:\n",
    "test_gen = ImageDataGenerator(rescale = 1. / 255).flow_from_directory(test_folder, target_size = (299, 299), batch_size = 32)"
   ]
  },
  {
   "cell_type": "code",
   "execution_count": 7,
   "metadata": {
    "collapsed": true,
    "jupyter": {
     "outputs_hidden": true
    }
   },
   "outputs": [
    {
     "ename": "ValueError",
     "evalue": "Error when checking input: expected dense_1_input to have 2 dimensions, but got array with shape (32, 299, 299, 3)",
     "output_type": "error",
     "traceback": [
      "\u001b[0;31m---------------------------------------------------------------------------\u001b[0m",
      "\u001b[0;31mValueError\u001b[0m                                Traceback (most recent call last)",
      "\u001b[0;32m<ipython-input-7-a2f7c2702565>\u001b[0m in \u001b[0;36m<module>\u001b[0;34m\u001b[0m\n\u001b[0;32m----> 1\u001b[0;31m \u001b[0mmodel2\u001b[0m\u001b[0;34m.\u001b[0m\u001b[0mpredict_generator\u001b[0m\u001b[0;34m(\u001b[0m\u001b[0mtest_gen\u001b[0m\u001b[0;34m,\u001b[0m \u001b[0;36m3000\u001b[0m\u001b[0;34m//\u001b[0m\u001b[0;36m33\u001b[0m\u001b[0;34m)\u001b[0m\u001b[0;34m\u001b[0m\u001b[0;34m\u001b[0m\u001b[0m\n\u001b[0m",
      "\u001b[0;32m/opt/anaconda3/envs/cap-env/lib/python3.6/site-packages/keras/legacy/interfaces.py\u001b[0m in \u001b[0;36mwrapper\u001b[0;34m(*args, **kwargs)\u001b[0m\n\u001b[1;32m     89\u001b[0m                 warnings.warn('Update your `' + object_name + '` call to the ' +\n\u001b[1;32m     90\u001b[0m                               'Keras 2 API: ' + signature, stacklevel=2)\n\u001b[0;32m---> 91\u001b[0;31m             \u001b[0;32mreturn\u001b[0m \u001b[0mfunc\u001b[0m\u001b[0;34m(\u001b[0m\u001b[0;34m*\u001b[0m\u001b[0margs\u001b[0m\u001b[0;34m,\u001b[0m \u001b[0;34m**\u001b[0m\u001b[0mkwargs\u001b[0m\u001b[0;34m)\u001b[0m\u001b[0;34m\u001b[0m\u001b[0;34m\u001b[0m\u001b[0m\n\u001b[0m\u001b[1;32m     92\u001b[0m         \u001b[0mwrapper\u001b[0m\u001b[0;34m.\u001b[0m\u001b[0m_original_function\u001b[0m \u001b[0;34m=\u001b[0m \u001b[0mfunc\u001b[0m\u001b[0;34m\u001b[0m\u001b[0;34m\u001b[0m\u001b[0m\n\u001b[1;32m     93\u001b[0m         \u001b[0;32mreturn\u001b[0m \u001b[0mwrapper\u001b[0m\u001b[0;34m\u001b[0m\u001b[0;34m\u001b[0m\u001b[0m\n",
      "\u001b[0;32m/opt/anaconda3/envs/cap-env/lib/python3.6/site-packages/keras/engine/training.py\u001b[0m in \u001b[0;36mpredict_generator\u001b[0;34m(self, generator, steps, callbacks, max_queue_size, workers, use_multiprocessing, verbose)\u001b[0m\n\u001b[1;32m   1844\u001b[0m             \u001b[0mworkers\u001b[0m\u001b[0;34m=\u001b[0m\u001b[0mworkers\u001b[0m\u001b[0;34m,\u001b[0m\u001b[0;34m\u001b[0m\u001b[0;34m\u001b[0m\u001b[0m\n\u001b[1;32m   1845\u001b[0m             \u001b[0muse_multiprocessing\u001b[0m\u001b[0;34m=\u001b[0m\u001b[0muse_multiprocessing\u001b[0m\u001b[0;34m,\u001b[0m\u001b[0;34m\u001b[0m\u001b[0;34m\u001b[0m\u001b[0m\n\u001b[0;32m-> 1846\u001b[0;31m             verbose=verbose)\n\u001b[0m\u001b[1;32m   1847\u001b[0m \u001b[0;34m\u001b[0m\u001b[0m\n\u001b[1;32m   1848\u001b[0m \u001b[0;34m\u001b[0m\u001b[0m\n",
      "\u001b[0;32m/opt/anaconda3/envs/cap-env/lib/python3.6/site-packages/keras/engine/training_generator.py\u001b[0m in \u001b[0;36mpredict_generator\u001b[0;34m(model, generator, steps, callbacks, max_queue_size, workers, use_multiprocessing, verbose)\u001b[0m\n\u001b[1;32m    525\u001b[0m             \u001b[0mcallbacks\u001b[0m\u001b[0;34m.\u001b[0m\u001b[0m_call_batch_hook\u001b[0m\u001b[0;34m(\u001b[0m\u001b[0;34m'predict'\u001b[0m\u001b[0;34m,\u001b[0m \u001b[0;34m'begin'\u001b[0m\u001b[0;34m,\u001b[0m \u001b[0msteps_done\u001b[0m\u001b[0;34m,\u001b[0m \u001b[0mbatch_logs\u001b[0m\u001b[0;34m)\u001b[0m\u001b[0;34m\u001b[0m\u001b[0;34m\u001b[0m\u001b[0m\n\u001b[1;32m    526\u001b[0m \u001b[0;34m\u001b[0m\u001b[0m\n\u001b[0;32m--> 527\u001b[0;31m             \u001b[0mouts\u001b[0m \u001b[0;34m=\u001b[0m \u001b[0mmodel\u001b[0m\u001b[0;34m.\u001b[0m\u001b[0mpredict_on_batch\u001b[0m\u001b[0;34m(\u001b[0m\u001b[0mx\u001b[0m\u001b[0;34m)\u001b[0m\u001b[0;34m\u001b[0m\u001b[0;34m\u001b[0m\u001b[0m\n\u001b[0m\u001b[1;32m    528\u001b[0m             \u001b[0mouts\u001b[0m \u001b[0;34m=\u001b[0m \u001b[0mto_list\u001b[0m\u001b[0;34m(\u001b[0m\u001b[0mouts\u001b[0m\u001b[0;34m)\u001b[0m\u001b[0;34m\u001b[0m\u001b[0;34m\u001b[0m\u001b[0m\n\u001b[1;32m    529\u001b[0m \u001b[0;34m\u001b[0m\u001b[0m\n",
      "\u001b[0;32m/opt/anaconda3/envs/cap-env/lib/python3.6/site-packages/keras/engine/training.py\u001b[0m in \u001b[0;36mpredict_on_batch\u001b[0;34m(self, x)\u001b[0m\n\u001b[1;32m   1572\u001b[0m             \u001b[0mNumpy\u001b[0m \u001b[0marray\u001b[0m\u001b[0;34m(\u001b[0m\u001b[0ms\u001b[0m\u001b[0;34m)\u001b[0m \u001b[0mof\u001b[0m \u001b[0mpredictions\u001b[0m\u001b[0;34m.\u001b[0m\u001b[0;34m\u001b[0m\u001b[0;34m\u001b[0m\u001b[0m\n\u001b[1;32m   1573\u001b[0m         \"\"\"\n\u001b[0;32m-> 1574\u001b[0;31m         \u001b[0mx\u001b[0m\u001b[0;34m,\u001b[0m \u001b[0m_\u001b[0m\u001b[0;34m,\u001b[0m \u001b[0m_\u001b[0m \u001b[0;34m=\u001b[0m \u001b[0mself\u001b[0m\u001b[0;34m.\u001b[0m\u001b[0m_standardize_user_data\u001b[0m\u001b[0;34m(\u001b[0m\u001b[0mx\u001b[0m\u001b[0;34m)\u001b[0m\u001b[0;34m\u001b[0m\u001b[0;34m\u001b[0m\u001b[0m\n\u001b[0m\u001b[1;32m   1575\u001b[0m         \u001b[0;32mif\u001b[0m \u001b[0mself\u001b[0m\u001b[0;34m.\u001b[0m\u001b[0m_uses_dynamic_learning_phase\u001b[0m\u001b[0;34m(\u001b[0m\u001b[0;34m)\u001b[0m\u001b[0;34m:\u001b[0m\u001b[0;34m\u001b[0m\u001b[0;34m\u001b[0m\u001b[0m\n\u001b[1;32m   1576\u001b[0m             \u001b[0mins\u001b[0m \u001b[0;34m=\u001b[0m \u001b[0mx\u001b[0m \u001b[0;34m+\u001b[0m \u001b[0;34m[\u001b[0m\u001b[0;36m0\u001b[0m\u001b[0;34m]\u001b[0m\u001b[0;34m\u001b[0m\u001b[0;34m\u001b[0m\u001b[0m\n",
      "\u001b[0;32m/opt/anaconda3/envs/cap-env/lib/python3.6/site-packages/keras/engine/training.py\u001b[0m in \u001b[0;36m_standardize_user_data\u001b[0;34m(self, x, y, sample_weight, class_weight, check_array_lengths, batch_size)\u001b[0m\n\u001b[1;32m    577\u001b[0m             \u001b[0mfeed_input_shapes\u001b[0m\u001b[0;34m,\u001b[0m\u001b[0;34m\u001b[0m\u001b[0;34m\u001b[0m\u001b[0m\n\u001b[1;32m    578\u001b[0m             \u001b[0mcheck_batch_axis\u001b[0m\u001b[0;34m=\u001b[0m\u001b[0;32mFalse\u001b[0m\u001b[0;34m,\u001b[0m  \u001b[0;31m# Don't enforce the batch size.\u001b[0m\u001b[0;34m\u001b[0m\u001b[0;34m\u001b[0m\u001b[0m\n\u001b[0;32m--> 579\u001b[0;31m             exception_prefix='input')\n\u001b[0m\u001b[1;32m    580\u001b[0m \u001b[0;34m\u001b[0m\u001b[0m\n\u001b[1;32m    581\u001b[0m         \u001b[0;32mif\u001b[0m \u001b[0my\u001b[0m \u001b[0;32mis\u001b[0m \u001b[0;32mnot\u001b[0m \u001b[0;32mNone\u001b[0m\u001b[0;34m:\u001b[0m\u001b[0;34m\u001b[0m\u001b[0;34m\u001b[0m\u001b[0m\n",
      "\u001b[0;32m/opt/anaconda3/envs/cap-env/lib/python3.6/site-packages/keras/engine/training_utils.py\u001b[0m in \u001b[0;36mstandardize_input_data\u001b[0;34m(data, names, shapes, check_batch_axis, exception_prefix)\u001b[0m\n\u001b[1;32m    133\u001b[0m                         \u001b[0;34m': expected '\u001b[0m \u001b[0;34m+\u001b[0m \u001b[0mnames\u001b[0m\u001b[0;34m[\u001b[0m\u001b[0mi\u001b[0m\u001b[0;34m]\u001b[0m \u001b[0;34m+\u001b[0m \u001b[0;34m' to have '\u001b[0m \u001b[0;34m+\u001b[0m\u001b[0;34m\u001b[0m\u001b[0;34m\u001b[0m\u001b[0m\n\u001b[1;32m    134\u001b[0m                         \u001b[0mstr\u001b[0m\u001b[0;34m(\u001b[0m\u001b[0mlen\u001b[0m\u001b[0;34m(\u001b[0m\u001b[0mshape\u001b[0m\u001b[0;34m)\u001b[0m\u001b[0;34m)\u001b[0m \u001b[0;34m+\u001b[0m \u001b[0;34m' dimensions, but got array '\u001b[0m\u001b[0;34m\u001b[0m\u001b[0;34m\u001b[0m\u001b[0m\n\u001b[0;32m--> 135\u001b[0;31m                         'with shape ' + str(data_shape))\n\u001b[0m\u001b[1;32m    136\u001b[0m                 \u001b[0;32mif\u001b[0m \u001b[0;32mnot\u001b[0m \u001b[0mcheck_batch_axis\u001b[0m\u001b[0;34m:\u001b[0m\u001b[0;34m\u001b[0m\u001b[0;34m\u001b[0m\u001b[0m\n\u001b[1;32m    137\u001b[0m                     \u001b[0mdata_shape\u001b[0m \u001b[0;34m=\u001b[0m \u001b[0mdata_shape\u001b[0m\u001b[0;34m[\u001b[0m\u001b[0;36m1\u001b[0m\u001b[0;34m:\u001b[0m\u001b[0;34m]\u001b[0m\u001b[0;34m\u001b[0m\u001b[0;34m\u001b[0m\u001b[0m\n",
      "\u001b[0;31mValueError\u001b[0m: Error when checking input: expected dense_1_input to have 2 dimensions, but got array with shape (32, 299, 299, 3)"
     ]
    }
   ],
   "source": [
    "model2.predict_generator(test_gen, 3000//33)"
   ]
  },
  {
   "cell_type": "markdown",
   "metadata": {},
   "source": [
    "## Report Model 2:"
   ]
  },
  {
   "cell_type": "code",
   "execution_count": 19,
   "metadata": {},
   "outputs": [],
   "source": [
    "report_model2 = load_model(parent_dir + 'models/report_model2', custom_objects = None, compile = True)"
   ]
  },
  {
   "cell_type": "code",
   "execution_count": 20,
   "metadata": {},
   "outputs": [
    {
     "name": "stdout",
     "output_type": "stream",
     "text": [
      "Found 11237 images belonging to 6 classes.\n",
      "Found 2804 images belonging to 6 classes.\n",
      "Found 3000 images belonging to 6 classes.\n"
     ]
    }
   ],
   "source": [
    "# train generator:\n",
    "train_gen = ImageDataGenerator(rescale = 1. / 255).flow_from_directory(train_folder, target_size = (299, 299), batch_size = 32)\n",
    "\n",
    "# val generator:\n",
    "val_gen = ImageDataGenerator(rescale = 1. / 255).flow_from_directory(val_folder, target_size = (299, 299), batch_size = 32)\n",
    "\n",
    "# test generator:\n",
    "test_gen = ImageDataGenerator(rescale = 1. / 255).flow_from_directory(test_folder, target_size = (299, 299), batch_size = 32)"
   ]
  },
  {
   "cell_type": "code",
   "execution_count": 21,
   "metadata": {},
   "outputs": [
    {
     "data": {
      "text/plain": [
       "array([[0.15720542, 0.16166498, 0.17134063, 0.17858744, 0.16130818,\n",
       "        0.16989332],\n",
       "       [0.15720542, 0.16166498, 0.17134063, 0.17858744, 0.16130818,\n",
       "        0.16989332],\n",
       "       [0.15720542, 0.16166498, 0.17134063, 0.17858744, 0.16130818,\n",
       "        0.16989332],\n",
       "       ...,\n",
       "       [0.15720542, 0.16166498, 0.17134063, 0.17858744, 0.16130818,\n",
       "        0.16989332],\n",
       "       [0.15720542, 0.16166498, 0.17134063, 0.17858744, 0.16130818,\n",
       "        0.16989332],\n",
       "       [0.15720542, 0.16166498, 0.17134063, 0.17858744, 0.16130818,\n",
       "        0.16989332]], dtype=float32)"
      ]
     },
     "execution_count": 21,
     "metadata": {},
     "output_type": "execute_result"
    }
   ],
   "source": [
    "report_model2.predict_generator(test_gen)"
   ]
  },
  {
   "cell_type": "code",
   "execution_count": 26,
   "metadata": {},
   "outputs": [],
   "source": [
    "preds = report_model2.predict_generator(test_gen)"
   ]
  },
  {
   "cell_type": "code",
   "execution_count": 27,
   "metadata": {},
   "outputs": [],
   "source": [
    "preds_max = np.argmax(preds, axis = 1)"
   ]
  },
  {
   "cell_type": "code",
   "execution_count": 28,
   "metadata": {},
   "outputs": [
    {
     "data": {
      "text/plain": [
       "array([3, 3, 3, ..., 3, 3, 3])"
      ]
     },
     "execution_count": 28,
     "metadata": {},
     "output_type": "execute_result"
    }
   ],
   "source": [
    "preds_max"
   ]
  },
  {
   "cell_type": "code",
   "execution_count": 29,
   "metadata": {},
   "outputs": [
    {
     "data": {
      "text/plain": [
       "array([[  0,   0,   0, 437,   0,   0],\n",
       "       [  0,   0,   0, 474,   0,   0],\n",
       "       [  0,   0,   0, 553,   0,   0],\n",
       "       [  0,   0,   0, 525,   0,   0],\n",
       "       [  0,   0,   0, 510,   0,   0],\n",
       "       [  0,   0,   0, 501,   0,   0]])"
      ]
     },
     "execution_count": 29,
     "metadata": {},
     "output_type": "execute_result"
    }
   ],
   "source": [
    "confusion_matrix(test_gen.labels, preds_max)"
   ]
  },
  {
   "cell_type": "code",
   "execution_count": 30,
   "metadata": {},
   "outputs": [
    {
     "data": {
      "text/plain": [
       "array([[0.15720542, 0.16166498, 0.17134063, 0.17858744, 0.16130818,\n",
       "        0.16989332],\n",
       "       [0.15720542, 0.16166498, 0.17134063, 0.17858744, 0.16130818,\n",
       "        0.16989332],\n",
       "       [0.15720542, 0.16166498, 0.17134063, 0.17858744, 0.16130818,\n",
       "        0.16989332],\n",
       "       ...,\n",
       "       [0.15720542, 0.16166498, 0.17134063, 0.17858744, 0.16130818,\n",
       "        0.16989332],\n",
       "       [0.15720542, 0.16166498, 0.17134063, 0.17858744, 0.16130818,\n",
       "        0.16989332],\n",
       "       [0.15720542, 0.16166498, 0.17134063, 0.17858744, 0.16130818,\n",
       "        0.16989332]], dtype=float32)"
      ]
     },
     "execution_count": 30,
     "metadata": {},
     "output_type": "execute_result"
    }
   ],
   "source": [
    "preds"
   ]
  },
  {
   "cell_type": "code",
   "execution_count": 33,
   "metadata": {},
   "outputs": [
    {
     "data": {
      "text/plain": [
       "array([0, 0, 0, ..., 5, 5, 5], dtype=int32)"
      ]
     },
     "execution_count": 33,
     "metadata": {},
     "output_type": "execute_result"
    }
   ],
   "source": [
    "test_gen.labels"
   ]
  },
  {
   "cell_type": "code",
   "execution_count": 34,
   "metadata": {},
   "outputs": [
    {
     "data": {
      "text/plain": [
       "{0, 1, 2, 3, 4, 5}"
      ]
     },
     "execution_count": 34,
     "metadata": {},
     "output_type": "execute_result"
    }
   ],
   "source": [
    "set(test_gen.labels)"
   ]
  },
  {
   "cell_type": "code",
   "execution_count": 24,
   "metadata": {},
   "outputs": [
    {
     "data": {
      "text/plain": [
       "array([ True,  True,  True, ...,  True,  True,  True])"
      ]
     },
     "execution_count": 24,
     "metadata": {},
     "output_type": "execute_result"
    }
   ],
   "source": [
    "test_gen.classes == test_gen.labels"
   ]
  },
  {
   "cell_type": "code",
   "execution_count": 25,
   "metadata": {},
   "outputs": [
    {
     "data": {
      "text/plain": [
       "array([0, 0, 0, ..., 5, 5, 5], dtype=int32)"
      ]
     },
     "execution_count": 25,
     "metadata": {},
     "output_type": "execute_result"
    }
   ],
   "source": [
    "test_gen.labels"
   ]
  },
  {
   "cell_type": "code",
   "execution_count": null,
   "metadata": {},
   "outputs": [],
   "source": []
  }
 ],
 "metadata": {
  "kernelspec": {
   "display_name": "cap-env",
   "language": "python",
   "name": "cap-env"
  },
  "language_info": {
   "codemirror_mode": {
    "name": "ipython",
    "version": 3
   },
   "file_extension": ".py",
   "mimetype": "text/x-python",
   "name": "python",
   "nbconvert_exporter": "python",
   "pygments_lexer": "ipython3",
   "version": "3.6.10"
  }
 },
 "nbformat": 4,
 "nbformat_minor": 4
}
