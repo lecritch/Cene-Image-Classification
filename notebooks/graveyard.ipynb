{
 "cells": [
  {
   "cell_type": "markdown",
   "metadata": {},
   "source": [
    "## Graveyard Code and Analysis\n",
    "\n",
    "This notebook just contains old code and write ups from things in final notebook drafts."
   ]
  },
  {
   "cell_type": "code",
   "execution_count": null,
   "metadata": {},
   "outputs": [],
   "source": []
  },
  {
   "cell_type": "code",
   "execution_count": null,
   "metadata": {},
   "outputs": [],
   "source": []
  },
  {
   "cell_type": "markdown",
   "metadata": {},
   "source": [
    "The models created here are definitely not the best performing models - we can do better.  Due to time constraints and the extended time it took to run later models, I did not have the chance to apply transfer learning as planned.  Future iterations will definitely include this.  Due to overfitting still being present in the model, I will also experiment with other regularization techniques such as L1 and L2 regularization. "
   ]
  },
  {
   "cell_type": "code",
   "execution_count": null,
   "metadata": {},
   "outputs": [],
   "source": []
  },
  {
   "cell_type": "markdown",
   "metadata": {},
   "source": [
    "Read me:\n",
    "\n",
    "model evaluations:\n",
    "\n",
    "This model performed the best so far with a training accuracy of 0.9191 and validation accuracy of 0.8237.  While the model is still overfitting it is the least amount of overfitting we have seen so far in our modelling.  The validation loss is still erratic in its behaviour and does not show signs of convergence yet.  Investigations into why this is happening and if there is any further data manipulation I could perform will be my next step.  This model was not included in this notebook as I it took 7 hours to run and could not reproduce it in this notebook without rerunning it.  The model has been saved though which you can see in the above-linked notebook.\n",
    "\n",
    "\n",
    "\n",
    "\n",
    "\n",
    "Once a model is developed that meets at least 85% accuracy and little to no overfitting, deployment will be the next phase of this project.  I may to create a web application to sort input photos given to the model.  "
   ]
  },
  {
   "cell_type": "markdown",
   "metadata": {},
   "source": [
    "future steps:\n",
    "\n",
    "\n",
    "Further to this, demo deployment will take place, most likely in the form of a web application that takes a scramble of images (of the 6 relevant classes) and sorts them into albums as per the predicted label. "
   ]
  },
  {
   "cell_type": "code",
   "execution_count": null,
   "metadata": {},
   "outputs": [],
   "source": []
  }
 ],
 "metadata": {
  "kernelspec": {
   "display_name": "cap-env",
   "language": "python",
   "name": "cap-env"
  },
  "language_info": {
   "codemirror_mode": {
    "name": "ipython",
    "version": 3
   },
   "file_extension": ".py",
   "mimetype": "text/x-python",
   "name": "python",
   "nbconvert_exporter": "python",
   "pygments_lexer": "ipython3",
   "version": "3.6.10"
  }
 },
 "nbformat": 4,
 "nbformat_minor": 4
}
