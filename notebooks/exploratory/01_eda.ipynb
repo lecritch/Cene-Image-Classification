{
 "cells": [
  {
   "cell_type": "markdown",
   "metadata": {},
   "source": [
    "# EDA of Intel Image Classification Dataset\n",
    "\n",
    "In this notebook I explore my dataset and ensure that the data is split up appropriately "
   ]
  },
  {
   "cell_type": "code",
   "execution_count": 90,
   "metadata": {},
   "outputs": [
    {
     "name": "stderr",
     "output_type": "stream",
     "text": [
      "Using TensorFlow backend.\n"
     ]
    }
   ],
   "source": [
    "import os, shutil\n",
    "import numpy as np\n",
    "import random\n",
    "import matplotlib.pyplot as plt\n",
    "import seaborn as sns\n",
    "%matplotlib inline\n",
    "\n",
    "import time\n",
    "import scipy\n",
    "from PIL import Image\n",
    "from scipy import ndimage\n",
    "from keras.preprocessing.image import ImageDataGenerator, array_to_img, img_to_array, load_img\n",
    "\n",
    "parent_dir = '../../'"
   ]
  },
  {
   "cell_type": "code",
   "execution_count": 37,
   "metadata": {},
   "outputs": [],
   "source": [
    "# plot params:\n",
    "plt.rcParams['axes.edgecolor'] = 'white'\n",
    "plt.rcParams['axes.titlesize'] = 20\n",
    "plt.rcParams['axes.labelsize'] = 18\n",
    "plt.rcParams['xtick.labelsize'] = 12\n",
    "plt.rcParams['ytick.labelsize'] = 12\n",
    "plt.rcParams['figure.figsize'] = [10, 8]\n",
    "plt.rcParams['savefig.directory'] = parent_dir + '/figures/'"
   ]
  },
  {
   "cell_type": "markdown",
   "metadata": {},
   "source": [
    "Our data is currently split up into labeled train and test sets and then we also have access to an unlabeled 'prediction' set.  \n",
    "\n",
    "We want to be able to validate our model without tapping into the labeled test set too early, so I'd like to further split the training set up into a validation set, which I will do now:"
   ]
  },
  {
   "cell_type": "code",
   "execution_count": 2,
   "metadata": {},
   "outputs": [],
   "source": [
    "train_buildings_dir = parent_dir + 'data/seg_train/buildings'\n",
    "train_forest_dir = parent_dir + 'data/seg_train/forest'\n",
    "train_glacier_dir = parent_dir + 'data/seg_train/glacier'\n",
    "train_mountain_dir = parent_dir + 'data/seg_train/mountain'\n",
    "train_sea_dir = parent_dir + 'data/seg_train/sea'\n",
    "train_street_dir = parent_dir + 'data/seg_train/street'"
   ]
  },
  {
   "cell_type": "code",
   "execution_count": 3,
   "metadata": {},
   "outputs": [],
   "source": [
    "imgs_buildings = [file for file in os.listdir(train_buildings_dir) if file.endswith('.jpg')]\n",
    "imgs_forest = [file for file in os.listdir(train_forest_dir) if file.endswith('.jpg')]\n",
    "imgs_glacier = [file for file in os.listdir(train_glacier_dir) if file.endswith('.jpg')]\n",
    "imgs_mountain = [file for file in os.listdir(train_mountain_dir) if file.endswith('.jpg')]\n",
    "imgs_sea = [file for file in os.listdir(train_sea_dir) if file.endswith('.jpg')]\n",
    "imgs_street = [file for file in os.listdir(train_street_dir) if file.endswith('.jpg')]"
   ]
  },
  {
   "cell_type": "code",
   "execution_count": 67,
   "metadata": {},
   "outputs": [
    {
     "name": "stdout",
     "output_type": "stream",
     "text": [
      "There are 2191 buildings images\n",
      "There are 2271 forest images\n",
      "There are 2404 glacier images\n",
      "There are 2512 mountain images\n",
      "There are 2274 sea images\n",
      "There are 2382 street images\n"
     ]
    }
   ],
   "source": [
    "scenes = ['buildings', 'forest', 'glacier', 'mountain', 'sea', 'street']\n",
    "img_files = [imgs_buildings, imgs_forest, imgs_glacier, imgs_mountain, imgs_sea, imgs_street]\n",
    "# let's create a dictionary containing the number of images per scene\n",
    "len_imgs_dict = {}\n",
    "for file, scene in zip(img_files, scenes):\n",
    "    print('There are', len(file), f'{scene} images')\n",
    "    len_imgs_dict[scene] = len(file)"
   ]
  },
  {
   "cell_type": "code",
   "execution_count": 8,
   "metadata": {},
   "outputs": [
    {
     "data": {
      "text/plain": [
       "{'buildings': 2191,\n",
       " 'forest': 2271,\n",
       " 'glacier': 2404,\n",
       " 'mountain': 2512,\n",
       " 'sea': 2274,\n",
       " 'street': 2382}"
      ]
     },
     "execution_count": 8,
     "metadata": {},
     "output_type": "execute_result"
    }
   ],
   "source": [
    "len_imgs_dict"
   ]
  },
  {
   "cell_type": "markdown",
   "metadata": {},
   "source": [
    "Now, let's visualise the distribution of images in the training set:"
   ]
  },
  {
   "cell_type": "code",
   "execution_count": 83,
   "metadata": {},
   "outputs": [],
   "source": [
    "x = list(len_imgs_dict.keys())"
   ]
  },
  {
   "cell_type": "code",
   "execution_count": 84,
   "metadata": {},
   "outputs": [
    {
     "data": {
      "text/plain": [
       "['buildings', 'forest', 'glacier', 'mountain', 'sea', 'street']"
      ]
     },
     "execution_count": 84,
     "metadata": {},
     "output_type": "execute_result"
    }
   ],
   "source": [
    "x"
   ]
  },
  {
   "cell_type": "code",
   "execution_count": 85,
   "metadata": {},
   "outputs": [],
   "source": [
    "y = list(len_imgs_dict.values())"
   ]
  },
  {
   "cell_type": "code",
   "execution_count": 86,
   "metadata": {},
   "outputs": [
    {
     "data": {
      "text/plain": [
       "[2191, 2271, 2404, 2512, 2274, 2382]"
      ]
     },
     "execution_count": 86,
     "metadata": {},
     "output_type": "execute_result"
    }
   ],
   "source": [
    "y"
   ]
  },
  {
   "cell_type": "code",
   "execution_count": 89,
   "metadata": {},
   "outputs": [
    {
     "data": {
      "image/png": "[encoded data removed]",
      "text/plain": [
       "<Figure size 720x576 with 1 Axes>"
      ]
     },
     "metadata": {
      "needs_background": "light"
     },
     "output_type": "display_data"
    }
   ],
   "source": [
    "plt.rcParams['axes.edgecolor'] = 'white'\n",
    "fig, ax = plt.subplots(figsize = (10, 8))\n",
    "sns.barplot(x, y)\n",
    "total = np.sum(y)\n",
    "for p in ax.patches:\n",
    "        percentage = '{:.1f}%'.format(100 * p.get_height()/total)\n",
    "        x_ = p.get_x() + p.get_width() + 0.02\n",
    "        y_ = p.get_y() + p.get_height()/2\n",
    "        ax.annotate(percentage, (x_, y_))\n",
    "plt.title('Number of Images for each Scene', fontsize = 20)\n",
    "plt.xlabel('Scene', fontsize = 18)\n",
    "plt.ylabel('Number of Images', fontsize = 18)\n",
    "plt.xticks(fontsize = 12)\n",
    "plt.savefig(parent_dir + 'figures/num_imgs_per_scene')\n",
    "plt.show()"
   ]
  },
  {
   "cell_type": "markdown",
   "metadata": {},
   "source": [
    "We see from this bar graph that we have relatively balanced classes with the mountain class containing the most amount of images and see containing the least.  "
   ]
  },
  {
   "cell_type": "markdown",
   "metadata": {},
   "source": [
    "Now, let's get back to creating a new validation set.  We'll start by creating a validation folder:"
   ]
  },
  {
   "cell_type": "code",
   "execution_count": 104,
   "metadata": {},
   "outputs": [],
   "source": [
    "val_folder = parent_dir + 'data/seg_val/'\n",
    "test_folder = parent_dir + 'data/seg_test/'\n",
    "train_folder = parent_dir + 'data/seg_train/'"
   ]
  },
  {
   "cell_type": "code",
   "execution_count": 105,
   "metadata": {},
   "outputs": [
    {
     "data": {
      "text/plain": [
       "'../../data/seg_test/'"
      ]
     },
     "execution_count": 105,
     "metadata": {},
     "output_type": "execute_result"
    }
   ],
   "source": [
    "test_folder"
   ]
  },
  {
   "cell_type": "code",
   "execution_count": 106,
   "metadata": {},
   "outputs": [
    {
     "data": {
      "text/plain": [
       "'../../data/seg_train/'"
      ]
     },
     "execution_count": 106,
     "metadata": {},
     "output_type": "execute_result"
    }
   ],
   "source": [
    "train_folder"
   ]
  },
  {
   "cell_type": "code",
   "execution_count": 107,
   "metadata": {},
   "outputs": [
    {
     "data": {
      "text/plain": [
       "'../../data/seg_val/'"
      ]
     },
     "execution_count": 107,
     "metadata": {},
     "output_type": "execute_result"
    }
   ],
   "source": [
    "val_folder"
   ]
  },
  {
   "cell_type": "code",
   "execution_count": 43,
   "metadata": {},
   "outputs": [],
   "source": [
    "val_buildings = os.path.join(val_folder, 'buildings')\n",
    "val_forest = os.path.join(val_folder, 'forest')\n",
    "val_glacier = os.path.join(val_folder, 'glacier')\n",
    "val_mountain = os.path.join(val_folder, 'mountain')\n",
    "val_sea = os.path.join(val_folder, 'sea')\n",
    "val_street = os.path.join(val_folder, 'street')"
   ]
  },
  {
   "cell_type": "markdown",
   "metadata": {},
   "source": [
    "Preview one of the example file paths:"
   ]
  },
  {
   "cell_type": "code",
   "execution_count": 44,
   "metadata": {},
   "outputs": [
    {
     "data": {
      "text/plain": [
       "'../../data/seg_val/buildings'"
      ]
     },
     "execution_count": 44,
     "metadata": {},
     "output_type": "execute_result"
    }
   ],
   "source": [
    "val_buildings"
   ]
  },
  {
   "cell_type": "markdown",
   "metadata": {},
   "source": [
    "Now, I'll actually create the directories:"
   ]
  },
  {
   "cell_type": "code",
   "execution_count": 46,
   "metadata": {},
   "outputs": [],
   "source": [
    "os.mkdir(val_folder)\n",
    "os.mkdir(val_buildings)\n",
    "os.mkdir(val_forest)\n",
    "os.mkdir(val_glacier)\n",
    "os.mkdir(val_mountain)\n",
    "os.mkdir(val_sea)\n",
    "os.mkdir(val_street)"
   ]
  },
  {
   "cell_type": "code",
   "execution_count": 53,
   "metadata": {},
   "outputs": [
    {
     "data": {
      "text/plain": [
       "['15545.jpg', '14868.jpg', '19134.jpg', '6005.jpg', '8243.jpg']"
      ]
     },
     "execution_count": 53,
     "metadata": {},
     "output_type": "execute_result"
    }
   ],
   "source": [
    "random.sample(imgs_buildings, 5)"
   ]
  },
  {
   "cell_type": "markdown",
   "metadata": {},
   "source": [
    "### Train Test Split\n",
    "\n",
    "I'm now going to perform the split for the validation set.  I'm going to choose an 80-20 split to make sure we don't dilute the training set too much... "
   ]
  },
  {
   "cell_type": "code",
   "execution_count": 60,
   "metadata": {},
   "outputs": [],
   "source": [
    "# validation sets:\n",
    "buildings_split_size = int(len(imgs_buildings) * 0.2)\n",
    "forest_split_size = int(len(imgs_forest) * 0.2)\n",
    "glacier_split_size = int(len(imgs_glacier) * 0.2)\n",
    "mountain_split_size = int(len(imgs_mountain) * 0.2)\n",
    "sea_split_size = int(len(imgs_sea) * 0.2)\n",
    "street_split_size = int(len(imgs_street) * 0.2)"
   ]
  },
  {
   "cell_type": "code",
   "execution_count": 61,
   "metadata": {},
   "outputs": [
    {
     "data": {
      "text/plain": [
       "476"
      ]
     },
     "execution_count": 61,
     "metadata": {},
     "output_type": "execute_result"
    }
   ],
   "source": [
    "street_split_size"
   ]
  },
  {
   "cell_type": "code",
   "execution_count": 62,
   "metadata": {},
   "outputs": [],
   "source": [
    "buildings_val_set = random.sample(imgs_buildings, buildings_split_size)\n",
    "forest_val_set = random.sample(imgs_forest, forest_split_size)\n",
    "glacier_val_set = random.sample(imgs_glacier, glacier_split_size)\n",
    "mountain_val_set = random.sample(imgs_mountain, mountain_split_size)\n",
    "sea_val_set = random.sample(imgs_sea, sea_split_size)\n",
    "street_val_set = random.sample(imgs_street, street_split_size)"
   ]
  },
  {
   "cell_type": "code",
   "execution_count": 64,
   "metadata": {},
   "outputs": [
    {
     "data": {
      "text/plain": [
       "'../../data/seg_val/buildings'"
      ]
     },
     "execution_count": 64,
     "metadata": {},
     "output_type": "execute_result"
    }
   ],
   "source": [
    "val_buildings"
   ]
  },
  {
   "cell_type": "code",
   "execution_count": 74,
   "metadata": {},
   "outputs": [],
   "source": [
    "# validation santa\n",
    "val_sets = [buildings_val_set, forest_val_set, glacier_val_set, \n",
    "            mountain_val_set, sea_val_set, street_val_set]\n",
    "train_locations = [train_buildings_dir, train_forest_dir, train_glacier_dir, \n",
    "                   train_mountain_dir, train_sea_dir, train_street_dir]\n",
    "new_locations = [val_buildings, val_forest, val_glacier, \n",
    "               val_mountain, val_sea, val_street]\n",
    "for val_set, train_location, new_location in zip(val_sets, train_locations, new_locations):\n",
    "    for img in val_set:\n",
    "        origin = os.path.join(train_location, img)\n",
    "        destination = os.path.join(new_location, img)\n",
    "        shutil.move(origin, destination)"
   ]
  },
  {
   "cell_type": "markdown",
   "metadata": {},
   "source": [
    "Now let's check that the images were really moved out of the train set and into the val set.  We'll do this by recounting the number of images in the training folders:"
   ]
  },
  {
   "cell_type": "code",
   "execution_count": 73,
   "metadata": {},
   "outputs": [
    {
     "data": {
      "text/plain": [
       "'../../data/seg_train/buildings'"
      ]
     },
     "execution_count": 73,
     "metadata": {},
     "output_type": "execute_result"
    }
   ],
   "source": [
    "train_buildings_dir"
   ]
  },
  {
   "cell_type": "code",
   "execution_count": 75,
   "metadata": {},
   "outputs": [],
   "source": [
    "train_imgs_buildings = [file for file in os.listdir(train_buildings_dir) if file.endswith('.jpg')]\n",
    "train_imgs_forest = [file for file in os.listdir(train_forest_dir) if file.endswith('.jpg')]\n",
    "train_imgs_glacier = [file for file in os.listdir(train_glacier_dir) if file.endswith('.jpg')]\n",
    "train_imgs_mountain = [file for file in os.listdir(train_mountain_dir) if file.endswith('.jpg')]\n",
    "train_imgs_sea = [file for file in os.listdir(train_sea_dir) if file.endswith('.jpg')]\n",
    "train_imgs_street = [file for file in os.listdir(train_street_dir) if file.endswith('.jpg')]"
   ]
  },
  {
   "cell_type": "code",
   "execution_count": 76,
   "metadata": {},
   "outputs": [
    {
     "name": "stdout",
     "output_type": "stream",
     "text": [
      "There are 1753 buildings images\n",
      "There are 1817 forest images\n",
      "There are 1924 glacier images\n",
      "There are 2010 mountain images\n",
      "There are 1820 sea images\n",
      "There are 1906 street images\n"
     ]
    }
   ],
   "source": [
    "scenes = ['buildings', 'forest', 'glacier', 'mountain', 'sea', 'street']\n",
    "train_img_files = [train_imgs_buildings, train_imgs_forest, train_imgs_glacier, \n",
    "             train_imgs_mountain, train_imgs_sea, train_imgs_street]\n",
    "# let's create a dictionary containing the number of images per scene\n",
    "len_train_imgs_dict = {}\n",
    "for file, scene in zip(train_img_files, scenes):\n",
    "    print('There are', len(file), f'{scene} images')\n",
    "    len_train_imgs_dict[scene] = len(file)"
   ]
  },
  {
   "cell_type": "code",
   "execution_count": 77,
   "metadata": {},
   "outputs": [
    {
     "data": {
      "text/plain": [
       "{'buildings': 1753,\n",
       " 'forest': 1817,\n",
       " 'glacier': 1924,\n",
       " 'mountain': 2010,\n",
       " 'sea': 1820,\n",
       " 'street': 1906}"
      ]
     },
     "execution_count": 77,
     "metadata": {},
     "output_type": "execute_result"
    }
   ],
   "source": [
    "len_train_imgs_dict"
   ]
  },
  {
   "cell_type": "markdown",
   "metadata": {},
   "source": [
    "Compare with original amount in training set:"
   ]
  },
  {
   "cell_type": "code",
   "execution_count": 78,
   "metadata": {},
   "outputs": [
    {
     "data": {
      "text/plain": [
       "{'buildings': 2191,\n",
       " 'forest': 2271,\n",
       " 'glacier': 2404,\n",
       " 'mountain': 2512,\n",
       " 'sea': 2274,\n",
       " 'street': 2382}"
      ]
     },
     "execution_count": 78,
     "metadata": {},
     "output_type": "execute_result"
    }
   ],
   "source": [
    "len_imgs_dict"
   ]
  },
  {
   "cell_type": "markdown",
   "metadata": {},
   "source": [
    "Now let's check the move was correct for the validation set:"
   ]
  },
  {
   "cell_type": "code",
   "execution_count": 79,
   "metadata": {},
   "outputs": [
    {
     "name": "stdout",
     "output_type": "stream",
     "text": [
      "There are 438 buildings images\n",
      "There are 454 forest images\n",
      "There are 480 glacier images\n",
      "There are 502 mountain images\n",
      "There are 454 sea images\n",
      "There are 476 street images\n"
     ]
    }
   ],
   "source": [
    "val_imgs_buildings = [file for file in os.listdir(val_buildings) if file.endswith('.jpg')]\n",
    "val_imgs_forest = [file for file in os.listdir(val_forest) if file.endswith('.jpg')]\n",
    "val_imgs_glacier = [file for file in os.listdir(val_glacier) if file.endswith('.jpg')]\n",
    "val_imgs_mountain = [file for file in os.listdir(val_mountain) if file.endswith('.jpg')]\n",
    "val_imgs_sea = [file for file in os.listdir(val_sea) if file.endswith('.jpg')]\n",
    "val_imgs_street = [file for file in os.listdir(val_street) if file.endswith('.jpg')]\n",
    "\n",
    "scenes = ['buildings', 'forest', 'glacier', 'mountain', 'sea', 'street']\n",
    "val_img_files = [val_imgs_buildings, val_imgs_forest, val_imgs_glacier, \n",
    "             val_imgs_mountain, val_imgs_sea, val_imgs_street]\n",
    "# let's create a dictionary containing the number of images per scene\n",
    "len_val_imgs_dict = {}\n",
    "for file, scene in zip(val_img_files, scenes):\n",
    "    print('There are', len(file), f'{scene} images')\n",
    "    len_val_imgs_dict[scene] = len(file)"
   ]
  },
  {
   "cell_type": "markdown",
   "metadata": {},
   "source": [
    "So, we now have a validation set with 20% of the training images.  We'll be able to use this for our modelling and keep our test set clean. "
   ]
  },
  {
   "cell_type": "markdown",
   "metadata": {},
   "source": [
    "Let's first see how many images we have in training, test, and validation:"
   ]
  },
  {
   "cell_type": "code",
   "execution_count": 108,
   "metadata": {},
   "outputs": [
    {
     "data": {
      "text/plain": [
       "11230"
      ]
     },
     "execution_count": 108,
     "metadata": {},
     "output_type": "execute_result"
    }
   ],
   "source": [
    "# training\n",
    "sum(list(len_train_imgs_dict.values()))"
   ]
  },
  {
   "cell_type": "code",
   "execution_count": 109,
   "metadata": {},
   "outputs": [
    {
     "data": {
      "text/plain": [
       "2804"
      ]
     },
     "execution_count": 109,
     "metadata": {},
     "output_type": "execute_result"
    }
   ],
   "source": [
    "# validation\n",
    "sum(list(len_val_imgs_dict.values()))"
   ]
  },
  {
   "cell_type": "markdown",
   "metadata": {},
   "source": [
    "And I know there are 3000 in the test set."
   ]
  },
  {
   "cell_type": "markdown",
   "metadata": {},
   "source": [
    "At this point, I'm going to switch over to modelling and the results of this processing I will continue in the 02_modellling.ipynb notebook contained in the modelling directory. "
   ]
  },
  {
   "cell_type": "markdown",
   "metadata": {},
   "source": [
    "## Prepare for Modelling"
   ]
  },
  {
   "cell_type": "markdown",
   "metadata": {},
   "source": [
    "First, we'll reshape the images in all the different datasets and create data generators for them."
   ]
  },
  {
   "cell_type": "code",
   "execution_count": null,
   "metadata": {},
   "outputs": [],
   "source": [
    "# test generator:\n",
    "test_gen = ImageDataGenerator(rescale = 1. / 255).flow_from_directory(test_folder, batch_size = 64)\n",
    "\n",
    "train_gen = ImageDataGenerator(rescale = 1. / 255).flow_from_directory(train_folder, batch_size = 64)\n"
   ]
  },
  {
   "cell_type": "code",
   "execution_count": null,
   "metadata": {},
   "outputs": [],
   "source": [
    "# get all the data in the directory split/test (180 images), and reshape them\n",
    "test_generator = ImageDataGenerator(rescale=1./255).flow_from_directory(\n",
    "        test_folder, \n",
    "        target_size=(64, 64), batch_size = 180) \n",
    "\n",
    "# get all the data in the directory split/validation (200 images), and reshape them\n",
    "val_generator = ImageDataGenerator(rescale=1./255).flow_from_directory(\n",
    "        val_folder, \n",
    "        target_size=(64, 64), batch_size = 200)\n",
    "\n",
    "# get all the data in the directory split/train (542 images), and reshape them\n",
    "train_generator = ImageDataGenerator(rescale=1./255).flow_from_directory(\n",
    "        train_folder, \n",
    "        target_size=(64, 64), batch_size=542)"
   ]
  }
 ],
 "metadata": {
  "kernelspec": {
   "display_name": "learn-env",
   "language": "python",
   "name": "learn-env"
  },
  "language_info": {
   "codemirror_mode": {
    "name": "ipython",
    "version": 3
   },
   "file_extension": ".py",
   "mimetype": "text/x-python",
   "name": "python",
   "nbconvert_exporter": "python",
   "pygments_lexer": "ipython3",
   "version": "3.6.9"
  }
 },
 "nbformat": 4,
 "nbformat_minor": 4
}
