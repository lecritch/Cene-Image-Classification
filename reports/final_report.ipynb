{
 "cells": [
  {
   "cell_type": "markdown",
   "metadata": {},
   "source": [
    "# ***Cene*** - An Image Classification, Organisation Application\n",
    "\n",
    "*Cene* is an image classification application that aims to classify images of 6 landscapes into corresponding albums.  The landscapes this app is capable of classifying are buildings, forests, glaciers, mountains, seas and streets.  While it is unrealistic that regular users would only have images of these 6 types on their devices, this project aims to create a proof-of-concept application to demonstrate deployment of machine learning image classification models.  \n",
    "\n",
    "## Why does Image Classification Matter?\n",
    "\n",
    "Image recognition is a key component of artificial intelligence.  It has wide practical applications in fields such as search engines, robotics, self-driving vehicles, identity recogition security systems and much more.\n",
    "\n",
    "Image classification has also helped to improve organisation systems.  In the digital age, consumers are able to store thousands of images on their personal devices.  The task of manually sifting through personal photos to organise them into relevant categories is an impossible task for the everday user.  However, this process can be automated by employing machine learning models such as deep neural networks and convolutional neural networks.  "
   ]
  },
  {
   "cell_type": "markdown",
   "metadata": {},
   "source": [
    "## The Data\n",
    "\n",
    "The data used for this project was sourced from [Kaggle](https://www.kaggle.com/puneet6060/intel-image-classification).  The data was intially published on [Analytics Vidhya]( https://datahack.analyticsvidhya.com) as an image classification challenge and the data was provided by Intel.  The owner of the dataset is [Puneet Bansal](https://www.kaggle.com/puneet6060).\n",
    "\n",
    "The data consists of 24,034 building, forest, glacier, mountain, sea and street images.  The data is then split up into training and test sets which each contain 6 sub directories of the 6 image classes.  There are 14,034 images in the training set and 3,000 in the test set.  Further to this, the dataset contains 7,000 unlabelled images for predictive testing purposes.  For modeling purposes, the training set was further split in order to create a validation set.  \n",
    "\n",
    "The file structure of the data directory in this repo and used for modeling throughout this project is as follows:\n",
    "```\n",
    ".\n",
    "├── data\n",
    "│   ├── seg_train\n",
    "│   │   ├── buildings\n",
    "│   │   ├── forest\n",
    "│   │   ├── glacier\n",
    "│   │   ├── mountain\n",
    "│   │   ├── sea\n",
    "│   │   ├── street\n",
    "│   ├── seg_val\n",
    "│   │   ├── buildings\n",
    "│   │   ├── forest\n",
    "│   │   ├── glacier\n",
    "│   │   ├── mountain\n",
    "│   │   ├── sea\n",
    "│   │   ├── street\n",
    "│   ├── seg_test\n",
    "│   │   ├── buildings\n",
    "│   │   ├── forest\n",
    "│   │   ├── glacier\n",
    "│   │   ├── mountain\n",
    "│   │   ├── sea\n",
    "│   │   ├── street\n",
    "│   ├── seg_pred\n",
    "```\n",
    "**Note:**  When downloading the data from Kaggle, the zip file will only contain folders for `seg_train`, `seg_test` and `seg_pred`.  The details of how to create the validation set are provided later on in this notebook.  "
   ]
  },
  {
   "cell_type": "markdown",
   "metadata": {},
   "source": [
    "## Data Preparation and EDA"
   ]
  },
  {
   "cell_type": "markdown",
   "metadata": {},
   "source": [
    "### Imports"
   ]
  },
  {
   "cell_type": "code",
   "execution_count": 1,
   "metadata": {},
   "outputs": [
    {
     "name": "stderr",
     "output_type": "stream",
     "text": [
      "Using TensorFlow backend.\n"
     ]
    }
   ],
   "source": [
    "import os, shutil\n",
    "import numpy as np\n",
    "import random\n",
    "import matplotlib.pyplot as plt\n",
    "import seaborn as sns\n",
    "%matplotlib inline\n",
    "\n",
    "import time\n",
    "import scipy\n",
    "from PIL import Image\n",
    "from scipy import ndimage\n",
    "from keras.preprocessing.image import ImageDataGenerator, array_to_img, img_to_array, load_img\n",
    "\n",
    "parent_dir = '../'"
   ]
  },
  {
   "cell_type": "markdown",
   "metadata": {},
   "source": [
    "### Plotting Parameters"
   ]
  },
  {
   "cell_type": "code",
   "execution_count": 27,
   "metadata": {},
   "outputs": [],
   "source": [
    "# plot params:\n",
    "plt.rcParams['axes.edgecolor'] = 'white'\n",
    "plt.rcParams['axes.titlesize'] = 20\n",
    "plt.rcParams['axes.labelsize'] = 18\n",
    "plt.rcParams['xtick.labelsize'] = 12\n",
    "plt.rcParams['ytick.labelsize'] = 12\n",
    "plt.rcParams['figure.figsize'] = [10, 8]\n",
    "plt.rcParams['savefig.directory'] = parent_dir + '/figures/'"
   ]
  },
  {
   "cell_type": "markdown",
   "metadata": {},
   "source": [
    "### Validation Set"
   ]
  },
  {
   "cell_type": "markdown",
   "metadata": {},
   "source": [
    "Our data is currently split up into labeled train and test sets and then we also have access to an unlabeled 'prediction' set.  \n",
    "\n",
    "We want to be able to validate our model without tapping into the labeled test set too early.  For this reason, we will take 20% of the training images and create a new directory in the data folder called `seg_val`."
   ]
  },
  {
   "cell_type": "markdown",
   "metadata": {},
   "source": [
    "First, we create filepath variables for each class in the training directory:"
   ]
  },
  {
   "cell_type": "code",
   "execution_count": 3,
   "metadata": {},
   "outputs": [],
   "source": [
    "train_buildings_dir = parent_dir + 'data/seg_train/buildings'\n",
    "train_forest_dir = parent_dir + 'data/seg_train/forest'\n",
    "train_glacier_dir = parent_dir + 'data/seg_train/glacier'\n",
    "train_mountain_dir = parent_dir + 'data/seg_train/mountain'\n",
    "train_sea_dir = parent_dir + 'data/seg_train/sea'\n",
    "train_street_dir = parent_dir + 'data/seg_train/street'"
   ]
  },
  {
   "cell_type": "markdown",
   "metadata": {},
   "source": [
    "Next, we create variables to access the images of each class in the training data.  This will result in a list of strings of the image file names:"
   ]
  },
  {
   "cell_type": "code",
   "execution_count": 4,
   "metadata": {},
   "outputs": [],
   "source": [
    "imgs_buildings = [file for file in os.listdir(train_buildings_dir) if file.endswith('.jpg')]\n",
    "imgs_forest = [file for file in os.listdir(train_forest_dir) if file.endswith('.jpg')]\n",
    "imgs_glacier = [file for file in os.listdir(train_glacier_dir) if file.endswith('.jpg')]\n",
    "imgs_mountain = [file for file in os.listdir(train_mountain_dir) if file.endswith('.jpg')]\n",
    "imgs_sea = [file for file in os.listdir(train_sea_dir) if file.endswith('.jpg')]\n",
    "imgs_street = [file for file in os.listdir(train_street_dir) if file.endswith('.jpg')]"
   ]
  },
  {
   "cell_type": "markdown",
   "metadata": {},
   "source": [
    "Let's now view how many images of each class are in the training data to see if we have any class imablances:"
   ]
  },
  {
   "cell_type": "code",
   "execution_count": 7,
   "metadata": {},
   "outputs": [
    {
     "name": "stdout",
     "output_type": "stream",
     "text": [
      "There are 1753 buildings images\n",
      "There are 1817 forest images\n",
      "There are 1924 glacier images\n",
      "There are 2010 mountain images\n",
      "There are 1820 sea images\n",
      "There are 1906 street images\n"
     ]
    }
   ],
   "source": [
    "scenes = ['buildings', 'forest', 'glacier', 'mountain', 'sea', 'street']\n",
    "img_files = [imgs_buildings, imgs_forest, imgs_glacier, imgs_mountain, imgs_sea, imgs_street]\n",
    "# let's create a dictionary containing the number of images per scene\n",
    "num_imgs_dict = {}\n",
    "for file, scene in zip(img_files, scenes):\n",
    "    print('There are', len(file), f'{scene} images')\n",
    "    num_imgs_dict[scene] = len(file)"
   ]
  },
  {
   "cell_type": "markdown",
   "metadata": {},
   "source": [
    "At first glance, it appears like the classes are fairly balanced, but let's visualize this:"
   ]
  },
  {
   "cell_type": "code",
   "execution_count": 28,
   "metadata": {},
   "outputs": [
    {
     "data": {
      "image/png": "[encoded data removed]",
      "text/plain": [
       "<Figure size 864x720 with 1 Axes>"
      ]
     },
     "metadata": {},
     "output_type": "display_data"
    }
   ],
   "source": [
    "classes = list(num_imgs_dict.keys())\n",
    "values = list(num_imgs_dict.values())\n",
    "\n",
    "fig, ax = plt.subplots(figsize = (12, 10))\n",
    "sns.set()\n",
    "sns.set_style('white')\n",
    "sns.color_palette(\"deep\")\n",
    "sns.barplot(classes, values)\n",
    "total = np.sum(values)\n",
    "for p in ax.patches:\n",
    "        percentage = '{:.1f}%'.format(100 * p.get_height()/total)\n",
    "        x_ = p.get_x() + p.get_width() + 0.02\n",
    "        y_ = p.get_y() + p.get_height()/2\n",
    "        ax.annotate(percentage, (x_, y_), fontsize = 15, xytext = (x_-0.6, y_), color = 'white', fontweight = 'bold')\n",
    "plt.title('Number of Images for each Scene', fontsize = 25)\n",
    "plt.xlabel('Scene', fontsize = 22)\n",
    "plt.ylabel('Number of Images', fontsize = 22)\n",
    "plt.xticks(fontsize = 20)\n",
    "plt.savefig(parent_dir + 'figures/num_imgs_per_scene')\n",
    "plt.show()"
   ]
  },
  {
   "cell_type": "markdown",
   "metadata": {},
   "source": [
    "We see from this bar graph that we have relatively balanced classes with the mountain class containing the highest number of images and sea class containing the least.  "
   ]
  },
  {
   "cell_type": "markdown",
   "metadata": {},
   "source": [
    "Now, let's get back to creating a new validation set.  We'll start by creating file paths for the train, test and validation sets:"
   ]
  },
  {
   "cell_type": "code",
   "execution_count": 29,
   "metadata": {},
   "outputs": [],
   "source": [
    "val_folder = parent_dir + 'data/seg_val/'\n",
    "test_folder = parent_dir + 'data/seg_test/'\n",
    "train_folder = parent_dir + 'data/seg_train/'"
   ]
  },
  {
   "cell_type": "markdown",
   "metadata": {},
   "source": [
    "Next, we create file path variables for the class folders within the `seg_val` directory:"
   ]
  },
  {
   "cell_type": "code",
   "execution_count": 30,
   "metadata": {},
   "outputs": [],
   "source": [
    "val_buildings = os.path.join(val_folder, 'buildings')\n",
    "val_forest = os.path.join(val_folder, 'forest')\n",
    "val_glacier = os.path.join(val_folder, 'glacier')\n",
    "val_mountain = os.path.join(val_folder, 'mountain')\n",
    "val_sea = os.path.join(val_folder, 'sea')\n",
    "val_street = os.path.join(val_folder, 'street')"
   ]
  },
  {
   "cell_type": "markdown",
   "metadata": {},
   "source": [
    "Finally, let's actually create the validation directories:"
   ]
  },
  {
   "cell_type": "code",
   "execution_count": 46,
   "metadata": {},
   "outputs": [],
   "source": [
    "# create the seg_val folder within the data directory\n",
    "os.mkdir(val_folder)\n",
    "\n",
    "# create the class labeled folders within the seg_val\n",
    "os.mkdir(val_buildings)\n",
    "os.mkdir(val_forest)\n",
    "os.mkdir(val_glacier)\n",
    "os.mkdir(val_mountain)\n",
    "os.mkdir(val_sea)\n",
    "os.mkdir(val_street)"
   ]
  },
  {
   "cell_type": "markdown",
   "metadata": {},
   "source": [
    "### Train Test (Val) Split\n",
    "\n",
    "Let's now perform the split for the validation set.  I'm going to choose an 80-20 split to make sure we don't dilute the training set too much.  Since each class has a different number of images, we create `_split_size` variables to contain 20% of the images of each class to make sure the class balances stay the same between training and validation sets:"
   ]
  },
  {
   "cell_type": "code",
   "execution_count": 32,
   "metadata": {},
   "outputs": [],
   "source": [
    "# validation sets:\n",
    "buildings_split_size = int(len(imgs_buildings) * 0.2)\n",
    "forest_split_size = int(len(imgs_forest) * 0.2)\n",
    "glacier_split_size = int(len(imgs_glacier) * 0.2)\n",
    "mountain_split_size = int(len(imgs_mountain) * 0.2)\n",
    "sea_split_size = int(len(imgs_sea) * 0.2)\n",
    "street_split_size = int(len(imgs_street) * 0.2)"
   ]
  },
  {
   "cell_type": "markdown",
   "metadata": {},
   "source": [
    "We will then randomly sample images from each class folder in the training set according to the above split sizes for each class:"
   ]
  },
  {
   "cell_type": "code",
   "execution_count": 34,
   "metadata": {},
   "outputs": [],
   "source": [
    "buildings_val_set = random.sample(imgs_buildings, buildings_split_size)\n",
    "forest_val_set = random.sample(imgs_forest, forest_split_size)\n",
    "glacier_val_set = random.sample(imgs_glacier, glacier_split_size)\n",
    "mountain_val_set = random.sample(imgs_mountain, mountain_split_size)\n",
    "sea_val_set = random.sample(imgs_sea, sea_split_size)\n",
    "street_val_set = random.sample(imgs_street, street_split_size)"
   ]
  },
  {
   "cell_type": "markdown",
   "metadata": {},
   "source": [
    "Finally, we can move the randomly selected images from the training directory and into the validation directory:"
   ]
  },
  {
   "cell_type": "code",
   "execution_count": 74,
   "metadata": {},
   "outputs": [],
   "source": [
    "# validation sets\n",
    "val_sets = [buildings_val_set, forest_val_set, glacier_val_set, \n",
    "            mountain_val_set, sea_val_set, street_val_set]\n",
    "\n",
    "# file paths of where the images currently live\n",
    "train_locations = [train_buildings_dir, train_forest_dir, train_glacier_dir, \n",
    "                   train_mountain_dir, train_sea_dir, train_street_dir]\n",
    "\n",
    "# file paths of where we want the images to go \n",
    "new_locations = [val_buildings, val_forest, val_glacier, \n",
    "               val_mountain, val_sea, val_street]\n",
    "\n",
    "for val_set, train_location, new_location in zip(val_sets, train_locations, new_locations):\n",
    "    for img in val_set:\n",
    "        origin = os.path.join(train_location, img)  # where we will take the image from\n",
    "        destination = os.path.join(new_location, img)  # where we want to move the image to\n",
    "        shutil.move(origin, destination)"
   ]
  },
  {
   "cell_type": "markdown",
   "metadata": {},
   "source": [
    "Now let's check that the images were really moved out of the train set and into the val set.  We'll do this by recounting the number of images in the training folders:"
   ]
  },
  {
   "cell_type": "code",
   "execution_count": 75,
   "metadata": {},
   "outputs": [],
   "source": [
    "train_imgs_buildings = [file for file in os.listdir(train_buildings_dir) if file.endswith('.jpg')]\n",
    "train_imgs_forest = [file for file in os.listdir(train_forest_dir) if file.endswith('.jpg')]\n",
    "train_imgs_glacier = [file for file in os.listdir(train_glacier_dir) if file.endswith('.jpg')]\n",
    "train_imgs_mountain = [file for file in os.listdir(train_mountain_dir) if file.endswith('.jpg')]\n",
    "train_imgs_sea = [file for file in os.listdir(train_sea_dir) if file.endswith('.jpg')]\n",
    "train_imgs_street = [file for file in os.listdir(train_street_dir) if file.endswith('.jpg')]"
   ]
  },
  {
   "cell_type": "code",
   "execution_count": 76,
   "metadata": {},
   "outputs": [
    {
     "name": "stdout",
     "output_type": "stream",
     "text": [
      "There are 1753 buildings images\n",
      "There are 1817 forest images\n",
      "There are 1924 glacier images\n",
      "There are 2010 mountain images\n",
      "There are 1820 sea images\n",
      "There are 1906 street images\n"
     ]
    }
   ],
   "source": [
    "# let's create a dictionary containing the number of images per scene\n",
    "new_train_imgs_dict = {}\n",
    "for file, scene in zip(train_img_files, scenes):\n",
    "    print('There are', len(file), f'{scene} images')\n",
    "    new_train_imgs_dict[scene] = len(file)"
   ]
  },
  {
   "cell_type": "markdown",
   "metadata": {},
   "source": [
    "Compare this with original amount in training set:"
   ]
  },
  {
   "cell_type": "code",
   "execution_count": 78,
   "metadata": {},
   "outputs": [
    {
     "data": {
      "text/plain": [
       "{'buildings': 2191,\n",
       " 'forest': 2271,\n",
       " 'glacier': 2404,\n",
       " 'mountain': 2512,\n",
       " 'sea': 2274,\n",
       " 'street': 2382}"
      ]
     },
     "execution_count": 78,
     "metadata": {},
     "output_type": "execute_result"
    }
   ],
   "source": [
    "num_imgs_dict"
   ]
  },
  {
   "cell_type": "markdown",
   "metadata": {},
   "source": [
    "Now let's check the move was correct for the validation set:"
   ]
  },
  {
   "cell_type": "code",
   "execution_count": 79,
   "metadata": {},
   "outputs": [
    {
     "name": "stdout",
     "output_type": "stream",
     "text": [
      "There are 438 buildings images\n",
      "There are 454 forest images\n",
      "There are 480 glacier images\n",
      "There are 502 mountain images\n",
      "There are 454 sea images\n",
      "There are 476 street images\n"
     ]
    }
   ],
   "source": [
    "val_imgs_buildings = [file for file in os.listdir(val_buildings) if file.endswith('.jpg')]\n",
    "val_imgs_forest = [file for file in os.listdir(val_forest) if file.endswith('.jpg')]\n",
    "val_imgs_glacier = [file for file in os.listdir(val_glacier) if file.endswith('.jpg')]\n",
    "val_imgs_mountain = [file for file in os.listdir(val_mountain) if file.endswith('.jpg')]\n",
    "val_imgs_sea = [file for file in os.listdir(val_sea) if file.endswith('.jpg')]\n",
    "val_imgs_street = [file for file in os.listdir(val_street) if file.endswith('.jpg')]\n",
    "\n",
    "val_img_files = [val_imgs_buildings, val_imgs_forest, val_imgs_glacier, \n",
    "             val_imgs_mountain, val_imgs_sea, val_imgs_street]\n",
    "\n",
    "# let's create a dictionary containing the number of images per scene\n",
    "len_val_imgs_dict = {}\n",
    "for file, scene in zip(val_img_files, scenes):\n",
    "    print('There are', len(file), f'{scene} images')\n",
    "    len_val_imgs_dict[scene] = len(file)"
   ]
  },
  {
   "cell_type": "markdown",
   "metadata": {},
   "source": [
    "So, we now have a validation set with 20% of the training images.  We'll be able to use this for our modelling and keep our test set clean. "
   ]
  },
  {
   "cell_type": "markdown",
   "metadata": {},
   "source": [
    "Finally, let's see how many images we have in training, test, and validation:"
   ]
  },
  {
   "cell_type": "code",
   "execution_count": 108,
   "metadata": {},
   "outputs": [
    {
     "data": {
      "text/plain": [
       "11230"
      ]
     },
     "execution_count": 108,
     "metadata": {},
     "output_type": "execute_result"
    }
   ],
   "source": [
    "# training\n",
    "sum(list(new_train_imgs_dict.values()))"
   ]
  },
  {
   "cell_type": "code",
   "execution_count": 109,
   "metadata": {},
   "outputs": [
    {
     "data": {
      "text/plain": [
       "2804"
      ]
     },
     "execution_count": 109,
     "metadata": {},
     "output_type": "execute_result"
    }
   ],
   "source": [
    "# validation\n",
    "sum(list(len_val_imgs_dict.values()))"
   ]
  },
  {
   "cell_type": "markdown",
   "metadata": {},
   "source": [
    "And we know there are 3000 in the test set (as mentioned in the introduction)."
   ]
  },
  {
   "cell_type": "code",
   "execution_count": null,
   "metadata": {},
   "outputs": [],
   "source": []
  }
 ],
 "metadata": {
  "kernelspec": {
   "display_name": "cap-env",
   "language": "python",
   "name": "cap-env"
  },
  "language_info": {
   "codemirror_mode": {
    "name": "ipython",
    "version": 3
   },
   "file_extension": ".py",
   "mimetype": "text/x-python",
   "name": "python",
   "nbconvert_exporter": "python",
   "pygments_lexer": "ipython3",
   "version": "3.6.10"
  }
 },
 "nbformat": 4,
 "nbformat_minor": 4
}
