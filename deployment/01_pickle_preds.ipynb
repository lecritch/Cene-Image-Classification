{
 "cells": [
  {
   "cell_type": "code",
   "execution_count": null,
   "metadata": {},
   "outputs": [],
   "source": []
  },
  {
   "cell_type": "code",
   "execution_count": 1,
   "metadata": {},
   "outputs": [
    {
     "name": "stderr",
     "output_type": "stream",
     "text": [
      "Using TensorFlow backend.\n"
     ]
    }
   ],
   "source": [
    "# modelling\n",
    "from keras.models import load_model\n",
    "from keras.preprocessing.image import ImageDataGenerator\n",
    "\n",
    "import pickle\n",
    "\n",
    "parent_dir = '../'"
   ]
  },
  {
   "cell_type": "code",
   "execution_count": 2,
   "metadata": {},
   "outputs": [],
   "source": [
    "import os\n",
    "import sys\n",
    "\n",
    "module_path = os.path.abspath(os.path.join(os.pardir))\n",
    "if module_path not in sys.path:\n",
    "    sys.path.append(module_path)\n",
    "\n",
    "from src import modelling as m"
   ]
  },
  {
   "cell_type": "markdown",
   "metadata": {},
   "source": [
    "Import the model"
   ]
  },
  {
   "cell_type": "code",
   "execution_count": 3,
   "metadata": {},
   "outputs": [],
   "source": [
    "model5 = load_model(parent_dir + 'models/model5_old4', custom_objects = None, compile = True)"
   ]
  },
  {
   "cell_type": "markdown",
   "metadata": {},
   "source": [
    "Get file path to static demo images"
   ]
  },
  {
   "cell_type": "code",
   "execution_count": 92,
   "metadata": {},
   "outputs": [],
   "source": [
    "demo_images_dir = parent_dir + 'deployment/static/images'"
   ]
  },
  {
   "cell_type": "markdown",
   "metadata": {},
   "source": [
    "Create data generator"
   ]
  },
  {
   "cell_type": "code",
   "execution_count": 93,
   "metadata": {},
   "outputs": [
    {
     "name": "stdout",
     "output_type": "stream",
     "text": [
      "Found 79 images belonging to 2 classes.\n"
     ]
    }
   ],
   "source": [
    "# All images will be rescaled by 1./255\n",
    "demo_datagen = ImageDataGenerator(rescale=1./255)\n",
    "\n",
    "demo_generator = demo_datagen.flow_from_directory(demo_images_dir, target_size = (256, 256),\n",
    "                                   batch_size = 32, class_mode = None,\n",
    "                                   shuffle = False)"
   ]
  },
  {
   "cell_type": "markdown",
   "metadata": {},
   "source": [
    "Get array of predictions"
   ]
  },
  {
   "cell_type": "code",
   "execution_count": 94,
   "metadata": {},
   "outputs": [],
   "source": [
    "preds = m.get_preds(model5, demo_generator)"
   ]
  },
  {
   "cell_type": "code",
   "execution_count": 95,
   "metadata": {},
   "outputs": [
    {
     "data": {
      "text/plain": [
       "array([2, 3, 3, 2, 5, 1, 1, 3, 2, 3, 5, 1, 4, 3, 1, 3, 1, 5, 0, 1, 4, 5,\n",
       "       4, 2, 0, 2, 4, 4, 3, 2, 0, 0, 2, 3, 3, 5, 2, 1, 4, 0, 5, 4, 2, 0,\n",
       "       2, 3, 3, 2, 3, 3, 5, 3, 1, 5, 3, 4, 2, 5, 2, 2, 0, 3, 0, 3, 4, 2,\n",
       "       2, 5, 3, 2, 5, 3, 2, 4, 0, 2, 3, 0, 0])"
      ]
     },
     "execution_count": 95,
     "metadata": {},
     "output_type": "execute_result"
    }
   ],
   "source": [
    "preds"
   ]
  },
  {
   "cell_type": "markdown",
   "metadata": {},
   "source": [
    "Assign filepaths to images "
   ]
  },
  {
   "cell_type": "code",
   "execution_count": 98,
   "metadata": {},
   "outputs": [],
   "source": [
    "images = demo_generator.filepaths"
   ]
  },
  {
   "cell_type": "code",
   "execution_count": 99,
   "metadata": {},
   "outputs": [
    {
     "data": {
      "text/plain": [
       "['../deployment/static/images/imgs/1162.jpg',\n",
       " '../deployment/static/images/imgs/119.jpg',\n",
       " '../deployment/static/images/imgs/1223.jpg',\n",
       " '../deployment/static/images/imgs/1404.jpg',\n",
       " '../deployment/static/images/imgs/145.jpg',\n",
       " '../deployment/static/images/imgs/1524.jpg',\n",
       " '../deployment/static/images/imgs/1704.jpg',\n",
       " '../deployment/static/images/imgs/173.jpg',\n",
       " '../deployment/static/images/imgs/176.jpg',\n",
       " '../deployment/static/images/imgs/179.jpg',\n",
       " '../deployment/static/images/imgs/182.jpg',\n",
       " '../deployment/static/images/imgs/183.jpg',\n",
       " '../deployment/static/images/imgs/1834.jpg',\n",
       " '../deployment/static/images/imgs/185.jpg',\n",
       " '../deployment/static/images/imgs/1971.jpg',\n",
       " '../deployment/static/images/imgs/198.jpg',\n",
       " '../deployment/static/images/imgs/199.jpg',\n",
       " '../deployment/static/images/imgs/2016.jpg',\n",
       " '../deployment/static/images/imgs/203.jpg',\n",
       " '../deployment/static/images/imgs/2060.jpg',\n",
       " '../deployment/static/images/imgs/211.jpg',\n",
       " '../deployment/static/images/imgs/212.jpg',\n",
       " '../deployment/static/images/imgs/215.jpg',\n",
       " '../deployment/static/images/imgs/221.jpg',\n",
       " '../deployment/static/images/imgs/222.jpg',\n",
       " '../deployment/static/images/imgs/225.jpg',\n",
       " '../deployment/static/images/imgs/227.jpg',\n",
       " '../deployment/static/images/imgs/233.jpg',\n",
       " '../deployment/static/images/imgs/237.jpg',\n",
       " '../deployment/static/images/imgs/238.jpg',\n",
       " '../deployment/static/images/imgs/242.jpg',\n",
       " '../deployment/static/images/imgs/244.jpg',\n",
       " '../deployment/static/images/imgs/251.jpg',\n",
       " '../deployment/static/images/imgs/252.jpg',\n",
       " '../deployment/static/images/imgs/255.jpg',\n",
       " '../deployment/static/images/imgs/268.jpg',\n",
       " '../deployment/static/images/imgs/271.jpg',\n",
       " '../deployment/static/images/imgs/273.jpg',\n",
       " '../deployment/static/images/imgs/274.jpg',\n",
       " '../deployment/static/images/imgs/278.jpg',\n",
       " '../deployment/static/images/imgs/284.jpg',\n",
       " '../deployment/static/images/imgs/287.jpg',\n",
       " '../deployment/static/images/imgs/291.jpg',\n",
       " '../deployment/static/images/imgs/302.jpg',\n",
       " '../deployment/static/images/imgs/303.jpg',\n",
       " '../deployment/static/images/imgs/319.jpg',\n",
       " '../deployment/static/images/imgs/3350.jpg',\n",
       " '../deployment/static/images/imgs/3351.jpg',\n",
       " '../deployment/static/images/imgs/3362.jpg',\n",
       " '../deployment/static/images/imgs/3363.jpg',\n",
       " '../deployment/static/images/imgs/3371.jpg',\n",
       " '../deployment/static/images/imgs/3372.jpg',\n",
       " '../deployment/static/images/imgs/3374.jpg',\n",
       " '../deployment/static/images/imgs/3379.jpg',\n",
       " '../deployment/static/images/imgs/3380.jpg',\n",
       " '../deployment/static/images/imgs/3390.jpg',\n",
       " '../deployment/static/images/imgs/3464.jpg',\n",
       " '../deployment/static/images/imgs/3466.jpg',\n",
       " '../deployment/static/images/imgs/3471.jpg',\n",
       " '../deployment/static/images/imgs/3472.jpg',\n",
       " '../deployment/static/images/imgs/3474.jpg',\n",
       " '../deployment/static/images/imgs/3478.jpg',\n",
       " '../deployment/static/images/imgs/350.jpg',\n",
       " '../deployment/static/images/imgs/3580.jpg',\n",
       " '../deployment/static/images/imgs/3627.jpg',\n",
       " '../deployment/static/images/imgs/3632.jpg',\n",
       " '../deployment/static/images/imgs/3633.jpg',\n",
       " '../deployment/static/images/imgs/3639.jpg',\n",
       " '../deployment/static/images/imgs/365.jpg',\n",
       " '../deployment/static/images/imgs/38.jpg',\n",
       " '../deployment/static/images/imgs/3830.jpg',\n",
       " '../deployment/static/images/imgs/399.jpg',\n",
       " '../deployment/static/images/imgs/408.jpg',\n",
       " '../deployment/static/images/imgs/485.jpg',\n",
       " '../deployment/static/images/imgs/520.jpg',\n",
       " '../deployment/static/images/imgs/561.jpg',\n",
       " '../deployment/static/images/imgs/600.jpg',\n",
       " '../deployment/static/images/imgs/645.jpg',\n",
       " '../deployment/static/images/imgs/837.jpg']"
      ]
     },
     "execution_count": 99,
     "metadata": {},
     "output_type": "execute_result"
    }
   ],
   "source": [
    "images"
   ]
  },
  {
   "cell_type": "markdown",
   "metadata": {},
   "source": [
    "The app can only take images with filepaths starting with '/static/' so we need to strip the start of the filepath:\n",
    "_____"
   ]
  },
  {
   "cell_type": "markdown",
   "metadata": {},
   "source": [
    "Test first:"
   ]
  },
  {
   "cell_type": "code",
   "execution_count": 22,
   "metadata": {},
   "outputs": [],
   "source": [
    "test = '../deployment/static/images'"
   ]
  },
  {
   "cell_type": "code",
   "execution_count": 23,
   "metadata": {},
   "outputs": [],
   "source": [
    "test = test.strip('../deployment')"
   ]
  },
  {
   "cell_type": "code",
   "execution_count": 24,
   "metadata": {},
   "outputs": [
    {
     "data": {
      "text/plain": [
       "'static/images'"
      ]
     },
     "execution_count": 24,
     "metadata": {},
     "output_type": "execute_result"
    }
   ],
   "source": [
    "test"
   ]
  },
  {
   "cell_type": "markdown",
   "metadata": {},
   "source": [
    "_____"
   ]
  },
  {
   "cell_type": "code",
   "execution_count": 100,
   "metadata": {},
   "outputs": [
    {
     "data": {
      "text/plain": [
       "['/static/images/imgs/1162.jpg',\n",
       " '/static/images/imgs/119.jpg',\n",
       " '/static/images/imgs/1223.jpg',\n",
       " '/static/images/imgs/1404.jpg',\n",
       " '/static/images/imgs/145.jpg',\n",
       " '/static/images/imgs/1524.jpg',\n",
       " '/static/images/imgs/1704.jpg',\n",
       " '/static/images/imgs/173.jpg',\n",
       " '/static/images/imgs/176.jpg',\n",
       " '/static/images/imgs/179.jpg',\n",
       " '/static/images/imgs/182.jpg',\n",
       " '/static/images/imgs/183.jpg',\n",
       " '/static/images/imgs/1834.jpg',\n",
       " '/static/images/imgs/185.jpg',\n",
       " '/static/images/imgs/1971.jpg',\n",
       " '/static/images/imgs/198.jpg',\n",
       " '/static/images/imgs/199.jpg',\n",
       " '/static/images/imgs/2016.jpg',\n",
       " '/static/images/imgs/203.jpg',\n",
       " '/static/images/imgs/2060.jpg',\n",
       " '/static/images/imgs/211.jpg',\n",
       " '/static/images/imgs/212.jpg',\n",
       " '/static/images/imgs/215.jpg',\n",
       " '/static/images/imgs/221.jpg',\n",
       " '/static/images/imgs/222.jpg',\n",
       " '/static/images/imgs/225.jpg',\n",
       " '/static/images/imgs/227.jpg',\n",
       " '/static/images/imgs/233.jpg',\n",
       " '/static/images/imgs/237.jpg',\n",
       " '/static/images/imgs/238.jpg',\n",
       " '/static/images/imgs/242.jpg',\n",
       " '/static/images/imgs/244.jpg',\n",
       " '/static/images/imgs/251.jpg',\n",
       " '/static/images/imgs/252.jpg',\n",
       " '/static/images/imgs/255.jpg',\n",
       " '/static/images/imgs/268.jpg',\n",
       " '/static/images/imgs/271.jpg',\n",
       " '/static/images/imgs/273.jpg',\n",
       " '/static/images/imgs/274.jpg',\n",
       " '/static/images/imgs/278.jpg',\n",
       " '/static/images/imgs/284.jpg',\n",
       " '/static/images/imgs/287.jpg',\n",
       " '/static/images/imgs/291.jpg',\n",
       " '/static/images/imgs/302.jpg',\n",
       " '/static/images/imgs/303.jpg',\n",
       " '/static/images/imgs/319.jpg',\n",
       " '/static/images/imgs/3350.jpg',\n",
       " '/static/images/imgs/3351.jpg',\n",
       " '/static/images/imgs/3362.jpg',\n",
       " '/static/images/imgs/3363.jpg',\n",
       " '/static/images/imgs/3371.jpg',\n",
       " '/static/images/imgs/3372.jpg',\n",
       " '/static/images/imgs/3374.jpg',\n",
       " '/static/images/imgs/3379.jpg',\n",
       " '/static/images/imgs/3380.jpg',\n",
       " '/static/images/imgs/3390.jpg',\n",
       " '/static/images/imgs/3464.jpg',\n",
       " '/static/images/imgs/3466.jpg',\n",
       " '/static/images/imgs/3471.jpg',\n",
       " '/static/images/imgs/3472.jpg',\n",
       " '/static/images/imgs/3474.jpg',\n",
       " '/static/images/imgs/3478.jpg',\n",
       " '/static/images/imgs/350.jpg',\n",
       " '/static/images/imgs/3580.jpg',\n",
       " '/static/images/imgs/3627.jpg',\n",
       " '/static/images/imgs/3632.jpg',\n",
       " '/static/images/imgs/3633.jpg',\n",
       " '/static/images/imgs/3639.jpg',\n",
       " '/static/images/imgs/365.jpg',\n",
       " '/static/images/imgs/38.jpg',\n",
       " '/static/images/imgs/3830.jpg',\n",
       " '/static/images/imgs/399.jpg',\n",
       " '/static/images/imgs/408.jpg',\n",
       " '/static/images/imgs/485.jpg',\n",
       " '/static/images/imgs/520.jpg',\n",
       " '/static/images/imgs/561.jpg',\n",
       " '/static/images/imgs/600.jpg',\n",
       " '/static/images/imgs/645.jpg',\n",
       " '/static/images/imgs/837.jpg']"
      ]
     },
     "execution_count": 100,
     "metadata": {},
     "output_type": "execute_result"
    }
   ],
   "source": [
    "images = [i.replace('../deployment', '') for i in images]\n",
    "images"
   ]
  },
  {
   "cell_type": "markdown",
   "metadata": {},
   "source": [
    "Now we need to match up each image with its prediction."
   ]
  },
  {
   "cell_type": "code",
   "execution_count": 101,
   "metadata": {},
   "outputs": [],
   "source": [
    "paths_preds = zip(images, preds)"
   ]
  },
  {
   "cell_type": "markdown",
   "metadata": {},
   "source": [
    "Create an albums dictionary which will store the images in their predicted class."
   ]
  },
  {
   "cell_type": "markdown",
   "metadata": {},
   "source": [
    "_______\n",
    "don't need, don't run:"
   ]
  },
  {
   "cell_type": "code",
   "execution_count": 52,
   "metadata": {},
   "outputs": [],
   "source": [
    "albums = {'Buildings': [], 'Forest': [], 'Glaciers': [], \n",
    "          'Mountains': [], 'Sea': [], 'Streets': []}"
   ]
  },
  {
   "cell_type": "code",
   "execution_count": 53,
   "metadata": {},
   "outputs": [
    {
     "data": {
      "text/plain": [
       "{'Buildings': [],\n",
       " 'Forest': [],\n",
       " 'Glaciers': [],\n",
       " 'Mountains': [],\n",
       " 'Sea': [],\n",
       " 'Streets': []}"
      ]
     },
     "execution_count": 53,
     "metadata": {},
     "output_type": "execute_result"
    }
   ],
   "source": [
    "albums"
   ]
  },
  {
   "cell_type": "markdown",
   "metadata": {},
   "source": [
    "____"
   ]
  },
  {
   "cell_type": "markdown",
   "metadata": {},
   "source": [
    "Now, assign each image to its predicted class."
   ]
  },
  {
   "cell_type": "code",
   "execution_count": 102,
   "metadata": {},
   "outputs": [],
   "source": [
    "classes = {0: 'Buildings', 1: 'Forest', 2: 'Glaciers', 3: 'Mountains', 4: 'Sea', 5: 'Streets'}"
   ]
  },
  {
   "cell_type": "code",
   "execution_count": 103,
   "metadata": {},
   "outputs": [
    {
     "data": {
      "text/plain": [
       "{'Glaciers': ['/static/images/imgs/1162.jpg',\n",
       "  '/static/images/imgs/1404.jpg',\n",
       "  '/static/images/imgs/176.jpg',\n",
       "  '/static/images/imgs/221.jpg',\n",
       "  '/static/images/imgs/225.jpg',\n",
       "  '/static/images/imgs/238.jpg',\n",
       "  '/static/images/imgs/251.jpg',\n",
       "  '/static/images/imgs/271.jpg',\n",
       "  '/static/images/imgs/291.jpg',\n",
       "  '/static/images/imgs/303.jpg',\n",
       "  '/static/images/imgs/3351.jpg',\n",
       "  '/static/images/imgs/3464.jpg',\n",
       "  '/static/images/imgs/3471.jpg',\n",
       "  '/static/images/imgs/3472.jpg',\n",
       "  '/static/images/imgs/3632.jpg',\n",
       "  '/static/images/imgs/3633.jpg',\n",
       "  '/static/images/imgs/38.jpg',\n",
       "  '/static/images/imgs/408.jpg',\n",
       "  '/static/images/imgs/561.jpg'],\n",
       " 'Mountains': ['/static/images/imgs/119.jpg',\n",
       "  '/static/images/imgs/1223.jpg',\n",
       "  '/static/images/imgs/173.jpg',\n",
       "  '/static/images/imgs/179.jpg',\n",
       "  '/static/images/imgs/185.jpg',\n",
       "  '/static/images/imgs/198.jpg',\n",
       "  '/static/images/imgs/237.jpg',\n",
       "  '/static/images/imgs/252.jpg',\n",
       "  '/static/images/imgs/255.jpg',\n",
       "  '/static/images/imgs/319.jpg',\n",
       "  '/static/images/imgs/3350.jpg',\n",
       "  '/static/images/imgs/3362.jpg',\n",
       "  '/static/images/imgs/3363.jpg',\n",
       "  '/static/images/imgs/3372.jpg',\n",
       "  '/static/images/imgs/3380.jpg',\n",
       "  '/static/images/imgs/3478.jpg',\n",
       "  '/static/images/imgs/3580.jpg',\n",
       "  '/static/images/imgs/365.jpg',\n",
       "  '/static/images/imgs/399.jpg',\n",
       "  '/static/images/imgs/600.jpg'],\n",
       " 'Streets': ['/static/images/imgs/145.jpg',\n",
       "  '/static/images/imgs/182.jpg',\n",
       "  '/static/images/imgs/2016.jpg',\n",
       "  '/static/images/imgs/212.jpg',\n",
       "  '/static/images/imgs/268.jpg',\n",
       "  '/static/images/imgs/284.jpg',\n",
       "  '/static/images/imgs/3371.jpg',\n",
       "  '/static/images/imgs/3379.jpg',\n",
       "  '/static/images/imgs/3466.jpg',\n",
       "  '/static/images/imgs/3639.jpg',\n",
       "  '/static/images/imgs/3830.jpg'],\n",
       " 'Forest': ['/static/images/imgs/1524.jpg',\n",
       "  '/static/images/imgs/1704.jpg',\n",
       "  '/static/images/imgs/183.jpg',\n",
       "  '/static/images/imgs/1971.jpg',\n",
       "  '/static/images/imgs/199.jpg',\n",
       "  '/static/images/imgs/2060.jpg',\n",
       "  '/static/images/imgs/273.jpg',\n",
       "  '/static/images/imgs/3374.jpg'],\n",
       " 'Sea': ['/static/images/imgs/1834.jpg',\n",
       "  '/static/images/imgs/211.jpg',\n",
       "  '/static/images/imgs/215.jpg',\n",
       "  '/static/images/imgs/227.jpg',\n",
       "  '/static/images/imgs/233.jpg',\n",
       "  '/static/images/imgs/274.jpg',\n",
       "  '/static/images/imgs/287.jpg',\n",
       "  '/static/images/imgs/3390.jpg',\n",
       "  '/static/images/imgs/3627.jpg',\n",
       "  '/static/images/imgs/485.jpg'],\n",
       " 'Buildings': ['/static/images/imgs/203.jpg',\n",
       "  '/static/images/imgs/222.jpg',\n",
       "  '/static/images/imgs/242.jpg',\n",
       "  '/static/images/imgs/244.jpg',\n",
       "  '/static/images/imgs/278.jpg',\n",
       "  '/static/images/imgs/302.jpg',\n",
       "  '/static/images/imgs/3474.jpg',\n",
       "  '/static/images/imgs/350.jpg',\n",
       "  '/static/images/imgs/520.jpg',\n",
       "  '/static/images/imgs/645.jpg',\n",
       "  '/static/images/imgs/837.jpg']}"
      ]
     },
     "execution_count": 103,
     "metadata": {},
     "output_type": "execute_result"
    }
   ],
   "source": [
    "albums = {}\n",
    "for image, pred in paths_preds:\n",
    "    if classes[pred] not in albums:\n",
    "        albums[classes[pred]] = []\n",
    "    albums[classes[pred]].append(image)\n",
    "    \n",
    "albums"
   ]
  },
  {
   "cell_type": "markdown",
   "metadata": {},
   "source": [
    "Now, pickle this dictionary so we can use it in our app. "
   ]
  },
  {
   "cell_type": "code",
   "execution_count": 104,
   "metadata": {},
   "outputs": [],
   "source": [
    "with open('predictions/demo_preds.pickle', 'wb') as f:\n",
    "    # Pickle the 'data' dictionary using the highest protocol available.\n",
    "    pickle.dump(albums, f, pickle.HIGHEST_PROTOCOL)"
   ]
  },
  {
   "cell_type": "markdown",
   "metadata": {},
   "source": [
    "Looking at model Architecture "
   ]
  },
  {
   "cell_type": "code",
   "execution_count": 108,
   "metadata": {},
   "outputs": [],
   "source": [
    "fsm = load_model(parent_dir + 'models/fsm', custom_objects = None, compile = True)"
   ]
  },
  {
   "cell_type": "code",
   "execution_count": 109,
   "metadata": {},
   "outputs": [
    {
     "name": "stdout",
     "output_type": "stream",
     "text": [
      "Model: \"sequential_1\"\n",
      "_________________________________________________________________\n",
      "Layer (type)                 Output Shape              Param #   \n",
      "=================================================================\n",
      "flatten_1 (Flatten)          (None, 196608)            0         \n",
      "_________________________________________________________________\n",
      "dense_1 (Dense)              (None, 64)                12582976  \n",
      "_________________________________________________________________\n",
      "dense_2 (Dense)              (None, 128)               8320      \n",
      "_________________________________________________________________\n",
      "dense_3 (Dense)              (None, 6)                 774       \n",
      "=================================================================\n",
      "Total params: 12,592,070\n",
      "Trainable params: 12,592,070\n",
      "Non-trainable params: 0\n",
      "_________________________________________________________________\n"
     ]
    }
   ],
   "source": [
    "fsm.summary()"
   ]
  },
  {
   "cell_type": "code",
   "execution_count": 112,
   "metadata": {},
   "outputs": [
    {
     "ename": "ImportError",
     "evalue": "Failed to import `pydot`. Please install `pydot`. For example with `pip install pydot`.",
     "output_type": "error",
     "traceback": [
      "\u001b[0;31m---------------------------------------------------------------------------\u001b[0m",
      "\u001b[0;31mImportError\u001b[0m                               Traceback (most recent call last)",
      "\u001b[0;32m<ipython-input-112-07ca8d13ff7a>\u001b[0m in \u001b[0;36m<module>\u001b[0;34m\u001b[0m\n\u001b[1;32m      1\u001b[0m \u001b[0;32mfrom\u001b[0m \u001b[0mkeras\u001b[0m\u001b[0;34m.\u001b[0m\u001b[0mutils\u001b[0m\u001b[0;34m.\u001b[0m\u001b[0mvis_utils\u001b[0m \u001b[0;32mimport\u001b[0m \u001b[0mplot_model\u001b[0m\u001b[0;34m\u001b[0m\u001b[0;34m\u001b[0m\u001b[0m\n\u001b[0;32m----> 2\u001b[0;31m \u001b[0mplot_model\u001b[0m\u001b[0;34m(\u001b[0m\u001b[0mfsm\u001b[0m\u001b[0;34m,\u001b[0m \u001b[0mto_file\u001b[0m\u001b[0;34m=\u001b[0m \u001b[0mparent_dir\u001b[0m \u001b[0;34m+\u001b[0m \u001b[0;34m'figures/fsm_plot.png'\u001b[0m\u001b[0;34m,\u001b[0m \u001b[0mshow_shapes\u001b[0m\u001b[0;34m=\u001b[0m\u001b[0;32mTrue\u001b[0m\u001b[0;34m,\u001b[0m \u001b[0mshow_layer_names\u001b[0m\u001b[0;34m=\u001b[0m\u001b[0;32mTrue\u001b[0m\u001b[0;34m)\u001b[0m\u001b[0;34m\u001b[0m\u001b[0;34m\u001b[0m\u001b[0m\n\u001b[0m",
      "\u001b[0;32m/opt/anaconda3/envs/cap-env/lib/python3.6/site-packages/keras/utils/vis_utils.py\u001b[0m in \u001b[0;36mplot_model\u001b[0;34m(model, to_file, show_shapes, show_layer_names, rankdir, expand_nested, dpi)\u001b[0m\n\u001b[1;32m    238\u001b[0m     \"\"\"\n\u001b[1;32m    239\u001b[0m     dot = model_to_dot(model, show_shapes, show_layer_names, rankdir,\n\u001b[0;32m--> 240\u001b[0;31m                        expand_nested, dpi)\n\u001b[0m\u001b[1;32m    241\u001b[0m     \u001b[0m_\u001b[0m\u001b[0;34m,\u001b[0m \u001b[0mextension\u001b[0m \u001b[0;34m=\u001b[0m \u001b[0mos\u001b[0m\u001b[0;34m.\u001b[0m\u001b[0mpath\u001b[0m\u001b[0;34m.\u001b[0m\u001b[0msplitext\u001b[0m\u001b[0;34m(\u001b[0m\u001b[0mto_file\u001b[0m\u001b[0;34m)\u001b[0m\u001b[0;34m\u001b[0m\u001b[0;34m\u001b[0m\u001b[0m\n\u001b[1;32m    242\u001b[0m     \u001b[0;32mif\u001b[0m \u001b[0;32mnot\u001b[0m \u001b[0mextension\u001b[0m\u001b[0;34m:\u001b[0m\u001b[0;34m\u001b[0m\u001b[0;34m\u001b[0m\u001b[0m\n",
      "\u001b[0;32m/opt/anaconda3/envs/cap-env/lib/python3.6/site-packages/keras/utils/vis_utils.py\u001b[0m in \u001b[0;36mmodel_to_dot\u001b[0;34m(model, show_shapes, show_layer_names, rankdir, expand_nested, dpi, subgraph)\u001b[0m\n\u001b[1;32m     77\u001b[0m     \u001b[0;32mfrom\u001b[0m \u001b[0;34m.\u001b[0m\u001b[0;34m.\u001b[0m\u001b[0mmodels\u001b[0m \u001b[0;32mimport\u001b[0m \u001b[0mSequential\u001b[0m\u001b[0;34m\u001b[0m\u001b[0;34m\u001b[0m\u001b[0m\n\u001b[1;32m     78\u001b[0m \u001b[0;34m\u001b[0m\u001b[0m\n\u001b[0;32m---> 79\u001b[0;31m     \u001b[0m_check_pydot\u001b[0m\u001b[0;34m(\u001b[0m\u001b[0;34m)\u001b[0m\u001b[0;34m\u001b[0m\u001b[0;34m\u001b[0m\u001b[0m\n\u001b[0m\u001b[1;32m     80\u001b[0m     \u001b[0;32mif\u001b[0m \u001b[0msubgraph\u001b[0m\u001b[0;34m:\u001b[0m\u001b[0;34m\u001b[0m\u001b[0;34m\u001b[0m\u001b[0m\n\u001b[1;32m     81\u001b[0m         \u001b[0mdot\u001b[0m \u001b[0;34m=\u001b[0m \u001b[0mpydot\u001b[0m\u001b[0;34m.\u001b[0m\u001b[0mCluster\u001b[0m\u001b[0;34m(\u001b[0m\u001b[0mstyle\u001b[0m\u001b[0;34m=\u001b[0m\u001b[0;34m'dashed'\u001b[0m\u001b[0;34m,\u001b[0m \u001b[0mgraph_name\u001b[0m\u001b[0;34m=\u001b[0m\u001b[0mmodel\u001b[0m\u001b[0;34m.\u001b[0m\u001b[0mname\u001b[0m\u001b[0;34m)\u001b[0m\u001b[0;34m\u001b[0m\u001b[0;34m\u001b[0m\u001b[0m\n",
      "\u001b[0;32m/opt/anaconda3/envs/cap-env/lib/python3.6/site-packages/keras/utils/vis_utils.py\u001b[0m in \u001b[0;36m_check_pydot\u001b[0;34m()\u001b[0m\n\u001b[1;32m     20\u001b[0m     \u001b[0;32mif\u001b[0m \u001b[0mpydot\u001b[0m \u001b[0;32mis\u001b[0m \u001b[0;32mNone\u001b[0m\u001b[0;34m:\u001b[0m\u001b[0;34m\u001b[0m\u001b[0;34m\u001b[0m\u001b[0m\n\u001b[1;32m     21\u001b[0m         raise ImportError(\n\u001b[0;32m---> 22\u001b[0;31m             \u001b[0;34m'Failed to import `pydot`. '\u001b[0m\u001b[0;34m\u001b[0m\u001b[0;34m\u001b[0m\u001b[0m\n\u001b[0m\u001b[1;32m     23\u001b[0m             \u001b[0;34m'Please install `pydot`. '\u001b[0m\u001b[0;34m\u001b[0m\u001b[0;34m\u001b[0m\u001b[0m\n\u001b[1;32m     24\u001b[0m             'For example with `pip install pydot`.')\n",
      "\u001b[0;31mImportError\u001b[0m: Failed to import `pydot`. Please install `pydot`. For example with `pip install pydot`."
     ]
    }
   ],
   "source": [
    "from keras.utils.vis_utils import plot_model\n",
    "plot_model(fsm, to_file= parent_dir + 'figures/fsm_plot.png', show_shapes=True, show_layer_names=True)"
   ]
  },
  {
   "cell_type": "code",
   "execution_count": 107,
   "metadata": {},
   "outputs": [
    {
     "name": "stdout",
     "output_type": "stream",
     "text": [
      "Model: \"sequential_1\"\n",
      "_________________________________________________________________\n",
      "Layer (type)                 Output Shape              Param #   \n",
      "=================================================================\n",
      "conv2d_1 (Conv2D)            (None, 254, 254, 64)      1792      \n",
      "_________________________________________________________________\n",
      "max_pooling2d_1 (MaxPooling2 (None, 127, 127, 64)      0         \n",
      "_________________________________________________________________\n",
      "conv2d_2 (Conv2D)            (None, 125, 125, 128)     73856     \n",
      "_________________________________________________________________\n",
      "max_pooling2d_2 (MaxPooling2 (None, 62, 62, 128)       0         \n",
      "_________________________________________________________________\n",
      "conv2d_3 (Conv2D)            (None, 60, 60, 256)       295168    \n",
      "_________________________________________________________________\n",
      "max_pooling2d_3 (MaxPooling2 (None, 30, 30, 256)       0         \n",
      "_________________________________________________________________\n",
      "conv2d_4 (Conv2D)            (None, 28, 28, 256)       590080    \n",
      "_________________________________________________________________\n",
      "max_pooling2d_4 (MaxPooling2 (None, 14, 14, 256)       0         \n",
      "_________________________________________________________________\n",
      "conv2d_5 (Conv2D)            (None, 12, 12, 128)       295040    \n",
      "_________________________________________________________________\n",
      "max_pooling2d_5 (MaxPooling2 (None, 6, 6, 128)         0         \n",
      "_________________________________________________________________\n",
      "flatten_1 (Flatten)          (None, 4608)              0         \n",
      "_________________________________________________________________\n",
      "dense_1 (Dense)              (None, 512)               2359808   \n",
      "_________________________________________________________________\n",
      "dense_2 (Dense)              (None, 6)                 3078      \n",
      "=================================================================\n",
      "Total params: 3,618,822\n",
      "Trainable params: 3,618,822\n",
      "Non-trainable params: 0\n",
      "_________________________________________________________________\n"
     ]
    }
   ],
   "source": [
    "model5.summary()"
   ]
  },
  {
   "cell_type": "code",
   "execution_count": 105,
   "metadata": {},
   "outputs": [
    {
     "ename": "NameError",
     "evalue": "name 'results5' is not defined",
     "output_type": "error",
     "traceback": [
      "\u001b[0;31m---------------------------------------------------------------------------\u001b[0m",
      "\u001b[0;31mNameError\u001b[0m                                 Traceback (most recent call last)",
      "\u001b[0;32m<ipython-input-105-69420f74f661>\u001b[0m in \u001b[0;36m<module>\u001b[0;34m\u001b[0m\n\u001b[0;32m----> 1\u001b[0;31m \u001b[0mhistory\u001b[0m \u001b[0;34m=\u001b[0m \u001b[0mresults5\u001b[0m\u001b[0;34m.\u001b[0m\u001b[0mhistory\u001b[0m\u001b[0;34m\u001b[0m\u001b[0;34m\u001b[0m\u001b[0m\n\u001b[0m\u001b[1;32m      2\u001b[0m \u001b[0mplt\u001b[0m\u001b[0;34m.\u001b[0m\u001b[0mfigure\u001b[0m\u001b[0;34m(\u001b[0m\u001b[0mfigsize\u001b[0m \u001b[0;34m=\u001b[0m \u001b[0;34m(\u001b[0m\u001b[0;36m10\u001b[0m\u001b[0;34m,\u001b[0m \u001b[0;36m8\u001b[0m\u001b[0;34m)\u001b[0m\u001b[0;34m)\u001b[0m\u001b[0;34m\u001b[0m\u001b[0;34m\u001b[0m\u001b[0m\n\u001b[1;32m      3\u001b[0m \u001b[0mplt\u001b[0m\u001b[0;34m.\u001b[0m\u001b[0mplot\u001b[0m\u001b[0;34m(\u001b[0m\u001b[0mhistory\u001b[0m\u001b[0;34m[\u001b[0m\u001b[0;34m'val_loss'\u001b[0m\u001b[0;34m]\u001b[0m\u001b[0;34m)\u001b[0m\u001b[0;34m\u001b[0m\u001b[0;34m\u001b[0m\u001b[0m\n\u001b[1;32m      4\u001b[0m \u001b[0mplt\u001b[0m\u001b[0;34m.\u001b[0m\u001b[0mplot\u001b[0m\u001b[0;34m(\u001b[0m\u001b[0mhistory\u001b[0m\u001b[0;34m[\u001b[0m\u001b[0;34m'loss'\u001b[0m\u001b[0;34m]\u001b[0m\u001b[0;34m)\u001b[0m\u001b[0;34m\u001b[0m\u001b[0;34m\u001b[0m\u001b[0m\n\u001b[1;32m      5\u001b[0m \u001b[0mplt\u001b[0m\u001b[0;34m.\u001b[0m\u001b[0mlegend\u001b[0m\u001b[0;34m(\u001b[0m\u001b[0;34m[\u001b[0m\u001b[0;34m'val_loss'\u001b[0m\u001b[0;34m,\u001b[0m \u001b[0;34m'loss'\u001b[0m\u001b[0;34m]\u001b[0m\u001b[0;34m)\u001b[0m\u001b[0;34m\u001b[0m\u001b[0;34m\u001b[0m\u001b[0m\n",
      "\u001b[0;31mNameError\u001b[0m: name 'results5' is not defined"
     ]
    }
   ],
   "source": [
    "history = results5.history\n",
    "plt.figure(figsize = (10, 8))\n",
    "plt.plot(history['val_loss'])\n",
    "plt.plot(history['loss'])\n",
    "plt.legend(['val_loss', 'loss'])\n",
    "plt.title('Model 5 (old 4) Loss', fontsize = 25)\n",
    "plt.xlabel('Epochs', fontsize = 22)\n",
    "plt.ylabel('Loss', fontsize = 22)\n",
    "plt.xticks(fontsize = 20)\n",
    "plt.yticks(fontsize = 20)\n",
    "plt.savefig(parent_dir + 'figures/model4_rerun_loss')\n",
    "plt.show();\n",
    "\n",
    "plt.figure(figsize = (10, 8))\n",
    "plt.plot(history['val_accuracy'])\n",
    "plt.plot(history['accuracy'])\n",
    "plt.legend(['val_acc', 'acc'])\n",
    "plt.title('Model 5 (old 4) Accuracy', fontsize = 25)\n",
    "plt.xlabel('Epochs', fontsize = 22)\n",
    "plt.ylabel('Accuracy', fontsize = 22)\n",
    "plt.xticks(fontsize = 20)\n",
    "plt.yticks(fontsize = 20)\n",
    "plt.savefig(parent_dir + 'figures/model4_rerun_accuracy')\n",
    "plt.show();"
   ]
  },
  {
   "cell_type": "code",
   "execution_count": null,
   "metadata": {},
   "outputs": [],
   "source": []
  }
 ],
 "metadata": {
  "kernelspec": {
   "display_name": "cap-env",
   "language": "python",
   "name": "cap-env"
  },
  "language_info": {
   "codemirror_mode": {
    "name": "ipython",
    "version": 3
   },
   "file_extension": ".py",
   "mimetype": "text/x-python",
   "name": "python",
   "nbconvert_exporter": "python",
   "pygments_lexer": "ipython3",
   "version": "3.6.10"
  }
 },
 "nbformat": 4,
 "nbformat_minor": 4
}
