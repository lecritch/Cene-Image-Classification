{
 "cells": [
  {
   "cell_type": "code",
   "execution_count": null,
   "metadata": {},
   "outputs": [],
   "source": []
  },
  {
   "cell_type": "code",
   "execution_count": 1,
   "metadata": {},
   "outputs": [
    {
     "name": "stderr",
     "output_type": "stream",
     "text": [
      "Using TensorFlow backend.\n"
     ]
    }
   ],
   "source": [
    "# modelling\n",
    "from keras.models import load_model\n",
    "from keras.preprocessing.image import ImageDataGenerator\n",
    "\n",
    "import pickle\n",
    "\n",
    "parent_dir = '../'"
   ]
  },
  {
   "cell_type": "code",
   "execution_count": 2,
   "metadata": {},
   "outputs": [],
   "source": [
    "import os\n",
    "import sys\n",
    "\n",
    "module_path = os.path.abspath(os.path.join(os.pardir))\n",
    "if module_path not in sys.path:\n",
    "    sys.path.append(module_path)\n",
    "\n",
    "from src import modelling as m"
   ]
  },
  {
   "cell_type": "markdown",
   "metadata": {},
   "source": [
    "Import the model"
   ]
  },
  {
   "cell_type": "code",
   "execution_count": 3,
   "metadata": {},
   "outputs": [],
   "source": [
    "model5 = load_model(parent_dir + 'models/model5_old4', custom_objects = None, compile = True)"
   ]
  },
  {
   "cell_type": "markdown",
   "metadata": {},
   "source": [
    "Get file path to static demo images"
   ]
  },
  {
   "cell_type": "code",
   "execution_count": 4,
   "metadata": {},
   "outputs": [],
   "source": [
    "demo_images_dir = parent_dir + 'deployment/static/images'"
   ]
  },
  {
   "cell_type": "markdown",
   "metadata": {},
   "source": [
    "Create data generator"
   ]
  },
  {
   "cell_type": "code",
   "execution_count": 5,
   "metadata": {},
   "outputs": [
    {
     "name": "stdout",
     "output_type": "stream",
     "text": [
      "Found 30 images belonging to 2 classes.\n"
     ]
    }
   ],
   "source": [
    "# All images will be rescaled by 1./255\n",
    "demo_datagen = ImageDataGenerator(rescale=1./255)\n",
    "\n",
    "demo_generator = demo_datagen.flow_from_directory(demo_images_dir, target_size = (256, 256),\n",
    "                                   batch_size = 32, class_mode = None,\n",
    "                                   shuffle = False)"
   ]
  },
  {
   "cell_type": "markdown",
   "metadata": {},
   "source": [
    "Get array of predictions"
   ]
  },
  {
   "cell_type": "code",
   "execution_count": 7,
   "metadata": {},
   "outputs": [],
   "source": [
    "preds = m.get_preds(model5, demo_generator)"
   ]
  },
  {
   "cell_type": "code",
   "execution_count": 8,
   "metadata": {},
   "outputs": [
    {
     "data": {
      "text/plain": [
       "array([2, 3, 3, 4, 2, 5, 1, 1, 2, 4, 1, 1, 5, 1, 0, 3, 5, 3, 0, 3, 2, 5,\n",
       "       3, 2, 4, 0, 2, 3, 0, 0])"
      ]
     },
     "execution_count": 8,
     "metadata": {},
     "output_type": "execute_result"
    }
   ],
   "source": [
    "preds"
   ]
  },
  {
   "cell_type": "markdown",
   "metadata": {},
   "source": [
    "Assign filepaths to images "
   ]
  },
  {
   "cell_type": "code",
   "execution_count": 38,
   "metadata": {},
   "outputs": [],
   "source": [
    "images = demo_generator.filepaths"
   ]
  },
  {
   "cell_type": "code",
   "execution_count": 39,
   "metadata": {},
   "outputs": [
    {
     "data": {
      "text/plain": [
       "['../deployment/static/images/imgs/1162.jpg',\n",
       " '../deployment/static/images/imgs/119.jpg',\n",
       " '../deployment/static/images/imgs/1223.jpg',\n",
       " '../deployment/static/images/imgs/1268.jpg',\n",
       " '../deployment/static/images/imgs/1404.jpg',\n",
       " '../deployment/static/images/imgs/145.jpg',\n",
       " '../deployment/static/images/imgs/1524.jpg',\n",
       " '../deployment/static/images/imgs/1704.jpg',\n",
       " '../deployment/static/images/imgs/176.jpg',\n",
       " '../deployment/static/images/imgs/1834.jpg',\n",
       " '../deployment/static/images/imgs/1971.jpg',\n",
       " '../deployment/static/images/imgs/199.jpg',\n",
       " '../deployment/static/images/imgs/2016.jpg',\n",
       " '../deployment/static/images/imgs/2060.jpg',\n",
       " '../deployment/static/images/imgs/242.jpg',\n",
       " '../deployment/static/images/imgs/255.jpg',\n",
       " '../deployment/static/images/imgs/284.jpg',\n",
       " '../deployment/static/images/imgs/319.jpg',\n",
       " '../deployment/static/images/imgs/350.jpg',\n",
       " '../deployment/static/images/imgs/365.jpg',\n",
       " '../deployment/static/images/imgs/38.jpg',\n",
       " '../deployment/static/images/imgs/3830.jpg',\n",
       " '../deployment/static/images/imgs/399.jpg',\n",
       " '../deployment/static/images/imgs/408.jpg',\n",
       " '../deployment/static/images/imgs/485.jpg',\n",
       " '../deployment/static/images/imgs/520.jpg',\n",
       " '../deployment/static/images/imgs/561.jpg',\n",
       " '../deployment/static/images/imgs/600.jpg',\n",
       " '../deployment/static/images/imgs/645.jpg',\n",
       " '../deployment/static/images/imgs/837.jpg']"
      ]
     },
     "execution_count": 39,
     "metadata": {},
     "output_type": "execute_result"
    }
   ],
   "source": [
    "images"
   ]
  },
  {
   "cell_type": "markdown",
   "metadata": {},
   "source": [
    "The app can only take images with filepaths starting with '/static/' so we need to strip the start of the filepath:\n",
    "_____"
   ]
  },
  {
   "cell_type": "markdown",
   "metadata": {},
   "source": [
    "Test first:"
   ]
  },
  {
   "cell_type": "code",
   "execution_count": 22,
   "metadata": {},
   "outputs": [],
   "source": [
    "test = '../deployment/static/images'"
   ]
  },
  {
   "cell_type": "code",
   "execution_count": 23,
   "metadata": {},
   "outputs": [],
   "source": [
    "test = test.strip('../deployment')"
   ]
  },
  {
   "cell_type": "code",
   "execution_count": 24,
   "metadata": {},
   "outputs": [
    {
     "data": {
      "text/plain": [
       "'static/images'"
      ]
     },
     "execution_count": 24,
     "metadata": {},
     "output_type": "execute_result"
    }
   ],
   "source": [
    "test"
   ]
  },
  {
   "cell_type": "markdown",
   "metadata": {},
   "source": [
    "_____"
   ]
  },
  {
   "cell_type": "code",
   "execution_count": 40,
   "metadata": {},
   "outputs": [
    {
     "data": {
      "text/plain": [
       "['/static/images/imgs/1162.jpg',\n",
       " '/static/images/imgs/119.jpg',\n",
       " '/static/images/imgs/1223.jpg',\n",
       " '/static/images/imgs/1268.jpg',\n",
       " '/static/images/imgs/1404.jpg',\n",
       " '/static/images/imgs/145.jpg',\n",
       " '/static/images/imgs/1524.jpg',\n",
       " '/static/images/imgs/1704.jpg',\n",
       " '/static/images/imgs/176.jpg',\n",
       " '/static/images/imgs/1834.jpg',\n",
       " '/static/images/imgs/1971.jpg',\n",
       " '/static/images/imgs/199.jpg',\n",
       " '/static/images/imgs/2016.jpg',\n",
       " '/static/images/imgs/2060.jpg',\n",
       " '/static/images/imgs/242.jpg',\n",
       " '/static/images/imgs/255.jpg',\n",
       " '/static/images/imgs/284.jpg',\n",
       " '/static/images/imgs/319.jpg',\n",
       " '/static/images/imgs/350.jpg',\n",
       " '/static/images/imgs/365.jpg',\n",
       " '/static/images/imgs/38.jpg',\n",
       " '/static/images/imgs/3830.jpg',\n",
       " '/static/images/imgs/399.jpg',\n",
       " '/static/images/imgs/408.jpg',\n",
       " '/static/images/imgs/485.jpg',\n",
       " '/static/images/imgs/520.jpg',\n",
       " '/static/images/imgs/561.jpg',\n",
       " '/static/images/imgs/600.jpg',\n",
       " '/static/images/imgs/645.jpg',\n",
       " '/static/images/imgs/837.jpg']"
      ]
     },
     "execution_count": 40,
     "metadata": {},
     "output_type": "execute_result"
    }
   ],
   "source": [
    "images = [i.replace('../deployment', '') for i in images]\n",
    "images"
   ]
  },
  {
   "cell_type": "markdown",
   "metadata": {},
   "source": [
    "Now we need to match up each image with its prediction."
   ]
  },
  {
   "cell_type": "code",
   "execution_count": 55,
   "metadata": {},
   "outputs": [],
   "source": [
    "paths_preds = zip(images, preds)"
   ]
  },
  {
   "cell_type": "markdown",
   "metadata": {},
   "source": [
    "Create an albums dictionary which will store the images in their predicted class."
   ]
  },
  {
   "cell_type": "markdown",
   "metadata": {},
   "source": [
    "_______\n",
    "don't need, don't run:"
   ]
  },
  {
   "cell_type": "code",
   "execution_count": 52,
   "metadata": {},
   "outputs": [],
   "source": [
    "albums = {'Buildings': [], 'Forest': [], 'Glaciers': [], \n",
    "          'Mountains': [], 'Sea': [], 'Streets': []}"
   ]
  },
  {
   "cell_type": "code",
   "execution_count": 53,
   "metadata": {},
   "outputs": [
    {
     "data": {
      "text/plain": [
       "{'Buildings': [],\n",
       " 'Forest': [],\n",
       " 'Glaciers': [],\n",
       " 'Mountains': [],\n",
       " 'Sea': [],\n",
       " 'Streets': []}"
      ]
     },
     "execution_count": 53,
     "metadata": {},
     "output_type": "execute_result"
    }
   ],
   "source": [
    "albums"
   ]
  },
  {
   "cell_type": "markdown",
   "metadata": {},
   "source": [
    "____"
   ]
  },
  {
   "cell_type": "markdown",
   "metadata": {},
   "source": [
    "Now, assign each image to its predicted class."
   ]
  },
  {
   "cell_type": "code",
   "execution_count": 49,
   "metadata": {},
   "outputs": [],
   "source": [
    "classes = {0: 'Buildings', 1: 'Forest', 2: 'Glaciers', 3: 'Mountains', 4: 'Sea', 5: 'Streets'}"
   ]
  },
  {
   "cell_type": "code",
   "execution_count": 57,
   "metadata": {},
   "outputs": [
    {
     "data": {
      "text/plain": [
       "{'Mountains': ['/static/images/imgs/119.jpg',\n",
       "  '/static/images/imgs/1223.jpg',\n",
       "  '/static/images/imgs/255.jpg',\n",
       "  '/static/images/imgs/319.jpg',\n",
       "  '/static/images/imgs/365.jpg',\n",
       "  '/static/images/imgs/399.jpg',\n",
       "  '/static/images/imgs/600.jpg'],\n",
       " 'Sea': ['/static/images/imgs/1268.jpg',\n",
       "  '/static/images/imgs/1834.jpg',\n",
       "  '/static/images/imgs/485.jpg'],\n",
       " 'Glaciers': ['/static/images/imgs/1404.jpg',\n",
       "  '/static/images/imgs/176.jpg',\n",
       "  '/static/images/imgs/38.jpg',\n",
       "  '/static/images/imgs/408.jpg',\n",
       "  '/static/images/imgs/561.jpg'],\n",
       " 'Streets': ['/static/images/imgs/145.jpg',\n",
       "  '/static/images/imgs/2016.jpg',\n",
       "  '/static/images/imgs/284.jpg',\n",
       "  '/static/images/imgs/3830.jpg'],\n",
       " 'Forest': ['/static/images/imgs/1524.jpg',\n",
       "  '/static/images/imgs/1704.jpg',\n",
       "  '/static/images/imgs/1971.jpg',\n",
       "  '/static/images/imgs/199.jpg',\n",
       "  '/static/images/imgs/2060.jpg'],\n",
       " 'Buildings': ['/static/images/imgs/242.jpg',\n",
       "  '/static/images/imgs/350.jpg',\n",
       "  '/static/images/imgs/520.jpg',\n",
       "  '/static/images/imgs/645.jpg',\n",
       "  '/static/images/imgs/837.jpg']}"
      ]
     },
     "execution_count": 57,
     "metadata": {},
     "output_type": "execute_result"
    }
   ],
   "source": [
    "albums = {}\n",
    "for image, pred in paths_preds:\n",
    "    if classes[pred] not in albums:\n",
    "        albums[classes[pred]] = []\n",
    "    albums[classes[pred]].append(image)\n",
    "    \n",
    "albums"
   ]
  },
  {
   "cell_type": "markdown",
   "metadata": {},
   "source": [
    "Now, pickle this dictionary so we can use it in our app. "
   ]
  },
  {
   "cell_type": "code",
   "execution_count": 58,
   "metadata": {},
   "outputs": [],
   "source": [
    "with open('predictions/demo_preds.pickle', 'wb') as f:\n",
    "    # Pickle the 'data' dictionary using the highest protocol available.\n",
    "    pickle.dump(albums, f, pickle.HIGHEST_PROTOCOL)"
   ]
  },
  {
   "cell_type": "code",
   "execution_count": null,
   "metadata": {},
   "outputs": [],
   "source": []
  }
 ],
 "metadata": {
  "kernelspec": {
   "display_name": "cap-env",
   "language": "python",
   "name": "cap-env"
  },
  "language_info": {
   "codemirror_mode": {
    "name": "ipython",
    "version": 3
   },
   "file_extension": ".py",
   "mimetype": "text/x-python",
   "name": "python",
   "nbconvert_exporter": "python",
   "pygments_lexer": "ipython3",
   "version": "3.6.10"
  }
 },
 "nbformat": 4,
 "nbformat_minor": 4
}
